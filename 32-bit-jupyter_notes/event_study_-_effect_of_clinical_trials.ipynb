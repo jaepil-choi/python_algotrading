{
 "cells": [
  {
   "cell_type": "markdown",
   "metadata": {},
   "source": [
    "# 제약주의 임상시험 직후 주가 반응 이벤트 스터디\n",
    "\n",
    "식약처 의약품 임상시험 리스트(link: https://nedrug.mfds.go.kr/searchClinic) 에서 상장기업을 골라낸 뒤 해당 임상시험 허가/불허 날짜를 찾고 분석에 적절한 종목을 선정한다. \n",
    "- 임상시험 허가심사 및 임상시험 결과가 미리 예측 가능하지 않아야 하며\n",
    "- 임상시험 이외의 외부요인에 주가가 영향을 많이 받지 않는 종목이어야 한다. (가령, 의약품 말고도 화장품/마스크 등 다른 사업을 많이 가지고 있는 경우.) \n",
    "\n",
    "해당 날짜의 임상 허가/불허 뉴스가 최초 게시된 시각을 알아낸다. (분 단위)\n",
    "\n",
    "그 시각 전후의 주가를 잘 관찰하여 적절한 estimation window, event window를 설정한다. \n",
    "\n",
    "한 종목에서 임상 뉴스에 대한 주가의 반응이 얼마나 빨리, 얼마나 나타나는지, 종목간의 차이는 어떤지 알아본다. \n",
    "\n",
    "## 프로젝트의 해결해야 할 이슈\n",
    "\n",
    "- 현업에서 일반적으로 바이오/제약 관련 이벤트 스터디가 어떻게 이뤄지고 있는지 확인해야 한다. \n",
    "- 아카데믹에서 일반적으로 바이오/제약 관련 이벤트 스터디가 어떻게 이뤄지고 있는지 확인해야 한다. \n",
    "- 임상시험 허가/불허가 아닌 임상시험 성공/실패 데이터를 구하는 것이 더 영향력이 크고, 중요할 것으로 생각된다. \n",
    "    - 관련하여, 금융위는 앞으로는 투자자의 혼란을 막기 위해 '임상시험 성공'이라는 표현을 사용할 수 없게했다. 그 말은 지금까지의 임상시험 성공/실패 관련 기사나 공시에는 객관적으로 성공/실패를 알기 힘든, 오해를 불러일으킬 수 있는 표현이 사용되었다고 해석할 수 있다. (기사 참고: http://biospectator.com/view/news_view.php?varAtcId=9502) \n",
    "- 이벤트 스터디와 관련하여, 어떻게 객관적으로 estimation window, event window를 설정하고 임상시험의 효과를 검증할 수 있을지 고민해봐야 한다. \n",
    "- 1분단위 고빈도 주가 데이터라는 점을 고려하여 정상수익률 모형을 어떻게 설정해야 하는지 고민해봐야 한다. "
   ]
  },
  {
   "cell_type": "code",
   "execution_count": 68,
   "metadata": {},
   "outputs": [],
   "source": [
    "import win32com.client\n",
    "\n",
    "import pandas as pd\n",
    "import pickle\n",
    "import matplotlib.pyplot as plt\n",
    "\n",
    "from sklearn import preprocessing\n",
    "import re"
   ]
  },
  {
   "cell_type": "markdown",
   "metadata": {},
   "source": [
    "### 식약처 임상시험 리스트를 불러온다. "
   ]
  },
  {
   "cell_type": "code",
   "execution_count": 54,
   "metadata": {},
   "outputs": [
    {
     "data": {
      "text/html": [
       "<div>\n",
       "<style scoped>\n",
       "    .dataframe tbody tr th:only-of-type {\n",
       "        vertical-align: middle;\n",
       "    }\n",
       "\n",
       "    .dataframe tbody tr th {\n",
       "        vertical-align: top;\n",
       "    }\n",
       "\n",
       "    .dataframe thead th {\n",
       "        text-align: right;\n",
       "    }\n",
       "</style>\n",
       "<table border=\"1\" class=\"dataframe\">\n",
       "  <thead>\n",
       "    <tr style=\"text-align: right;\">\n",
       "      <th></th>\n",
       "      <th>status</th>\n",
       "      <th>client</th>\n",
       "      <th>product_name</th>\n",
       "      <th>ingredients</th>\n",
       "      <th>clinical_trial_title</th>\n",
       "      <th>stage</th>\n",
       "      <th>is_domestic</th>\n",
       "      <th>test_institutions</th>\n",
       "      <th>approval_date</th>\n",
       "    </tr>\n",
       "  </thead>\n",
       "  <tbody>\n",
       "    <tr>\n",
       "      <th>0</th>\n",
       "      <td>승인완료</td>\n",
       "      <td>경희대학교병원</td>\n",
       "      <td>콜리스 주 Colis Inj.(품목기준코드: 201200983)</td>\n",
       "      <td>콜리스틴메탄설포네이트나트륨</td>\n",
       "      <td>건강한 자원자를 대상으로 Colistin 약동학 평가 및 신독성 예측 바이오마커를 ...</td>\n",
       "      <td>연구자 임상시험</td>\n",
       "      <td>국내개발</td>\n",
       "      <td>경희대학교병원</td>\n",
       "      <td>2020-02-14</td>\n",
       "    </tr>\n",
       "    <tr>\n",
       "      <th>1</th>\n",
       "      <td>승인완료</td>\n",
       "      <td>유유제약</td>\n",
       "      <td>YY두타스테리드정제(가칭) 0.5mg</td>\n",
       "      <td>YY두타스테리드정제(가칭) 0.5mg</td>\n",
       "      <td>㈜유유제약 “YY두타스테리드정제(가칭) 0.5 mg” 과 ㈜글락소스미스클라인 “아보...</td>\n",
       "      <td>1상</td>\n",
       "      <td>국내개발</td>\n",
       "      <td>에이치플러스 양지병원</td>\n",
       "      <td>2020-02-13</td>\n",
       "    </tr>\n",
       "    <tr>\n",
       "      <th>2</th>\n",
       "      <td>승인완료</td>\n",
       "      <td>연세대학교의과대학세브란스병원</td>\n",
       "      <td>pemetrexed</td>\n",
       "      <td>pemetrexed</td>\n",
       "      <td>전이성/재발성 연부조직 육종 환자에서 Pemetrexed/Cisplatin 화학요법...</td>\n",
       "      <td>연구자 임상시험</td>\n",
       "      <td>국내개발</td>\n",
       "      <td>연세대학교의과대학 강남세브란스병원,재단법인아산사회복지재단서울아산병원,삼성서울병원,연...</td>\n",
       "      <td>2020-02-12</td>\n",
       "    </tr>\n",
       "    <tr>\n",
       "      <th>3</th>\n",
       "      <td>승인완료</td>\n",
       "      <td>한양대학교병원</td>\n",
       "      <td>UN03</td>\n",
       "      <td>UN03</td>\n",
       "      <td>섬유화를 동반한 비알코올성 지방간염(NASH) 환자에서 UN03의 안전성 평가 및 ...</td>\n",
       "      <td>연구자 임상시험</td>\n",
       "      <td>국내개발</td>\n",
       "      <td>한양대학교병원</td>\n",
       "      <td>2020-02-12</td>\n",
       "    </tr>\n",
       "    <tr>\n",
       "      <th>4</th>\n",
       "      <td>승인완료</td>\n",
       "      <td>에스씨엠생명과학주식회사</td>\n",
       "      <td>SCM-AGH</td>\n",
       "      <td>동종골수유래중간엽줄기세포</td>\n",
       "      <td>ADT2002 시험에 참여했던 시험대상자에서 SCM-AGH에 대한 장기 안전성 추적...</td>\n",
       "      <td>연장</td>\n",
       "      <td>국내개발</td>\n",
       "      <td>인하대학교의과대학부속병원,강동경희대학교의대병원,건국대학교병원,고려대학교의과대학부속안...</td>\n",
       "      <td>2020-02-11</td>\n",
       "    </tr>\n",
       "  </tbody>\n",
       "</table>\n",
       "</div>"
      ],
      "text/plain": [
       "  status           client                         product_name  \\\n",
       "0   승인완료          경희대학교병원  콜리스 주 Colis Inj.(품목기준코드: 201200983)   \n",
       "1   승인완료             유유제약                 YY두타스테리드정제(가칭) 0.5mg   \n",
       "2   승인완료  연세대학교의과대학세브란스병원                           pemetrexed   \n",
       "3   승인완료          한양대학교병원                                 UN03   \n",
       "4   승인완료     에스씨엠생명과학주식회사                              SCM-AGH   \n",
       "\n",
       "            ingredients                               clinical_trial_title  \\\n",
       "0        콜리스틴메탄설포네이트나트륨  건강한 자원자를 대상으로 Colistin 약동학 평가 및 신독성 예측 바이오마커를 ...   \n",
       "1  YY두타스테리드정제(가칭) 0.5mg  ㈜유유제약 “YY두타스테리드정제(가칭) 0.5 mg” 과 ㈜글락소스미스클라인 “아보...   \n",
       "2            pemetrexed  전이성/재발성 연부조직 육종 환자에서 Pemetrexed/Cisplatin 화학요법...   \n",
       "3                  UN03  섬유화를 동반한 비알코올성 지방간염(NASH) 환자에서 UN03의 안전성 평가 및 ...   \n",
       "4         동종골수유래중간엽줄기세포  ADT2002 시험에 참여했던 시험대상자에서 SCM-AGH에 대한 장기 안전성 추적...   \n",
       "\n",
       "      stage is_domestic                                  test_institutions  \\\n",
       "0  연구자 임상시험        국내개발                                            경희대학교병원   \n",
       "1        1상        국내개발                                        에이치플러스 양지병원   \n",
       "2  연구자 임상시험        국내개발  연세대학교의과대학 강남세브란스병원,재단법인아산사회복지재단서울아산병원,삼성서울병원,연...   \n",
       "3  연구자 임상시험        국내개발                                            한양대학교병원   \n",
       "4        연장        국내개발  인하대학교의과대학부속병원,강동경희대학교의대병원,건국대학교병원,고려대학교의과대학부속안...   \n",
       "\n",
       "  approval_date  \n",
       "0    2020-02-14  \n",
       "1    2020-02-13  \n",
       "2    2020-02-12  \n",
       "3    2020-02-12  \n",
       "4    2020-02-11  "
      ]
     },
     "execution_count": 54,
     "metadata": {},
     "output_type": "execute_result"
    }
   ],
   "source": [
    "xlsx = pd.ExcelFile('./data_files/nedrug_mfds_ALL_20120101-20200214.xlsx')\n",
    "mfds_clinical_trials = pd.read_excel(xlsx, 'Sheet0')\n",
    "mfds_clinical_trials.columns = ['status', 'client', 'product_name', 'ingredients', 'clinical_trial_title', 'stage', 'is_domestic', 'test_institutions', 'approval_date']\n",
    "'''\n",
    "진행현황: status,\n",
    "의뢰자: client,\n",
    "제품명: product_name,\n",
    "성분명: ingredients,\n",
    "임상시험 제목: clinical_trial_title,\n",
    "임상시험 단계: stage,\n",
    "개발지역: is_domestic,\n",
    "실시기관: test_institutions,\n",
    "승인일: approval_date,\n",
    "'''\n",
    "mfds_clinical_trials.head()"
   ]
  },
  {
   "cell_type": "code",
   "execution_count": 55,
   "metadata": {},
   "outputs": [
    {
     "data": {
      "text/html": [
       "<div>\n",
       "<style scoped>\n",
       "    .dataframe tbody tr th:only-of-type {\n",
       "        vertical-align: middle;\n",
       "    }\n",
       "\n",
       "    .dataframe tbody tr th {\n",
       "        vertical-align: top;\n",
       "    }\n",
       "\n",
       "    .dataframe thead th {\n",
       "        text-align: right;\n",
       "    }\n",
       "</style>\n",
       "<table border=\"1\" class=\"dataframe\">\n",
       "  <thead>\n",
       "    <tr style=\"text-align: right;\">\n",
       "      <th></th>\n",
       "      <th>status</th>\n",
       "      <th>client</th>\n",
       "      <th>product_name</th>\n",
       "      <th>ingredients</th>\n",
       "      <th>clinical_trial_title</th>\n",
       "      <th>stage</th>\n",
       "      <th>is_domestic</th>\n",
       "      <th>test_institutions</th>\n",
       "      <th>approval_date</th>\n",
       "    </tr>\n",
       "  </thead>\n",
       "  <tbody>\n",
       "    <tr>\n",
       "      <th>count</th>\n",
       "      <td>5674</td>\n",
       "      <td>5674</td>\n",
       "      <td>5674</td>\n",
       "      <td>5536</td>\n",
       "      <td>5673</td>\n",
       "      <td>5674</td>\n",
       "      <td>5649</td>\n",
       "      <td>5608</td>\n",
       "      <td>5674</td>\n",
       "    </tr>\n",
       "    <tr>\n",
       "      <th>unique</th>\n",
       "      <td>3</td>\n",
       "      <td>586</td>\n",
       "      <td>3352</td>\n",
       "      <td>2943</td>\n",
       "      <td>5613</td>\n",
       "      <td>18</td>\n",
       "      <td>2</td>\n",
       "      <td>2920</td>\n",
       "      <td>1717</td>\n",
       "    </tr>\n",
       "    <tr>\n",
       "      <th>top</th>\n",
       "      <td>승인완료</td>\n",
       "      <td>서울대학교병원</td>\n",
       "      <td>MK-3475</td>\n",
       "      <td>MK-3475</td>\n",
       "      <td>건강한 성인 남성에서 음식물이 JLP-1310의 약동학적 특성에 미치는 영향을 평가...</td>\n",
       "      <td>1상</td>\n",
       "      <td>국내개발</td>\n",
       "      <td>서울대학교병원</td>\n",
       "      <td>2019-09-30</td>\n",
       "    </tr>\n",
       "    <tr>\n",
       "      <th>freq</th>\n",
       "      <td>2815</td>\n",
       "      <td>192</td>\n",
       "      <td>64</td>\n",
       "      <td>64</td>\n",
       "      <td>3</td>\n",
       "      <td>1631</td>\n",
       "      <td>3298</td>\n",
       "      <td>341</td>\n",
       "      <td>16</td>\n",
       "    </tr>\n",
       "  </tbody>\n",
       "</table>\n",
       "</div>"
      ],
      "text/plain": [
       "       status   client product_name ingredients  \\\n",
       "count    5674     5674         5674        5536   \n",
       "unique      3      586         3352        2943   \n",
       "top      승인완료  서울대학교병원      MK-3475     MK-3475   \n",
       "freq     2815      192           64          64   \n",
       "\n",
       "                                     clinical_trial_title stage is_domestic  \\\n",
       "count                                                5673  5674        5649   \n",
       "unique                                               5613    18           2   \n",
       "top     건강한 성인 남성에서 음식물이 JLP-1310의 약동학적 특성에 미치는 영향을 평가...    1상        국내개발   \n",
       "freq                                                    3  1631        3298   \n",
       "\n",
       "       test_institutions approval_date  \n",
       "count               5608          5674  \n",
       "unique              2920          1717  \n",
       "top              서울대학교병원    2019-09-30  \n",
       "freq                 341            16  "
      ]
     },
     "execution_count": 55,
     "metadata": {},
     "output_type": "execute_result"
    }
   ],
   "source": [
    "mfds_clinical_trials.describe()"
   ]
  },
  {
   "cell_type": "markdown",
   "metadata": {},
   "source": [
    "<h5 style='color:red'>TODO: Label Encoding</h5>"
   ]
  },
  {
   "cell_type": "code",
   "execution_count": 56,
   "metadata": {},
   "outputs": [
    {
     "data": {
      "text/plain": [
       "array(['승인완료', '모집완료', '종료'], dtype=object)"
      ]
     },
     "execution_count": 56,
     "metadata": {},
     "output_type": "execute_result"
    }
   ],
   "source": [
    "mfds_clinical_trials.status.unique()"
   ]
  },
  {
   "cell_type": "code",
   "execution_count": 57,
   "metadata": {},
   "outputs": [
    {
     "data": {
      "text/plain": [
       "array(['국내개발', '국외개발', nan], dtype=object)"
      ]
     },
     "execution_count": 57,
     "metadata": {},
     "output_type": "execute_result"
    }
   ],
   "source": [
    "mfds_clinical_trials.is_domestic.unique()"
   ]
  },
  {
   "cell_type": "code",
   "execution_count": 58,
   "metadata": {},
   "outputs": [
    {
     "data": {
      "text/html": [
       "<div>\n",
       "<style scoped>\n",
       "    .dataframe tbody tr th:only-of-type {\n",
       "        vertical-align: middle;\n",
       "    }\n",
       "\n",
       "    .dataframe tbody tr th {\n",
       "        vertical-align: top;\n",
       "    }\n",
       "\n",
       "    .dataframe thead th {\n",
       "        text-align: right;\n",
       "    }\n",
       "</style>\n",
       "<table border=\"1\" class=\"dataframe\">\n",
       "  <thead>\n",
       "    <tr style=\"text-align: right;\">\n",
       "      <th></th>\n",
       "      <th>status</th>\n",
       "      <th>client</th>\n",
       "      <th>product_name</th>\n",
       "      <th>ingredients</th>\n",
       "      <th>clinical_trial_title</th>\n",
       "      <th>stage</th>\n",
       "      <th>is_domestic</th>\n",
       "      <th>test_institutions</th>\n",
       "      <th>approval_date</th>\n",
       "    </tr>\n",
       "  </thead>\n",
       "  <tbody>\n",
       "    <tr>\n",
       "      <th>0</th>\n",
       "      <td>승인완료</td>\n",
       "      <td>경희대학교병원</td>\n",
       "      <td>콜리스 주 Colis Inj.(품목기준코드: 201200983)</td>\n",
       "      <td>콜리스틴메탄설포네이트나트륨</td>\n",
       "      <td>건강한 자원자를 대상으로 Colistin 약동학 평가 및 신독성 예측 바이오마커를 ...</td>\n",
       "      <td>연구자 임상시험</td>\n",
       "      <td>국내개발</td>\n",
       "      <td>경희대학교병원</td>\n",
       "      <td>2020-02-14</td>\n",
       "    </tr>\n",
       "    <tr>\n",
       "      <th>1</th>\n",
       "      <td>승인완료</td>\n",
       "      <td>유유제약</td>\n",
       "      <td>YY두타스테리드정제(가칭) 0.5mg</td>\n",
       "      <td>YY두타스테리드정제(가칭) 0.5mg</td>\n",
       "      <td>㈜유유제약 “YY두타스테리드정제(가칭) 0.5 mg” 과 ㈜글락소스미스클라인 “아보...</td>\n",
       "      <td>1상</td>\n",
       "      <td>국내개발</td>\n",
       "      <td>에이치플러스 양지병원</td>\n",
       "      <td>2020-02-13</td>\n",
       "    </tr>\n",
       "    <tr>\n",
       "      <th>2</th>\n",
       "      <td>승인완료</td>\n",
       "      <td>연세대학교의과대학세브란스병원</td>\n",
       "      <td>pemetrexed</td>\n",
       "      <td>pemetrexed</td>\n",
       "      <td>전이성/재발성 연부조직 육종 환자에서 Pemetrexed/Cisplatin 화학요법...</td>\n",
       "      <td>연구자 임상시험</td>\n",
       "      <td>국내개발</td>\n",
       "      <td>연세대학교의과대학 강남세브란스병원,재단법인아산사회복지재단서울아산병원,삼성서울병원,연...</td>\n",
       "      <td>2020-02-12</td>\n",
       "    </tr>\n",
       "    <tr>\n",
       "      <th>3</th>\n",
       "      <td>승인완료</td>\n",
       "      <td>한양대학교병원</td>\n",
       "      <td>UN03</td>\n",
       "      <td>UN03</td>\n",
       "      <td>섬유화를 동반한 비알코올성 지방간염(NASH) 환자에서 UN03의 안전성 평가 및 ...</td>\n",
       "      <td>연구자 임상시험</td>\n",
       "      <td>국내개발</td>\n",
       "      <td>한양대학교병원</td>\n",
       "      <td>2020-02-12</td>\n",
       "    </tr>\n",
       "    <tr>\n",
       "      <th>4</th>\n",
       "      <td>승인완료</td>\n",
       "      <td>에스씨엠생명과학주식회사</td>\n",
       "      <td>SCM-AGH</td>\n",
       "      <td>동종골수유래중간엽줄기세포</td>\n",
       "      <td>ADT2002 시험에 참여했던 시험대상자에서 SCM-AGH에 대한 장기 안전성 추적...</td>\n",
       "      <td>연장</td>\n",
       "      <td>국내개발</td>\n",
       "      <td>인하대학교의과대학부속병원,강동경희대학교의대병원,건국대학교병원,고려대학교의과대학부속안...</td>\n",
       "      <td>2020-02-11</td>\n",
       "    </tr>\n",
       "  </tbody>\n",
       "</table>\n",
       "</div>"
      ],
      "text/plain": [
       "  status           client                         product_name  \\\n",
       "0   승인완료          경희대학교병원  콜리스 주 Colis Inj.(품목기준코드: 201200983)   \n",
       "1   승인완료             유유제약                 YY두타스테리드정제(가칭) 0.5mg   \n",
       "2   승인완료  연세대학교의과대학세브란스병원                           pemetrexed   \n",
       "3   승인완료          한양대학교병원                                 UN03   \n",
       "4   승인완료     에스씨엠생명과학주식회사                              SCM-AGH   \n",
       "\n",
       "            ingredients                               clinical_trial_title  \\\n",
       "0        콜리스틴메탄설포네이트나트륨  건강한 자원자를 대상으로 Colistin 약동학 평가 및 신독성 예측 바이오마커를 ...   \n",
       "1  YY두타스테리드정제(가칭) 0.5mg  ㈜유유제약 “YY두타스테리드정제(가칭) 0.5 mg” 과 ㈜글락소스미스클라인 “아보...   \n",
       "2            pemetrexed  전이성/재발성 연부조직 육종 환자에서 Pemetrexed/Cisplatin 화학요법...   \n",
       "3                  UN03  섬유화를 동반한 비알코올성 지방간염(NASH) 환자에서 UN03의 안전성 평가 및 ...   \n",
       "4         동종골수유래중간엽줄기세포  ADT2002 시험에 참여했던 시험대상자에서 SCM-AGH에 대한 장기 안전성 추적...   \n",
       "\n",
       "      stage is_domestic                                  test_institutions  \\\n",
       "0  연구자 임상시험        국내개발                                            경희대학교병원   \n",
       "1        1상        국내개발                                        에이치플러스 양지병원   \n",
       "2  연구자 임상시험        국내개발  연세대학교의과대학 강남세브란스병원,재단법인아산사회복지재단서울아산병원,삼성서울병원,연...   \n",
       "3  연구자 임상시험        국내개발                                            한양대학교병원   \n",
       "4        연장        국내개발  인하대학교의과대학부속병원,강동경희대학교의대병원,건국대학교병원,고려대학교의과대학부속안...   \n",
       "\n",
       "  approval_date  \n",
       "0    2020-02-14  \n",
       "1    2020-02-13  \n",
       "2    2020-02-12  \n",
       "3    2020-02-12  \n",
       "4    2020-02-11  "
      ]
     },
     "execution_count": 58,
     "metadata": {},
     "output_type": "execute_result"
    }
   ],
   "source": [
    "mfds_clinical_trials.approval_date = pd.to_datetime(mfds_clinical_trials.approval_date, format='%Y-%m-%d')\n",
    "mfds_clinical_trials.head()"
   ]
  },
  {
   "cell_type": "code",
   "execution_count": 59,
   "metadata": {},
   "outputs": [
    {
     "name": "stdout",
     "output_type": "stream",
     "text": [
      "<class 'pandas.core.frame.DataFrame'>\n",
      "RangeIndex: 5674 entries, 0 to 5673\n",
      "Data columns (total 9 columns):\n",
      "status                  5674 non-null object\n",
      "client                  5674 non-null object\n",
      "product_name            5674 non-null object\n",
      "ingredients             5536 non-null object\n",
      "clinical_trial_title    5673 non-null object\n",
      "stage                   5674 non-null object\n",
      "is_domestic             5649 non-null object\n",
      "test_institutions       5608 non-null object\n",
      "approval_date           5674 non-null datetime64[ns]\n",
      "dtypes: datetime64[ns](1), object(8)\n",
      "memory usage: 221.7+ KB\n"
     ]
    }
   ],
   "source": [
    "mfds_clinical_trials.info()"
   ]
  },
  {
   "cell_type": "markdown",
   "metadata": {},
   "source": [
    "### 대신증권 CYBOS API를 이용해 종목코드 반환\n",
    "\n",
    "상장되지 않은 client는 자동으로 제외한다. "
   ]
  },
  {
   "cell_type": "code",
   "execution_count": 60,
   "metadata": {},
   "outputs": [],
   "source": [
    "## 식약처 client는 xxx(주), xxx주식회사 형식인 경우가 있음. 정식 종목명에선 없어야 한다.\n",
    "\n",
    "def stock_name_parser(name):\n",
    "    if '(주)' in name:\n",
    "        return name.strip('(주)')\n",
    "    elif '주식회사' in name:\n",
    "        return name.strip('주식회사')\n",
    "    else:\n",
    "        return name"
   ]
  },
  {
   "cell_type": "code",
   "execution_count": 61,
   "metadata": {},
   "outputs": [
    {
     "name": "stdout",
     "output_type": "stream",
     "text": [
      "1\n"
     ]
    }
   ],
   "source": [
    "## CYBOS와 연결 확인\n",
    "\n",
    "instCpCybos = win32com.client.Dispatch(\"CpUtil.CpCybos\")\n",
    "print(instCpCybos.IsConnect) # 1이면 성공"
   ]
  },
  {
   "cell_type": "code",
   "execution_count": 62,
   "metadata": {},
   "outputs": [],
   "source": [
    "instCpStockCode = win32com.client.Dispatch(\"CpUtil.CpStockCode\")"
   ]
  },
  {
   "cell_type": "code",
   "execution_count": 63,
   "metadata": {},
   "outputs": [],
   "source": [
    "def stock_name2ticker(name):\n",
    "    ticker = instCpStockCode.NameToCode(name)\n",
    "    if ticker == '':\n",
    "        return None\n",
    "    else:\n",
    "        return ticker"
   ]
  },
  {
   "cell_type": "code",
   "execution_count": 64,
   "metadata": {},
   "outputs": [
    {
     "data": {
      "text/plain": [
       "0       None\n",
       "1    A000220\n",
       "2       None\n",
       "3       None\n",
       "4       None\n",
       "Name: ticker, dtype: object"
      ]
     },
     "execution_count": 64,
     "metadata": {},
     "output_type": "execute_result"
    }
   ],
   "source": [
    "mfds_clinical_trials['ticker'] = mfds_clinical_trials.client.apply(stock_name_parser).apply(stock_name2ticker)\n",
    "mfds_clinical_trials.ticker.head()"
   ]
  },
  {
   "cell_type": "code",
   "execution_count": 65,
   "metadata": {},
   "outputs": [
    {
     "data": {
      "text/html": [
       "<div>\n",
       "<style scoped>\n",
       "    .dataframe tbody tr th:only-of-type {\n",
       "        vertical-align: middle;\n",
       "    }\n",
       "\n",
       "    .dataframe tbody tr th {\n",
       "        vertical-align: top;\n",
       "    }\n",
       "\n",
       "    .dataframe thead th {\n",
       "        text-align: right;\n",
       "    }\n",
       "</style>\n",
       "<table border=\"1\" class=\"dataframe\">\n",
       "  <thead>\n",
       "    <tr style=\"text-align: right;\">\n",
       "      <th></th>\n",
       "      <th>status</th>\n",
       "      <th>client</th>\n",
       "      <th>product_name</th>\n",
       "      <th>ingredients</th>\n",
       "      <th>clinical_trial_title</th>\n",
       "      <th>stage</th>\n",
       "      <th>is_domestic</th>\n",
       "      <th>test_institutions</th>\n",
       "      <th>approval_date</th>\n",
       "      <th>ticker</th>\n",
       "    </tr>\n",
       "  </thead>\n",
       "  <tbody>\n",
       "    <tr>\n",
       "      <th>1</th>\n",
       "      <td>승인완료</td>\n",
       "      <td>유유제약</td>\n",
       "      <td>YY두타스테리드정제(가칭) 0.5mg</td>\n",
       "      <td>YY두타스테리드정제(가칭) 0.5mg</td>\n",
       "      <td>㈜유유제약 “YY두타스테리드정제(가칭) 0.5 mg” 과 ㈜글락소스미스클라인 “아보...</td>\n",
       "      <td>1상</td>\n",
       "      <td>국내개발</td>\n",
       "      <td>에이치플러스 양지병원</td>\n",
       "      <td>2020-02-13</td>\n",
       "      <td>A000220</td>\n",
       "    </tr>\n",
       "    <tr>\n",
       "      <th>7</th>\n",
       "      <td>승인완료</td>\n",
       "      <td>(주)유한양행</td>\n",
       "      <td>YHP1906</td>\n",
       "      <td>YHP1906</td>\n",
       "      <td>YHP1906정 5밀리그램과 YHR1902정 5밀리그램의 생물학적동등성 평가를 위한...</td>\n",
       "      <td>1상</td>\n",
       "      <td>국내개발</td>\n",
       "      <td>인산의료재단 메트로병원,바이오코아(주)</td>\n",
       "      <td>2020-02-11</td>\n",
       "      <td>A000100</td>\n",
       "    </tr>\n",
       "    <tr>\n",
       "      <th>8</th>\n",
       "      <td>승인완료</td>\n",
       "      <td>동아에스티(주)</td>\n",
       "      <td>동아아토르바스타틴정80밀리그램(아토르바스타틴칼슘삼수화물)</td>\n",
       "      <td>아토르바스타틴칼슘삼수화물</td>\n",
       "      <td>동아에스티㈜ \"동아아토르바스타틴정80밀리그램(아토르바스타틴칼슘삼수화물)\"과 한국화이...</td>\n",
       "      <td>1상</td>\n",
       "      <td>국내개발</td>\n",
       "      <td>바이오코아(주),에이치플러스 양지병원</td>\n",
       "      <td>2020-02-11</td>\n",
       "      <td>A170900</td>\n",
       "    </tr>\n",
       "    <tr>\n",
       "      <th>12</th>\n",
       "      <td>승인완료</td>\n",
       "      <td>동아에스티(주)</td>\n",
       "      <td>슈가논정5밀리그램(에보글립틴타르타르산염)</td>\n",
       "      <td>에보글립틴타르타르산염(DA-1229)</td>\n",
       "      <td>Metformin과 evogliptin 병용 요법으로 혈당 조절이 불충분한 제2형 ...</td>\n",
       "      <td>3상</td>\n",
       "      <td>국내개발</td>\n",
       "      <td>한림대학교 성심병원,의료법인명지의료재단명지병원,가톨릭대학교부천성모병원,학교법인가톨릭...</td>\n",
       "      <td>2020-02-07</td>\n",
       "      <td>A170900</td>\n",
       "    </tr>\n",
       "    <tr>\n",
       "      <th>15</th>\n",
       "      <td>승인완료</td>\n",
       "      <td>환인제약(주)</td>\n",
       "      <td>팔페리돈서방정6밀리그램(팔리페리돈)</td>\n",
       "      <td>팔리페리돈</td>\n",
       "      <td>환인제약㈜의 “팔페리돈서방정 6밀리그램(팔리페리돈)”과 ㈜한국얀센의 “인베가서방정 ...</td>\n",
       "      <td>1상</td>\n",
       "      <td>국내개발</td>\n",
       "      <td>베스티안병원,바이오코아(주)</td>\n",
       "      <td>2020-02-07</td>\n",
       "      <td>A016580</td>\n",
       "    </tr>\n",
       "  </tbody>\n",
       "</table>\n",
       "</div>"
      ],
      "text/plain": [
       "   status    client                     product_name           ingredients  \\\n",
       "1    승인완료      유유제약             YY두타스테리드정제(가칭) 0.5mg  YY두타스테리드정제(가칭) 0.5mg   \n",
       "7    승인완료   (주)유한양행                          YHP1906               YHP1906   \n",
       "8    승인완료  동아에스티(주)  동아아토르바스타틴정80밀리그램(아토르바스타틴칼슘삼수화물)         아토르바스타틴칼슘삼수화물   \n",
       "12   승인완료  동아에스티(주)           슈가논정5밀리그램(에보글립틴타르타르산염)  에보글립틴타르타르산염(DA-1229)   \n",
       "15   승인완료   환인제약(주)              팔페리돈서방정6밀리그램(팔리페리돈)                 팔리페리돈   \n",
       "\n",
       "                                 clinical_trial_title stage is_domestic  \\\n",
       "1   ㈜유유제약 “YY두타스테리드정제(가칭) 0.5 mg” 과 ㈜글락소스미스클라인 “아보...    1상        국내개발   \n",
       "7   YHP1906정 5밀리그램과 YHR1902정 5밀리그램의 생물학적동등성 평가를 위한...    1상        국내개발   \n",
       "8   동아에스티㈜ \"동아아토르바스타틴정80밀리그램(아토르바스타틴칼슘삼수화물)\"과 한국화이...    1상        국내개발   \n",
       "12  Metformin과 evogliptin 병용 요법으로 혈당 조절이 불충분한 제2형 ...    3상        국내개발   \n",
       "15  환인제약㈜의 “팔페리돈서방정 6밀리그램(팔리페리돈)”과 ㈜한국얀센의 “인베가서방정 ...    1상        국내개발   \n",
       "\n",
       "                                    test_institutions approval_date   ticker  \n",
       "1                                         에이치플러스 양지병원    2020-02-13  A000220  \n",
       "7                               인산의료재단 메트로병원,바이오코아(주)    2020-02-11  A000100  \n",
       "8                                바이오코아(주),에이치플러스 양지병원    2020-02-11  A170900  \n",
       "12  한림대학교 성심병원,의료법인명지의료재단명지병원,가톨릭대학교부천성모병원,학교법인가톨릭...    2020-02-07  A170900  \n",
       "15                                    베스티안병원,바이오코아(주)    2020-02-07  A016580  "
      ]
     },
     "execution_count": 65,
     "metadata": {},
     "output_type": "execute_result"
    }
   ],
   "source": [
    "mfds_clinical_trials = mfds_clinical_trials.dropna(subset=['ticker'])\n",
    "mfds_clinical_trials.head()"
   ]
  },
  {
   "cell_type": "code",
   "execution_count": 155,
   "metadata": {},
   "outputs": [],
   "source": [
    "mfds_clinical_trials.to_pickle('./data_files/mfds_clinical_trials.pkl')"
   ]
  },
  {
   "cell_type": "markdown",
   "metadata": {},
   "source": [
    "### Example: 2월 7일 동아에스티 3상 승인"
   ]
  },
  {
   "cell_type": "code",
   "execution_count": 70,
   "metadata": {},
   "outputs": [],
   "source": [
    "instStockChart = win32com.client.Dispatch('CPSysDib.StockChart')\n",
    "ticker = 'A170900' # 동아에스티(주)"
   ]
  },
  {
   "cell_type": "code",
   "execution_count": 82,
   "metadata": {},
   "outputs": [],
   "source": [
    "# 종목과 조회조건 등을 설정. \n",
    "\n",
    "instStockChart.SetInputValue(0, ticker) # 첫 인자는 데이터 타입, 두 번째 인자는 입력 데이터 값. 0은 종목코드, A003540은 종목코드. \n",
    "instStockChart.SetInputValue(1, ord('2')) # 첫 번째 인자는 기간/요청 설정을 말하는 1. 두 번째 인자는 기간으로 요청 시 1, 개수로 요청시 2. \n",
    "\n",
    "instStockChart.SetInputValue(2, '20200207')\n",
    "\n",
    "instStockChart.SetInputValue(4, 1000) # 첫 번째 인자는 요청개수 설정을 말하는 4. 두 번째 인자는 실제로 몇 개 요청할 것인지 개수. (여기선 10개)\n",
    "instStockChart.SetInputValue(5, [0, 1, 2, 3, 4, 5, 8]) # 첫 번째 인자는 요청할 데이터의 종류를 말하는 5. 두 번째 인자는 어떤 인자를 요청할 지. 5는 종가. \n",
    "instStockChart.SetInputValue(6, ord('m')) # 첫 번째 인자는 차트의 종류를 말하는 6. 두 번째 인자는 어떤 차트인지. ord('D')는 일단위\n",
    "instStockChart.SetInputValue(9, ord('1')) # 첫 번째 인자는 수정주가의 반영여부를 말하는 9, 두 번째 인자는 수정주가를 의미하는 ord('1')"
   ]
  },
  {
   "cell_type": "code",
   "execution_count": 83,
   "metadata": {},
   "outputs": [
    {
     "data": {
      "text/plain": [
       "0"
      ]
     },
     "execution_count": 83,
     "metadata": {},
     "output_type": "execute_result"
    }
   ],
   "source": [
    "instStockChart.BlockRequest()"
   ]
  },
  {
   "cell_type": "code",
   "execution_count": 84,
   "metadata": {},
   "outputs": [
    {
     "name": "stdout",
     "output_type": "stream",
     "text": [
      "\n",
      "Header information\n",
      "\n",
      "Ticker: A170900\n",
      "Field names: ('날짜', '시간', '시가', '고가', '저가', '종가', '거래량')\n",
      "Data count: 1000\n",
      "\n"
     ]
    }
   ],
   "source": [
    "print(\"\"\"\n",
    "Header information\n",
    "\n",
    "Ticker: {ticker}\n",
    "Field names: {field_names}\n",
    "Data count: {data_count}\n",
    "\"\"\".format(\n",
    "    ticker=instStockChart.GetHeaderValue(0),\n",
    "    field_names=instStockChart.GetHeaderValue(2),\n",
    "    data_count=instStockChart.GetHeaderValue(3),\n",
    "))\n"
   ]
  },
  {
   "cell_type": "code",
   "execution_count": 85,
   "metadata": {},
   "outputs": [
    {
     "name": "stdout",
     "output_type": "stream",
     "text": [
      "1000 7\n"
     ]
    }
   ],
   "source": [
    "data_count = instStockChart.GetHeaderValue(3)\n",
    "fields_count = instStockChart.GetHeaderValue(1)\n",
    "print(data_count, fields_count)"
   ]
  },
  {
   "cell_type": "code",
   "execution_count": 86,
   "metadata": {},
   "outputs": [],
   "source": [
    "donga_m = []\n",
    "\n",
    "for i in range(data_count):\n",
    "    date = instStockChart.GetDataValue(0, i)\n",
    "    time = instStockChart.GetDataValue(1, i)\n",
    "    open_price = instStockChart.GetDataValue(2, i)\n",
    "    high_price = instStockChart.GetDataValue(3, i)\n",
    "    low_price = instStockChart.GetDataValue(4, i)\n",
    "    close_price = instStockChart.GetDataValue(5, i)\n",
    "    volume = instStockChart.GetDataValue(6, i)\n",
    "    \n",
    "    row_dic = {}\n",
    "    row_dic['date'] = date\n",
    "    row_dic['time'] = time\n",
    "    row_dic['open'] = open_price\n",
    "    row_dic['high'] = high_price\n",
    "    row_dic['low'] = low_price\n",
    "    row_dic['close'] = close_price\n",
    "    row_dic['volume'] = volume\n",
    "    \n",
    "    donga_m.append(row_dic)"
   ]
  },
  {
   "cell_type": "code",
   "execution_count": 87,
   "metadata": {},
   "outputs": [
    {
     "data": {
      "text/html": [
       "<div>\n",
       "<style scoped>\n",
       "    .dataframe tbody tr th:only-of-type {\n",
       "        vertical-align: middle;\n",
       "    }\n",
       "\n",
       "    .dataframe tbody tr th {\n",
       "        vertical-align: top;\n",
       "    }\n",
       "\n",
       "    .dataframe thead th {\n",
       "        text-align: right;\n",
       "    }\n",
       "</style>\n",
       "<table border=\"1\" class=\"dataframe\">\n",
       "  <thead>\n",
       "    <tr style=\"text-align: right;\">\n",
       "      <th></th>\n",
       "      <th>date</th>\n",
       "      <th>time</th>\n",
       "      <th>open</th>\n",
       "      <th>high</th>\n",
       "      <th>low</th>\n",
       "      <th>close</th>\n",
       "      <th>volume</th>\n",
       "    </tr>\n",
       "  </thead>\n",
       "  <tbody>\n",
       "    <tr>\n",
       "      <th>0</th>\n",
       "      <td>20200207</td>\n",
       "      <td>1530</td>\n",
       "      <td>94700</td>\n",
       "      <td>94700</td>\n",
       "      <td>94700</td>\n",
       "      <td>94700</td>\n",
       "      <td>1570</td>\n",
       "    </tr>\n",
       "    <tr>\n",
       "      <th>1</th>\n",
       "      <td>20200207</td>\n",
       "      <td>1520</td>\n",
       "      <td>94800</td>\n",
       "      <td>94800</td>\n",
       "      <td>94300</td>\n",
       "      <td>94300</td>\n",
       "      <td>411</td>\n",
       "    </tr>\n",
       "    <tr>\n",
       "      <th>2</th>\n",
       "      <td>20200207</td>\n",
       "      <td>1519</td>\n",
       "      <td>94900</td>\n",
       "      <td>94900</td>\n",
       "      <td>94900</td>\n",
       "      <td>94900</td>\n",
       "      <td>25</td>\n",
       "    </tr>\n",
       "    <tr>\n",
       "      <th>3</th>\n",
       "      <td>20200207</td>\n",
       "      <td>1518</td>\n",
       "      <td>95200</td>\n",
       "      <td>95200</td>\n",
       "      <td>94800</td>\n",
       "      <td>94900</td>\n",
       "      <td>60</td>\n",
       "    </tr>\n",
       "    <tr>\n",
       "      <th>4</th>\n",
       "      <td>20200207</td>\n",
       "      <td>1517</td>\n",
       "      <td>94300</td>\n",
       "      <td>95500</td>\n",
       "      <td>94200</td>\n",
       "      <td>95200</td>\n",
       "      <td>1242</td>\n",
       "    </tr>\n",
       "  </tbody>\n",
       "</table>\n",
       "</div>"
      ],
      "text/plain": [
       "       date  time   open   high    low  close  volume\n",
       "0  20200207  1530  94700  94700  94700  94700    1570\n",
       "1  20200207  1520  94800  94800  94300  94300     411\n",
       "2  20200207  1519  94900  94900  94900  94900      25\n",
       "3  20200207  1518  95200  95200  94800  94900      60\n",
       "4  20200207  1517  94300  95500  94200  95200    1242"
      ]
     },
     "execution_count": 87,
     "metadata": {},
     "output_type": "execute_result"
    }
   ],
   "source": [
    "# TODO: 변수 네이밍 바꿔주자 _df 붙일 대상 정하고 time series와 아닌것 구분\n",
    "\n",
    "donga_ts_m_df = pd.DataFrame(donga_m)\n",
    "donga_ts_m_df.head()"
   ]
  },
  {
   "cell_type": "code",
   "execution_count": 88,
   "metadata": {},
   "outputs": [
    {
     "data": {
      "text/html": [
       "<div>\n",
       "<style scoped>\n",
       "    .dataframe tbody tr th:only-of-type {\n",
       "        vertical-align: middle;\n",
       "    }\n",
       "\n",
       "    .dataframe tbody tr th {\n",
       "        vertical-align: top;\n",
       "    }\n",
       "\n",
       "    .dataframe thead th {\n",
       "        text-align: right;\n",
       "    }\n",
       "</style>\n",
       "<table border=\"1\" class=\"dataframe\">\n",
       "  <thead>\n",
       "    <tr style=\"text-align: right;\">\n",
       "      <th></th>\n",
       "      <th>date</th>\n",
       "      <th>time</th>\n",
       "      <th>open</th>\n",
       "      <th>high</th>\n",
       "      <th>low</th>\n",
       "      <th>close</th>\n",
       "      <th>volume</th>\n",
       "    </tr>\n",
       "  </thead>\n",
       "  <tbody>\n",
       "    <tr>\n",
       "      <th>995</th>\n",
       "      <td>20200205</td>\n",
       "      <td>1050</td>\n",
       "      <td>92800</td>\n",
       "      <td>92800</td>\n",
       "      <td>92800</td>\n",
       "      <td>92800</td>\n",
       "      <td>1</td>\n",
       "    </tr>\n",
       "    <tr>\n",
       "      <th>996</th>\n",
       "      <td>20200205</td>\n",
       "      <td>1049</td>\n",
       "      <td>92800</td>\n",
       "      <td>92800</td>\n",
       "      <td>92800</td>\n",
       "      <td>92800</td>\n",
       "      <td>3</td>\n",
       "    </tr>\n",
       "    <tr>\n",
       "      <th>997</th>\n",
       "      <td>20200205</td>\n",
       "      <td>1048</td>\n",
       "      <td>92900</td>\n",
       "      <td>92900</td>\n",
       "      <td>92800</td>\n",
       "      <td>92800</td>\n",
       "      <td>36</td>\n",
       "    </tr>\n",
       "    <tr>\n",
       "      <th>998</th>\n",
       "      <td>20200205</td>\n",
       "      <td>1047</td>\n",
       "      <td>92800</td>\n",
       "      <td>92800</td>\n",
       "      <td>92800</td>\n",
       "      <td>92800</td>\n",
       "      <td>46</td>\n",
       "    </tr>\n",
       "    <tr>\n",
       "      <th>999</th>\n",
       "      <td>20200205</td>\n",
       "      <td>1046</td>\n",
       "      <td>92900</td>\n",
       "      <td>92900</td>\n",
       "      <td>92800</td>\n",
       "      <td>92800</td>\n",
       "      <td>5</td>\n",
       "    </tr>\n",
       "  </tbody>\n",
       "</table>\n",
       "</div>"
      ],
      "text/plain": [
       "         date  time   open   high    low  close  volume\n",
       "995  20200205  1050  92800  92800  92800  92800       1\n",
       "996  20200205  1049  92800  92800  92800  92800       3\n",
       "997  20200205  1048  92900  92900  92800  92800      36\n",
       "998  20200205  1047  92800  92800  92800  92800      46\n",
       "999  20200205  1046  92900  92900  92800  92800       5"
      ]
     },
     "execution_count": 88,
     "metadata": {},
     "output_type": "execute_result"
    }
   ],
   "source": [
    "donga_ts_m_df.tail()"
   ]
  },
  {
   "cell_type": "code",
   "execution_count": 89,
   "metadata": {},
   "outputs": [
    {
     "data": {
      "text/html": [
       "<div>\n",
       "<style scoped>\n",
       "    .dataframe tbody tr th:only-of-type {\n",
       "        vertical-align: middle;\n",
       "    }\n",
       "\n",
       "    .dataframe tbody tr th {\n",
       "        vertical-align: top;\n",
       "    }\n",
       "\n",
       "    .dataframe thead th {\n",
       "        text-align: right;\n",
       "    }\n",
       "</style>\n",
       "<table border=\"1\" class=\"dataframe\">\n",
       "  <thead>\n",
       "    <tr style=\"text-align: right;\">\n",
       "      <th></th>\n",
       "      <th>date</th>\n",
       "      <th>time</th>\n",
       "      <th>open</th>\n",
       "      <th>high</th>\n",
       "      <th>low</th>\n",
       "      <th>close</th>\n",
       "      <th>volume</th>\n",
       "    </tr>\n",
       "  </thead>\n",
       "  <tbody>\n",
       "    <tr>\n",
       "      <th>0</th>\n",
       "      <td>20200207</td>\n",
       "      <td>1530</td>\n",
       "      <td>94700</td>\n",
       "      <td>94700</td>\n",
       "      <td>94700</td>\n",
       "      <td>94700</td>\n",
       "      <td>1570</td>\n",
       "    </tr>\n",
       "    <tr>\n",
       "      <th>1</th>\n",
       "      <td>20200207</td>\n",
       "      <td>1520</td>\n",
       "      <td>94800</td>\n",
       "      <td>94800</td>\n",
       "      <td>94300</td>\n",
       "      <td>94300</td>\n",
       "      <td>411</td>\n",
       "    </tr>\n",
       "    <tr>\n",
       "      <th>2</th>\n",
       "      <td>20200207</td>\n",
       "      <td>1519</td>\n",
       "      <td>94900</td>\n",
       "      <td>94900</td>\n",
       "      <td>94900</td>\n",
       "      <td>94900</td>\n",
       "      <td>25</td>\n",
       "    </tr>\n",
       "    <tr>\n",
       "      <th>3</th>\n",
       "      <td>20200207</td>\n",
       "      <td>1518</td>\n",
       "      <td>95200</td>\n",
       "      <td>95200</td>\n",
       "      <td>94800</td>\n",
       "      <td>94900</td>\n",
       "      <td>60</td>\n",
       "    </tr>\n",
       "    <tr>\n",
       "      <th>4</th>\n",
       "      <td>20200207</td>\n",
       "      <td>1517</td>\n",
       "      <td>94300</td>\n",
       "      <td>95500</td>\n",
       "      <td>94200</td>\n",
       "      <td>95200</td>\n",
       "      <td>1242</td>\n",
       "    </tr>\n",
       "  </tbody>\n",
       "</table>\n",
       "</div>"
      ],
      "text/plain": [
       "       date  time   open   high    low  close  volume\n",
       "0  20200207  1530  94700  94700  94700  94700    1570\n",
       "1  20200207  1520  94800  94800  94300  94300     411\n",
       "2  20200207  1519  94900  94900  94900  94900      25\n",
       "3  20200207  1518  95200  95200  94800  94900      60\n",
       "4  20200207  1517  94300  95500  94200  95200    1242"
      ]
     },
     "execution_count": 89,
     "metadata": {},
     "output_type": "execute_result"
    }
   ],
   "source": [
    "donga_0211 = donga_ts_m_df[donga_ts_m_df.date == 20200207]\n",
    "donga_0211.head()"
   ]
  },
  {
   "cell_type": "code",
   "execution_count": 90,
   "metadata": {},
   "outputs": [
    {
     "data": {
      "text/plain": [
       "<matplotlib.axes._subplots.AxesSubplot at 0x1d023d70>"
      ]
     },
     "execution_count": 90,
     "metadata": {},
     "output_type": "execute_result"
    },
    {
     "data": {
      "image/png": "[encoded data removed]",
      "text/plain": [
       "<Figure size 432x288 with 1 Axes>"
      ]
     },
     "metadata": {
      "needs_background": "light"
     },
     "output_type": "display_data"
    }
   ],
   "source": [
    "donga_0211.plot(x='time', y='close')"
   ]
  },
  {
   "cell_type": "markdown",
   "metadata": {},
   "source": [
    "## 프로젝트 방향 수정\n",
    "\n",
    "### 식약처 임상 승인은 중요한 변수가 아니다. \n",
    "\n",
    "2월 7일 동아에스티 관련 기사가 어떤 것이 있는지 알아보기 위해 네이버 뉴스를 검색했지만 임상 승인 관련하여 어떤 기사도 나오지 않았다. 만약 주가에 영향을 주는 호재라면 앞다투어 보도가 되어야 하는데 기사가 한 개도 없는 것이 이상했다. \n",
    "\n",
    "게다가 기존 데이터에서 status column을 보면 [승인완료, 모집완료, 종료] 세 가지 값밖에 없다. 승인거부 같은 것은 없다. 이러한 사실들을 토대로 생각했을 때, 식약처 임상 승인은 약의 성공 여부를 판가름하는 것과는 거리가 멀고, 임상 시작 단계의 단순히 행정적인 절차로 보인다. \n",
    "\n",
    "한국임상시험포털 K-CLIC 임상시험 진행단계와 절차 설명:\n",
    "https://www.koreaclinicaltrials.org/kr/contents/kclic_info_04/view.do\n",
    "\n",
    "### 임상은 쉽사리 성공/실패로 판가름 나지 않는다. \n",
    "\n",
    "임상시험 결과는 통계적 유의성을 감안하여 직접 연구 결과를 해결해야 하는 일이다. 쉽게 성공/실패로 나누지 못하며, 결과 해석을 위해선 약학적인 지식이 필요한 것으로 보인다. \n",
    "\n",
    "다만, 이론의 여지 없이 악재로 해석할 수 있는 경우도 분명히 존재한다. 가령 2019.08.02 발생한 신라젠 3상 실패 최초 보도 기사는: \"신라젠, DMC서 펙사벡 글로벌 임상3상 중단 권고\" 와 같은 내용이었는데, 누가 읽어도 사실상의 임상 3상 실패라고 해석할 수 있다. \n",
    "\n",
    "기사 링크: http://news.mtn.co.kr/newscenter/news_viewer.mtn?gidx=2019080208315423984 보도시간 08:33\n",
    "\n",
    "### 중요 긴급 공시는 DART에 나와있다. \n",
    "\n",
    "따라서 식약처 임상승인 데이터는 큰 쓸모가 없고, 임상의 성공이나 실패에 관련하여 투자자에게 즉각적인 충격을 주는 데이터 소스를 찾아야 한다. DART에는 중요한 사항에 대한 공시가 빠르게 올라오는 것으로 보인다. \n",
    "\n",
    "DART 코스닥 시장 2019.08.02(신라젠 임상3상 실패) 공시: http://dart.fss.or.kr/dsac001/mainK.do?selectDate=2019.08.02&sort=&series=&mdayCnt=0 공시시간 08:23\n",
    "\n",
    "\"투자판단관련주요경영사항 (펙사벡(JX-594)간암 대상 임상 3상시험(PHOCUS) 관려 무용성 평가 결과 확인)\"와 같이 나와있다. \n",
    "\n",
    "### 공시 시간 != 장중 일 개연성이 높다. \n",
    "\n",
    "악재가 장중 발표되면 주가에 즉각적인 영향을 끼치기 때문에 일부러 공시시간을 금요일 저녁에 하거나 장이 열리기 전, 또는 닫힌 직후에 할 것이라고 의심된다. \n",
    "\n",
    "분단위 데이터로 event study 시 매일매일의 주식시장 사이에 텀이 있기 때문에 데이터가 불연속적으로 나타난다. 가급적 장중 발표되는 호재/악재를 연구하는 것이 더 좋을 것으로 추측되는 만큼 지진, 화재, 교통사고 등과 같이 상식적으로 시점 조작이 불가능하다 생각되는 사건을 바탕으로 보는 것이 더 좋을 수도 있다는 생각이 든다. "
   ]
  },
  {
   "cell_type": "markdown",
   "metadata": {},
   "source": [
    "### Example: 2019.08.02 신라젠 3상 실패"
   ]
  },
  {
   "cell_type": "code",
   "execution_count": 135,
   "metadata": {},
   "outputs": [
    {
     "data": {
      "text/plain": [
       "'A215600'"
      ]
     },
     "execution_count": 135,
     "metadata": {},
     "output_type": "execute_result"
    }
   ],
   "source": [
    "instStockChart = win32com.client.Dispatch('CPSysDib.StockChart')\n",
    "ticker = instCpStockCode.NameToCode('신라젠')\n",
    "ticker"
   ]
  },
  {
   "cell_type": "code",
   "execution_count": 136,
   "metadata": {},
   "outputs": [],
   "source": [
    "# 종목과 조회조건 등을 설정. \n",
    "\n",
    "instStockChart.SetInputValue(0, ticker) # 첫 인자는 데이터 타입, 두 번째 인자는 입력 데이터 값. 0은 종목코드, A003540은 종목코드. \n",
    "instStockChart.SetInputValue(1, ord('2')) # 첫 번째 인자는 기간/요청 설정을 말하는 1. 두 번째 인자는 기간으로 요청 시 1, 개수로 요청시 2. \n",
    "\n",
    "instStockChart.SetInputValue(2, '20190803') \n",
    "\n",
    "instStockChart.SetInputValue(4, 1000) # 첫 번째 인자는 요청개수 설정을 말하는 4. 두 번째 인자는 실제로 몇 개 요청할 것인지 개수. (여기선 10개)\n",
    "instStockChart.SetInputValue(5, [0, 1, 2, 3, 4, 5, 8]) # 첫 번째 인자는 요청할 데이터의 종류를 말하는 5. 두 번째 인자는 어떤 인자를 요청할 지. 5는 종가. \n",
    "instStockChart.SetInputValue(6, ord('m')) # 첫 번째 인자는 차트의 종류를 말하는 6. 두 번째 인자는 어떤 차트인지. ord('D')는 일단위\n",
    "instStockChart.SetInputValue(9, ord('1')) # 첫 번째 인자는 수정주가의 반영여부를 말하는 9, 두 번째 인자는 수정주가를 의미하는 ord('1')"
   ]
  },
  {
   "cell_type": "code",
   "execution_count": 137,
   "metadata": {},
   "outputs": [
    {
     "data": {
      "text/plain": [
       "0"
      ]
     },
     "execution_count": 137,
     "metadata": {},
     "output_type": "execute_result"
    }
   ],
   "source": [
    "instStockChart.BlockRequest()"
   ]
  },
  {
   "cell_type": "code",
   "execution_count": 138,
   "metadata": {},
   "outputs": [
    {
     "name": "stdout",
     "output_type": "stream",
     "text": [
      "\n",
      "Header information\n",
      "\n",
      "Ticker: A215600\n",
      "Field names: ('날짜', '시간', '시가', '고가', '저가', '종가', '거래량')\n",
      "Data count: 1000\n",
      "\n"
     ]
    }
   ],
   "source": [
    "print(\"\"\"\n",
    "Header information\n",
    "\n",
    "Ticker: {ticker}\n",
    "Field names: {field_names}\n",
    "Data count: {data_count}\n",
    "\"\"\".format(\n",
    "    ticker=instStockChart.GetHeaderValue(0),\n",
    "    field_names=instStockChart.GetHeaderValue(2),\n",
    "    data_count=instStockChart.GetHeaderValue(3),\n",
    "))\n"
   ]
  },
  {
   "cell_type": "code",
   "execution_count": 139,
   "metadata": {},
   "outputs": [
    {
     "name": "stdout",
     "output_type": "stream",
     "text": [
      "1000 7\n"
     ]
    }
   ],
   "source": [
    "data_count = instStockChart.GetHeaderValue(3)\n",
    "fields_count = instStockChart.GetHeaderValue(1)\n",
    "print(data_count, fields_count)"
   ]
  },
  {
   "cell_type": "code",
   "execution_count": 140,
   "metadata": {},
   "outputs": [],
   "source": [
    "sillajen_m = []\n",
    "\n",
    "for i in range(data_count):\n",
    "    date = instStockChart.GetDataValue(0, i)\n",
    "    time = instStockChart.GetDataValue(1, i)\n",
    "    open_price = instStockChart.GetDataValue(2, i)\n",
    "    high_price = instStockChart.GetDataValue(3, i)\n",
    "    low_price = instStockChart.GetDataValue(4, i)\n",
    "    close_price = instStockChart.GetDataValue(5, i)\n",
    "    volume = instStockChart.GetDataValue(6, i)\n",
    "    \n",
    "    row_dic = {}\n",
    "    row_dic['date'] = date\n",
    "    row_dic['time'] = time\n",
    "    row_dic['open'] = open_price\n",
    "    row_dic['high'] = high_price\n",
    "    row_dic['low'] = low_price\n",
    "    row_dic['close'] = close_price\n",
    "    row_dic['volume'] = volume\n",
    "    \n",
    "    sillajen_m.append(row_dic)"
   ]
  },
  {
   "cell_type": "code",
   "execution_count": 141,
   "metadata": {},
   "outputs": [
    {
     "data": {
      "text/html": [
       "<div>\n",
       "<style scoped>\n",
       "    .dataframe tbody tr th:only-of-type {\n",
       "        vertical-align: middle;\n",
       "    }\n",
       "\n",
       "    .dataframe tbody tr th {\n",
       "        vertical-align: top;\n",
       "    }\n",
       "\n",
       "    .dataframe thead th {\n",
       "        text-align: right;\n",
       "    }\n",
       "</style>\n",
       "<table border=\"1\" class=\"dataframe\">\n",
       "  <thead>\n",
       "    <tr style=\"text-align: right;\">\n",
       "      <th></th>\n",
       "      <th>date</th>\n",
       "      <th>time</th>\n",
       "      <th>open</th>\n",
       "      <th>high</th>\n",
       "      <th>low</th>\n",
       "      <th>close</th>\n",
       "      <th>volume</th>\n",
       "    </tr>\n",
       "  </thead>\n",
       "  <tbody>\n",
       "    <tr>\n",
       "      <th>0</th>\n",
       "      <td>20190802</td>\n",
       "      <td>1530</td>\n",
       "      <td>31200</td>\n",
       "      <td>31200</td>\n",
       "      <td>31200</td>\n",
       "      <td>31200</td>\n",
       "      <td>2075</td>\n",
       "    </tr>\n",
       "    <tr>\n",
       "      <th>1</th>\n",
       "      <td>20190802</td>\n",
       "      <td>1520</td>\n",
       "      <td>31200</td>\n",
       "      <td>31200</td>\n",
       "      <td>31200</td>\n",
       "      <td>31200</td>\n",
       "      <td>630</td>\n",
       "    </tr>\n",
       "    <tr>\n",
       "      <th>2</th>\n",
       "      <td>20190802</td>\n",
       "      <td>1519</td>\n",
       "      <td>31200</td>\n",
       "      <td>31200</td>\n",
       "      <td>31200</td>\n",
       "      <td>31200</td>\n",
       "      <td>17</td>\n",
       "    </tr>\n",
       "    <tr>\n",
       "      <th>3</th>\n",
       "      <td>20190802</td>\n",
       "      <td>1518</td>\n",
       "      <td>31200</td>\n",
       "      <td>31200</td>\n",
       "      <td>31200</td>\n",
       "      <td>31200</td>\n",
       "      <td>48</td>\n",
       "    </tr>\n",
       "    <tr>\n",
       "      <th>4</th>\n",
       "      <td>20190802</td>\n",
       "      <td>1517</td>\n",
       "      <td>31200</td>\n",
       "      <td>31200</td>\n",
       "      <td>31200</td>\n",
       "      <td>31200</td>\n",
       "      <td>351</td>\n",
       "    </tr>\n",
       "  </tbody>\n",
       "</table>\n",
       "</div>"
      ],
      "text/plain": [
       "       date  time   open   high    low  close  volume\n",
       "0  20190802  1530  31200  31200  31200  31200    2075\n",
       "1  20190802  1520  31200  31200  31200  31200     630\n",
       "2  20190802  1519  31200  31200  31200  31200      17\n",
       "3  20190802  1518  31200  31200  31200  31200      48\n",
       "4  20190802  1517  31200  31200  31200  31200     351"
      ]
     },
     "execution_count": 141,
     "metadata": {},
     "output_type": "execute_result"
    }
   ],
   "source": [
    "# TODO: 변수 네이밍 바꿔주자 _df 붙일 대상 정하고 time series와 아닌것 구분\n",
    "\n",
    "sillajen_ts_m_df = pd.DataFrame(sillajen_m)\n",
    "sillajen_ts_m_df.head()"
   ]
  },
  {
   "cell_type": "code",
   "execution_count": 142,
   "metadata": {},
   "outputs": [
    {
     "data": {
      "text/html": [
       "<div>\n",
       "<style scoped>\n",
       "    .dataframe tbody tr th:only-of-type {\n",
       "        vertical-align: middle;\n",
       "    }\n",
       "\n",
       "    .dataframe tbody tr th {\n",
       "        vertical-align: top;\n",
       "    }\n",
       "\n",
       "    .dataframe thead th {\n",
       "        text-align: right;\n",
       "    }\n",
       "</style>\n",
       "<table border=\"1\" class=\"dataframe\">\n",
       "  <thead>\n",
       "    <tr style=\"text-align: right;\">\n",
       "      <th></th>\n",
       "      <th>date</th>\n",
       "      <th>time</th>\n",
       "      <th>open</th>\n",
       "      <th>high</th>\n",
       "      <th>low</th>\n",
       "      <th>close</th>\n",
       "      <th>volume</th>\n",
       "    </tr>\n",
       "  </thead>\n",
       "  <tbody>\n",
       "    <tr>\n",
       "      <th>0</th>\n",
       "      <td>2019-08-02</td>\n",
       "      <td>15:30:00</td>\n",
       "      <td>31200</td>\n",
       "      <td>31200</td>\n",
       "      <td>31200</td>\n",
       "      <td>31200</td>\n",
       "      <td>2075</td>\n",
       "    </tr>\n",
       "    <tr>\n",
       "      <th>1</th>\n",
       "      <td>2019-08-02</td>\n",
       "      <td>15:20:00</td>\n",
       "      <td>31200</td>\n",
       "      <td>31200</td>\n",
       "      <td>31200</td>\n",
       "      <td>31200</td>\n",
       "      <td>630</td>\n",
       "    </tr>\n",
       "    <tr>\n",
       "      <th>2</th>\n",
       "      <td>2019-08-02</td>\n",
       "      <td>15:19:00</td>\n",
       "      <td>31200</td>\n",
       "      <td>31200</td>\n",
       "      <td>31200</td>\n",
       "      <td>31200</td>\n",
       "      <td>17</td>\n",
       "    </tr>\n",
       "    <tr>\n",
       "      <th>3</th>\n",
       "      <td>2019-08-02</td>\n",
       "      <td>15:18:00</td>\n",
       "      <td>31200</td>\n",
       "      <td>31200</td>\n",
       "      <td>31200</td>\n",
       "      <td>31200</td>\n",
       "      <td>48</td>\n",
       "    </tr>\n",
       "    <tr>\n",
       "      <th>4</th>\n",
       "      <td>2019-08-02</td>\n",
       "      <td>15:17:00</td>\n",
       "      <td>31200</td>\n",
       "      <td>31200</td>\n",
       "      <td>31200</td>\n",
       "      <td>31200</td>\n",
       "      <td>351</td>\n",
       "    </tr>\n",
       "  </tbody>\n",
       "</table>\n",
       "</div>"
      ],
      "text/plain": [
       "        date      time   open   high    low  close  volume\n",
       "0 2019-08-02  15:30:00  31200  31200  31200  31200    2075\n",
       "1 2019-08-02  15:20:00  31200  31200  31200  31200     630\n",
       "2 2019-08-02  15:19:00  31200  31200  31200  31200      17\n",
       "3 2019-08-02  15:18:00  31200  31200  31200  31200      48\n",
       "4 2019-08-02  15:17:00  31200  31200  31200  31200     351"
      ]
     },
     "execution_count": 142,
     "metadata": {},
     "output_type": "execute_result"
    }
   ],
   "source": [
    "sillajen_ts_m_df.date = pd.to_datetime(sillajen_ts_m_df.date, format='%Y%m%d')\n",
    "sillajen_ts_m_df.time = pd.to_datetime(sillajen_ts_m_df.time, format='%H%M').dt.time\n",
    "sillajen_ts_m_df.head()"
   ]
  },
  {
   "cell_type": "markdown",
   "metadata": {},
   "source": [
    "date와 time의 type이 일치하지 않는다. 둘 다 str으로 바꾼 뒤 합쳐 다시 datetime으로 파싱시키겠다."
   ]
  },
  {
   "cell_type": "code",
   "execution_count": 143,
   "metadata": {},
   "outputs": [
    {
     "data": {
      "text/html": [
       "<div>\n",
       "<style scoped>\n",
       "    .dataframe tbody tr th:only-of-type {\n",
       "        vertical-align: middle;\n",
       "    }\n",
       "\n",
       "    .dataframe tbody tr th {\n",
       "        vertical-align: top;\n",
       "    }\n",
       "\n",
       "    .dataframe thead th {\n",
       "        text-align: right;\n",
       "    }\n",
       "</style>\n",
       "<table border=\"1\" class=\"dataframe\">\n",
       "  <thead>\n",
       "    <tr style=\"text-align: right;\">\n",
       "      <th></th>\n",
       "      <th>open</th>\n",
       "      <th>high</th>\n",
       "      <th>low</th>\n",
       "      <th>close</th>\n",
       "      <th>volume</th>\n",
       "    </tr>\n",
       "    <tr>\n",
       "      <th>datetime</th>\n",
       "      <th></th>\n",
       "      <th></th>\n",
       "      <th></th>\n",
       "      <th></th>\n",
       "      <th></th>\n",
       "    </tr>\n",
       "  </thead>\n",
       "  <tbody>\n",
       "    <tr>\n",
       "      <th>2019-08-02 15:30:00</th>\n",
       "      <td>31200</td>\n",
       "      <td>31200</td>\n",
       "      <td>31200</td>\n",
       "      <td>31200</td>\n",
       "      <td>2075</td>\n",
       "    </tr>\n",
       "    <tr>\n",
       "      <th>2019-08-02 15:20:00</th>\n",
       "      <td>31200</td>\n",
       "      <td>31200</td>\n",
       "      <td>31200</td>\n",
       "      <td>31200</td>\n",
       "      <td>630</td>\n",
       "    </tr>\n",
       "    <tr>\n",
       "      <th>2019-08-02 15:19:00</th>\n",
       "      <td>31200</td>\n",
       "      <td>31200</td>\n",
       "      <td>31200</td>\n",
       "      <td>31200</td>\n",
       "      <td>17</td>\n",
       "    </tr>\n",
       "    <tr>\n",
       "      <th>2019-08-02 15:18:00</th>\n",
       "      <td>31200</td>\n",
       "      <td>31200</td>\n",
       "      <td>31200</td>\n",
       "      <td>31200</td>\n",
       "      <td>48</td>\n",
       "    </tr>\n",
       "    <tr>\n",
       "      <th>2019-08-02 15:17:00</th>\n",
       "      <td>31200</td>\n",
       "      <td>31200</td>\n",
       "      <td>31200</td>\n",
       "      <td>31200</td>\n",
       "      <td>351</td>\n",
       "    </tr>\n",
       "  </tbody>\n",
       "</table>\n",
       "</div>"
      ],
      "text/plain": [
       "                      open   high    low  close  volume\n",
       "datetime                                               \n",
       "2019-08-02 15:30:00  31200  31200  31200  31200    2075\n",
       "2019-08-02 15:20:00  31200  31200  31200  31200     630\n",
       "2019-08-02 15:19:00  31200  31200  31200  31200      17\n",
       "2019-08-02 15:18:00  31200  31200  31200  31200      48\n",
       "2019-08-02 15:17:00  31200  31200  31200  31200     351"
      ]
     },
     "execution_count": 143,
     "metadata": {},
     "output_type": "execute_result"
    }
   ],
   "source": [
    "sillajen_ts_m_df['datetime'] = pd.to_datetime(sillajen_ts_m_df.date.astype(str) + ' ' + sillajen_ts_m_df.time.astype(str))\n",
    "sillajen_ts_m_df = sillajen_ts_m_df.drop(['date', 'time'], axis=1)\n",
    "sillajen_ts_m_df = sillajen_ts_m_df.set_index('datetime')\n",
    "sillajen_ts_m_df.head()"
   ]
  },
  {
   "cell_type": "code",
   "execution_count": 144,
   "metadata": {},
   "outputs": [
    {
     "data": {
      "text/plain": [
       "<matplotlib.axes._subplots.AxesSubplot at 0x1db87710>"
      ]
     },
     "execution_count": 144,
     "metadata": {},
     "output_type": "execute_result"
    },
    {
     "data": {
      "image/png": "[encoded data removed]",
      "text/plain": [
       "<Figure size 432x288 with 1 Axes>"
      ]
     },
     "metadata": {
      "needs_background": "light"
     },
     "output_type": "display_data"
    }
   ],
   "source": [
    "sillajen_ts_m_df.plot(y='close')"
   ]
  },
  {
   "cell_type": "code",
   "execution_count": 153,
   "metadata": {},
   "outputs": [
    {
     "data": {
      "text/html": [
       "<div>\n",
       "<style scoped>\n",
       "    .dataframe tbody tr th:only-of-type {\n",
       "        vertical-align: middle;\n",
       "    }\n",
       "\n",
       "    .dataframe tbody tr th {\n",
       "        vertical-align: top;\n",
       "    }\n",
       "\n",
       "    .dataframe thead th {\n",
       "        text-align: right;\n",
       "    }\n",
       "</style>\n",
       "<table border=\"1\" class=\"dataframe\">\n",
       "  <thead>\n",
       "    <tr style=\"text-align: right;\">\n",
       "      <th></th>\n",
       "      <th>open</th>\n",
       "      <th>high</th>\n",
       "      <th>low</th>\n",
       "      <th>close</th>\n",
       "      <th>volume</th>\n",
       "    </tr>\n",
       "    <tr>\n",
       "      <th>datetime</th>\n",
       "      <th></th>\n",
       "      <th></th>\n",
       "      <th></th>\n",
       "      <th></th>\n",
       "      <th></th>\n",
       "    </tr>\n",
       "  </thead>\n",
       "  <tbody>\n",
       "    <tr>\n",
       "      <th>2019-08-01 15:30:00</th>\n",
       "      <td>44550</td>\n",
       "      <td>44550</td>\n",
       "      <td>44550</td>\n",
       "      <td>44550</td>\n",
       "      <td>30566</td>\n",
       "    </tr>\n",
       "    <tr>\n",
       "      <th>2019-08-01 15:20:00</th>\n",
       "      <td>44300</td>\n",
       "      <td>44350</td>\n",
       "      <td>44250</td>\n",
       "      <td>44350</td>\n",
       "      <td>3631</td>\n",
       "    </tr>\n",
       "    <tr>\n",
       "      <th>2019-08-01 15:19:00</th>\n",
       "      <td>44250</td>\n",
       "      <td>44350</td>\n",
       "      <td>44200</td>\n",
       "      <td>44300</td>\n",
       "      <td>7319</td>\n",
       "    </tr>\n",
       "    <tr>\n",
       "      <th>2019-08-01 15:18:00</th>\n",
       "      <td>44200</td>\n",
       "      <td>44250</td>\n",
       "      <td>44200</td>\n",
       "      <td>44200</td>\n",
       "      <td>1467</td>\n",
       "    </tr>\n",
       "    <tr>\n",
       "      <th>2019-08-01 15:17:00</th>\n",
       "      <td>44200</td>\n",
       "      <td>44250</td>\n",
       "      <td>44150</td>\n",
       "      <td>44200</td>\n",
       "      <td>5818</td>\n",
       "    </tr>\n",
       "  </tbody>\n",
       "</table>\n",
       "</div>"
      ],
      "text/plain": [
       "                      open   high    low  close  volume\n",
       "datetime                                               \n",
       "2019-08-01 15:30:00  44550  44550  44550  44550   30566\n",
       "2019-08-01 15:20:00  44300  44350  44250  44350    3631\n",
       "2019-08-01 15:19:00  44250  44350  44200  44300    7319\n",
       "2019-08-01 15:18:00  44200  44250  44200  44200    1467\n",
       "2019-08-01 15:17:00  44200  44250  44150  44200    5818"
      ]
     },
     "execution_count": 153,
     "metadata": {},
     "output_type": "execute_result"
    }
   ],
   "source": [
    "sillajen_0801 = sillajen_ts_m_df[(sillajen_ts_m_df.index >= pd.Timestamp(2019, 8, 1, 8, 30)) & (sillajen_ts_m_df.index <= pd.Timestamp(2019, 8, 1, 15, 30))]\n",
    "sillajen_0801.head()"
   ]
  },
  {
   "cell_type": "code",
   "execution_count": 154,
   "metadata": {},
   "outputs": [
    {
     "data": {
      "text/plain": [
       "<matplotlib.axes._subplots.AxesSubplot at 0x1dc80310>"
      ]
     },
     "execution_count": 154,
     "metadata": {},
     "output_type": "execute_result"
    },
    {
     "data": {
      "image/png": "[encoded data removed]",
      "text/plain": [
       "<Figure size 432x288 with 1 Axes>"
      ]
     },
     "metadata": {
      "needs_background": "light"
     },
     "output_type": "display_data"
    }
   ],
   "source": [
    "sillajen_0801.plot(y='close')"
   ]
  },
  {
   "cell_type": "code",
   "execution_count": 149,
   "metadata": {},
   "outputs": [
    {
     "data": {
      "text/html": [
       "<div>\n",
       "<style scoped>\n",
       "    .dataframe tbody tr th:only-of-type {\n",
       "        vertical-align: middle;\n",
       "    }\n",
       "\n",
       "    .dataframe tbody tr th {\n",
       "        vertical-align: top;\n",
       "    }\n",
       "\n",
       "    .dataframe thead th {\n",
       "        text-align: right;\n",
       "    }\n",
       "</style>\n",
       "<table border=\"1\" class=\"dataframe\">\n",
       "  <thead>\n",
       "    <tr style=\"text-align: right;\">\n",
       "      <th></th>\n",
       "      <th>open</th>\n",
       "      <th>high</th>\n",
       "      <th>low</th>\n",
       "      <th>close</th>\n",
       "      <th>volume</th>\n",
       "    </tr>\n",
       "    <tr>\n",
       "      <th>datetime</th>\n",
       "      <th></th>\n",
       "      <th></th>\n",
       "      <th></th>\n",
       "      <th></th>\n",
       "      <th></th>\n",
       "    </tr>\n",
       "  </thead>\n",
       "  <tbody>\n",
       "    <tr>\n",
       "      <th>2019-08-02 15:30:00</th>\n",
       "      <td>31200</td>\n",
       "      <td>31200</td>\n",
       "      <td>31200</td>\n",
       "      <td>31200</td>\n",
       "      <td>2075</td>\n",
       "    </tr>\n",
       "    <tr>\n",
       "      <th>2019-08-02 15:20:00</th>\n",
       "      <td>31200</td>\n",
       "      <td>31200</td>\n",
       "      <td>31200</td>\n",
       "      <td>31200</td>\n",
       "      <td>630</td>\n",
       "    </tr>\n",
       "    <tr>\n",
       "      <th>2019-08-02 15:19:00</th>\n",
       "      <td>31200</td>\n",
       "      <td>31200</td>\n",
       "      <td>31200</td>\n",
       "      <td>31200</td>\n",
       "      <td>17</td>\n",
       "    </tr>\n",
       "    <tr>\n",
       "      <th>2019-08-02 15:18:00</th>\n",
       "      <td>31200</td>\n",
       "      <td>31200</td>\n",
       "      <td>31200</td>\n",
       "      <td>31200</td>\n",
       "      <td>48</td>\n",
       "    </tr>\n",
       "    <tr>\n",
       "      <th>2019-08-02 15:17:00</th>\n",
       "      <td>31200</td>\n",
       "      <td>31200</td>\n",
       "      <td>31200</td>\n",
       "      <td>31200</td>\n",
       "      <td>351</td>\n",
       "    </tr>\n",
       "  </tbody>\n",
       "</table>\n",
       "</div>"
      ],
      "text/plain": [
       "                      open   high    low  close  volume\n",
       "datetime                                               \n",
       "2019-08-02 15:30:00  31200  31200  31200  31200    2075\n",
       "2019-08-02 15:20:00  31200  31200  31200  31200     630\n",
       "2019-08-02 15:19:00  31200  31200  31200  31200      17\n",
       "2019-08-02 15:18:00  31200  31200  31200  31200      48\n",
       "2019-08-02 15:17:00  31200  31200  31200  31200     351"
      ]
     },
     "execution_count": 149,
     "metadata": {},
     "output_type": "execute_result"
    }
   ],
   "source": [
    "sillajen_0802 = sillajen_ts_m_df[(sillajen_ts_m_df.index >= pd.Timestamp(2019, 8, 2, 8, 30)) & (sillajen_ts_m_df.index <= pd.Timestamp(2019, 8, 2, 15, 30))]\n",
    "sillajen_0802.head()"
   ]
  },
  {
   "cell_type": "code",
   "execution_count": 151,
   "metadata": {},
   "outputs": [
    {
     "data": {
      "text/plain": [
       "<matplotlib.axes._subplots.AxesSubplot at 0x1d13f730>"
      ]
     },
     "execution_count": 151,
     "metadata": {},
     "output_type": "execute_result"
    },
    {
     "data": {
      "image/png": "[encoded data removed]",
      "text/plain": [
       "<Figure size 432x288 with 1 Axes>"
      ]
     },
     "metadata": {
      "needs_background": "light"
     },
     "output_type": "display_data"
    }
   ],
   "source": [
    "sillajen_0802.plot(y='close')"
   ]
  },
  {
   "cell_type": "markdown",
   "metadata": {},
   "source": [
    "신라젠은 장이 열리기 전 쇼크가 왔기 때문에 장이 열리기 전 이미 하한가를 맞고 8월 2일 당일 주가가 변동이 없는 것을 관찰할 수 있다. "
   ]
  },
  {
   "cell_type": "code",
   "execution_count": null,
   "metadata": {},
   "outputs": [],
   "source": []
  }
 ],
 "metadata": {
  "kernelspec": {
   "display_name": "Python 3",
   "language": "python",
   "name": "python3"
  },
  "language_info": {
   "codemirror_mode": {
    "name": "ipython",
    "version": 3
   },
   "file_extension": ".py",
   "mimetype": "text/x-python",
   "name": "python",
   "nbconvert_exporter": "python",
   "pygments_lexer": "ipython3",
   "version": "3.7.5"
  }
 },
 "nbformat": 4,
 "nbformat_minor": 4
}
