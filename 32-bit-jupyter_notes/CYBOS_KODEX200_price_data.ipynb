{
 "cells": [
  {
   "cell_type": "code",
   "execution_count": 1,
   "metadata": {},
   "outputs": [],
   "source": [
    "import pickle\n",
    "import pandas as pd\n",
    "\n",
    "import win32com.client"
   ]
  },
  {
   "cell_type": "markdown",
   "metadata": {},
   "source": [
    "One series data인 KODEX200 price 부터 구해본다. \n",
    "\n",
    "추후 scale과 reusability를 고려하여 작성"
   ]
  },
  {
   "cell_type": "markdown",
   "metadata": {},
   "source": [
    "## df에서 코드 가져오기"
   ]
  },
  {
   "cell_type": "code",
   "execution_count": 2,
   "metadata": {},
   "outputs": [
    {
     "data": {
      "text/html": [
       "<div>\n",
       "<style scoped>\n",
       "    .dataframe tbody tr th:only-of-type {\n",
       "        vertical-align: middle;\n",
       "    }\n",
       "\n",
       "    .dataframe tbody tr th {\n",
       "        vertical-align: top;\n",
       "    }\n",
       "\n",
       "    .dataframe thead th {\n",
       "        text-align: right;\n",
       "    }\n",
       "</style>\n",
       "<table border=\"1\" class=\"dataframe\">\n",
       "  <thead>\n",
       "    <tr style=\"text-align: right;\">\n",
       "      <th></th>\n",
       "      <th>code</th>\n",
       "      <th>name</th>\n",
       "      <th>stock_control_kind</th>\n",
       "      <th>stock_supervision_kind</th>\n",
       "      <th>stock_status_kind</th>\n",
       "      <th>stock_kospi200_kind</th>\n",
       "      <th>stock_section_kind</th>\n",
       "    </tr>\n",
       "  </thead>\n",
       "  <tbody>\n",
       "    <tr>\n",
       "      <th>686</th>\n",
       "      <td>A069500</td>\n",
       "      <td>KODEX 200</td>\n",
       "      <td>0</td>\n",
       "      <td>0</td>\n",
       "      <td>0</td>\n",
       "      <td>0</td>\n",
       "      <td>10</td>\n",
       "    </tr>\n",
       "    <tr>\n",
       "      <th>689</th>\n",
       "      <td>A069660</td>\n",
       "      <td>KOSEF 200</td>\n",
       "      <td>0</td>\n",
       "      <td>0</td>\n",
       "      <td>0</td>\n",
       "      <td>0</td>\n",
       "      <td>10</td>\n",
       "    </tr>\n",
       "    <tr>\n",
       "      <th>747</th>\n",
       "      <td>A091160</td>\n",
       "      <td>KODEX 반도체</td>\n",
       "      <td>0</td>\n",
       "      <td>0</td>\n",
       "      <td>0</td>\n",
       "      <td>0</td>\n",
       "      <td>10</td>\n",
       "    </tr>\n",
       "    <tr>\n",
       "      <th>748</th>\n",
       "      <td>A091170</td>\n",
       "      <td>KODEX 은행</td>\n",
       "      <td>0</td>\n",
       "      <td>0</td>\n",
       "      <td>0</td>\n",
       "      <td>0</td>\n",
       "      <td>10</td>\n",
       "    </tr>\n",
       "    <tr>\n",
       "      <th>749</th>\n",
       "      <td>A091180</td>\n",
       "      <td>KODEX 자동차</td>\n",
       "      <td>0</td>\n",
       "      <td>0</td>\n",
       "      <td>0</td>\n",
       "      <td>0</td>\n",
       "      <td>10</td>\n",
       "    </tr>\n",
       "  </tbody>\n",
       "</table>\n",
       "</div>"
      ],
      "text/plain": [
       "        code       name  stock_control_kind  stock_supervision_kind  \\\n",
       "686  A069500  KODEX 200                   0                       0   \n",
       "689  A069660  KOSEF 200                   0                       0   \n",
       "747  A091160  KODEX 반도체                   0                       0   \n",
       "748  A091170   KODEX 은행                   0                       0   \n",
       "749  A091180  KODEX 자동차                   0                       0   \n",
       "\n",
       "     stock_status_kind  stock_kospi200_kind  stock_section_kind  \n",
       "686                  0                    0                  10  \n",
       "689                  0                    0                  10  \n",
       "747                  0                    0                  10  \n",
       "748                  0                    0                  10  \n",
       "749                  0                    0                  10  "
      ]
     },
     "execution_count": 2,
     "metadata": {},
     "output_type": "execute_result"
    }
   ],
   "source": [
    "kospi_ETF_df = pd.read_pickle('./data_files/kospi_ETF_df.pkl')\n",
    "kospi_ETF_df.head()"
   ]
  },
  {
   "cell_type": "code",
   "execution_count": 3,
   "metadata": {},
   "outputs": [
    {
     "data": {
      "text/plain": [
       "686                     KODEX 200\n",
       "689                     KOSEF 200\n",
       "747                     KODEX 반도체\n",
       "748                      KODEX 은행\n",
       "749                     KODEX 자동차\n",
       "                  ...            \n",
       "1361      KBSTAR KRX국채선물3년10년스티프너\n",
       "1362    KBSTAR KRX국채선물3년10년스티프너2X\n",
       "1363      KBSTAR KRX국채선물3년10년플래트너\n",
       "1364    KBSTAR KRX국채선물3년10년플래트너2X\n",
       "1366             HANARO KAP초장기국고채\n",
       "Name: name, Length: 451, dtype: object"
      ]
     },
     "execution_count": 3,
     "metadata": {},
     "output_type": "execute_result"
    }
   ],
   "source": [
    "kospi_ETF_df.name"
   ]
  },
  {
   "cell_type": "code",
   "execution_count": 4,
   "metadata": {},
   "outputs": [
    {
     "data": {
      "text/plain": [
       "'A069500'"
      ]
     },
     "execution_count": 4,
     "metadata": {},
     "output_type": "execute_result"
    }
   ],
   "source": [
    "code = kospi_ETF_df[kospi_ETF_df.name == 'KODEX 200'].to_numpy()[0][0]\n",
    "code"
   ]
  },
  {
   "cell_type": "markdown",
   "metadata": {},
   "source": [
    "## 종목과 조회조건 설정 (Daily data)"
   ]
  },
  {
   "cell_type": "code",
   "execution_count": 5,
   "metadata": {},
   "outputs": [],
   "source": [
    "instStockChart = win32com.client.Dispatch('CPSysDib.StockChart')"
   ]
  },
  {
   "cell_type": "code",
   "execution_count": 46,
   "metadata": {},
   "outputs": [],
   "source": [
    "# 종목과 조회조건 등을 설정. \n",
    "\n",
    "instStockChart.SetInputValue(0, code) # 첫 인자는 데이터 타입, 두 번째 인자는 입력 데이터 값. 0은 종목코드, A003540은 종목코드. \n",
    "instStockChart.SetInputValue(1, ord('2')) # 첫 번째 인자는 기간/요청 설정을 말하는 1. 두 번째 인자는 기간으로 요청 시 1, 개수로 요청시 2. \n",
    "instStockChart.SetInputValue(4, 1000) # 첫 번째 인자는 요청개수 설정을 말하는 4. 두 번째 인자는 실제로 몇 개 요청할 것인지 개수. (여기선 10개)\n",
    "instStockChart.SetInputValue(5, [0, 2, 3, 4, 5, 8]) # 첫 번째 인자는 요청할 데이터의 종류를 말하는 5. 두 번째 인자는 어떤 인자를 요청할 지. 5는 종가. \n",
    "instStockChart.SetInputValue(6, ord('D')) # 첫 번째 인자는 차트의 종류를 말하는 6. 두 번째 인자는 어떤 차트인지. ord('D')는 일단위\n",
    "instStockChart.SetInputValue(9, ord('1')) # 첫 번째 인자는 수정주가의 반영여부를 말하는 9, 두 번째 인자는 수정주가를 의미하는 ord('1')"
   ]
  },
  {
   "cell_type": "code",
   "execution_count": 47,
   "metadata": {},
   "outputs": [
    {
     "data": {
      "text/plain": [
       "0"
      ]
     },
     "execution_count": 47,
     "metadata": {},
     "output_type": "execute_result"
    }
   ],
   "source": [
    "instStockChart.BlockRequest()"
   ]
  },
  {
   "cell_type": "code",
   "execution_count": 48,
   "metadata": {},
   "outputs": [
    {
     "name": "stdout",
     "output_type": "stream",
     "text": [
      "\n",
      "Header information\n",
      "\n",
      "Ticker: A069500\n",
      "Field names: ('날짜', '시가', '고가', '저가', '종가', '거래량')\n",
      "Data count: 1000\n",
      "\n"
     ]
    }
   ],
   "source": [
    "print(\"\"\"\n",
    "Header information\n",
    "\n",
    "Ticker: {ticker}\n",
    "Field names: {field_names}\n",
    "Data count: {data_count}\n",
    "\"\"\".format(\n",
    "    ticker=instStockChart.GetHeaderValue(0),\n",
    "    field_names=instStockChart.GetHeaderValue(2),\n",
    "    data_count=instStockChart.GetHeaderValue(3),\n",
    "))\n"
   ]
  },
  {
   "cell_type": "code",
   "execution_count": 49,
   "metadata": {},
   "outputs": [
    {
     "name": "stdout",
     "output_type": "stream",
     "text": [
      "1000 6\n"
     ]
    }
   ],
   "source": [
    "data_count = instStockChart.GetHeaderValue(3)\n",
    "fields_count = instStockChart.GetHeaderValue(1)\n",
    "print(data_count, fields_count)"
   ]
  },
  {
   "cell_type": "code",
   "execution_count": 50,
   "metadata": {},
   "outputs": [],
   "source": [
    "kodex200_d = []\n",
    "\n",
    "for i in range(data_count):\n",
    "    date = instStockChart.GetDataValue(0, i)\n",
    "    open_price = instStockChart.GetDataValue(1, i)\n",
    "    high_price = instStockChart.GetDataValue(2, i)\n",
    "    low_price = instStockChart.GetDataValue(3, i)\n",
    "    close_price = instStockChart.GetDataValue(4, i)\n",
    "    volume = instStockChart.GetDataValue(5, i)\n",
    "    \n",
    "    row_dic = {}\n",
    "    row_dic['date'] = date\n",
    "    row_dic['open'] = open_price\n",
    "    row_dic['high'] = high_price\n",
    "    row_dic['low'] = low_price\n",
    "    row_dic['close'] = close_price\n",
    "    row_dic['volume'] = volume\n",
    "    \n",
    "    kodex200_d.append(row_dic)"
   ]
  },
  {
   "cell_type": "code",
   "execution_count": 51,
   "metadata": {},
   "outputs": [
    {
     "data": {
      "text/html": [
       "<div>\n",
       "<style scoped>\n",
       "    .dataframe tbody tr th:only-of-type {\n",
       "        vertical-align: middle;\n",
       "    }\n",
       "\n",
       "    .dataframe tbody tr th {\n",
       "        vertical-align: top;\n",
       "    }\n",
       "\n",
       "    .dataframe thead th {\n",
       "        text-align: right;\n",
       "    }\n",
       "</style>\n",
       "<table border=\"1\" class=\"dataframe\">\n",
       "  <thead>\n",
       "    <tr style=\"text-align: right;\">\n",
       "      <th></th>\n",
       "      <th>date</th>\n",
       "      <th>open</th>\n",
       "      <th>high</th>\n",
       "      <th>low</th>\n",
       "      <th>close</th>\n",
       "      <th>volume</th>\n",
       "    </tr>\n",
       "  </thead>\n",
       "  <tbody>\n",
       "    <tr>\n",
       "      <th>0</th>\n",
       "      <td>20200130</td>\n",
       "      <td>29695</td>\n",
       "      <td>29765</td>\n",
       "      <td>29250</td>\n",
       "      <td>29260</td>\n",
       "      <td>3858197</td>\n",
       "    </tr>\n",
       "    <tr>\n",
       "      <th>1</th>\n",
       "      <td>20200129</td>\n",
       "      <td>29764</td>\n",
       "      <td>29889</td>\n",
       "      <td>29585</td>\n",
       "      <td>29735</td>\n",
       "      <td>2968338</td>\n",
       "    </tr>\n",
       "    <tr>\n",
       "      <th>2</th>\n",
       "      <td>20200128</td>\n",
       "      <td>29849</td>\n",
       "      <td>30004</td>\n",
       "      <td>29485</td>\n",
       "      <td>29635</td>\n",
       "      <td>8162182</td>\n",
       "    </tr>\n",
       "    <tr>\n",
       "      <th>3</th>\n",
       "      <td>20200123</td>\n",
       "      <td>30768</td>\n",
       "      <td>30808</td>\n",
       "      <td>30538</td>\n",
       "      <td>30563</td>\n",
       "      <td>5616217</td>\n",
       "    </tr>\n",
       "    <tr>\n",
       "      <th>4</th>\n",
       "      <td>20200122</td>\n",
       "      <td>30498</td>\n",
       "      <td>30997</td>\n",
       "      <td>30483</td>\n",
       "      <td>30967</td>\n",
       "      <td>6071067</td>\n",
       "    </tr>\n",
       "  </tbody>\n",
       "</table>\n",
       "</div>"
      ],
      "text/plain": [
       "       date   open   high    low  close   volume\n",
       "0  20200130  29695  29765  29250  29260  3858197\n",
       "1  20200129  29764  29889  29585  29735  2968338\n",
       "2  20200128  29849  30004  29485  29635  8162182\n",
       "3  20200123  30768  30808  30538  30563  5616217\n",
       "4  20200122  30498  30997  30483  30967  6071067"
      ]
     },
     "execution_count": 51,
     "metadata": {},
     "output_type": "execute_result"
    }
   ],
   "source": [
    "# TODO: 변수 네이밍 바꿔주자 _df 붙일 대상 정하고 time series와 아닌것 구분\n",
    "\n",
    "kodex200_ts_d_df = pd.DataFrame(kodex200_d)\n",
    "kodex200_ts_d_df.head()"
   ]
  },
  {
   "cell_type": "code",
   "execution_count": 52,
   "metadata": {},
   "outputs": [
    {
     "data": {
      "text/html": [
       "<div>\n",
       "<style scoped>\n",
       "    .dataframe tbody tr th:only-of-type {\n",
       "        vertical-align: middle;\n",
       "    }\n",
       "\n",
       "    .dataframe tbody tr th {\n",
       "        vertical-align: top;\n",
       "    }\n",
       "\n",
       "    .dataframe thead th {\n",
       "        text-align: right;\n",
       "    }\n",
       "</style>\n",
       "<table border=\"1\" class=\"dataframe\">\n",
       "  <thead>\n",
       "    <tr style=\"text-align: right;\">\n",
       "      <th></th>\n",
       "      <th>open</th>\n",
       "      <th>high</th>\n",
       "      <th>low</th>\n",
       "      <th>close</th>\n",
       "      <th>volume</th>\n",
       "    </tr>\n",
       "    <tr>\n",
       "      <th>date</th>\n",
       "      <th></th>\n",
       "      <th></th>\n",
       "      <th></th>\n",
       "      <th></th>\n",
       "      <th></th>\n",
       "    </tr>\n",
       "  </thead>\n",
       "  <tbody>\n",
       "    <tr>\n",
       "      <th>2020-01-30</th>\n",
       "      <td>29695</td>\n",
       "      <td>29765</td>\n",
       "      <td>29250</td>\n",
       "      <td>29260</td>\n",
       "      <td>3858197</td>\n",
       "    </tr>\n",
       "    <tr>\n",
       "      <th>2020-01-29</th>\n",
       "      <td>29764</td>\n",
       "      <td>29889</td>\n",
       "      <td>29585</td>\n",
       "      <td>29735</td>\n",
       "      <td>2968338</td>\n",
       "    </tr>\n",
       "    <tr>\n",
       "      <th>2020-01-28</th>\n",
       "      <td>29849</td>\n",
       "      <td>30004</td>\n",
       "      <td>29485</td>\n",
       "      <td>29635</td>\n",
       "      <td>8162182</td>\n",
       "    </tr>\n",
       "    <tr>\n",
       "      <th>2020-01-23</th>\n",
       "      <td>30768</td>\n",
       "      <td>30808</td>\n",
       "      <td>30538</td>\n",
       "      <td>30563</td>\n",
       "      <td>5616217</td>\n",
       "    </tr>\n",
       "    <tr>\n",
       "      <th>2020-01-22</th>\n",
       "      <td>30498</td>\n",
       "      <td>30997</td>\n",
       "      <td>30483</td>\n",
       "      <td>30967</td>\n",
       "      <td>6071067</td>\n",
       "    </tr>\n",
       "  </tbody>\n",
       "</table>\n",
       "</div>"
      ],
      "text/plain": [
       "             open   high    low  close   volume\n",
       "date                                           \n",
       "2020-01-30  29695  29765  29250  29260  3858197\n",
       "2020-01-29  29764  29889  29585  29735  2968338\n",
       "2020-01-28  29849  30004  29485  29635  8162182\n",
       "2020-01-23  30768  30808  30538  30563  5616217\n",
       "2020-01-22  30498  30997  30483  30967  6071067"
      ]
     },
     "execution_count": 52,
     "metadata": {},
     "output_type": "execute_result"
    }
   ],
   "source": [
    "kodex200_ts_d_df.date = pd.to_datetime(kodex200_ts_d_df.date, format='%Y%m%d')\n",
    "kodex200_ts_d_df = kodex200_ts_d_df.set_index('date')\n",
    "kodex200_ts_d_df.head()"
   ]
  },
  {
   "cell_type": "code",
   "execution_count": 53,
   "metadata": {},
   "outputs": [],
   "source": [
    "kodex200_ts_d_df.to_pickle('./data_files/kodex200_ts_d_df.pkl')"
   ]
  },
  {
   "cell_type": "markdown",
   "metadata": {},
   "source": [
    "## Minute data 얻기. (tick은 너무 작으니까.)\n",
    "\n",
    "minute은 time필드가 추가된다. (%"
   ]
  },
  {
   "cell_type": "code",
   "execution_count": 54,
   "metadata": {},
   "outputs": [],
   "source": [
    "# 종목과 조회조건 등을 설정. \n",
    "\n",
    "instStockChart.SetInputValue(0, code) # 첫 인자는 데이터 타입, 두 번째 인자는 입력 데이터 값. 0은 종목코드, A003540은 종목코드. \n",
    "instStockChart.SetInputValue(1, ord('2')) # 첫 번째 인자는 기간/요청 설정을 말하는 1. 두 번째 인자는 기간으로 요청 시 1, 개수로 요청시 2. \n",
    "instStockChart.SetInputValue(4, 1000) # 첫 번째 인자는 요청개수 설정을 말하는 4. 두 번째 인자는 실제로 몇 개 요청할 것인지 개수. (여기선 10개)\n",
    "instStockChart.SetInputValue(5, [0, 1, 2, 3, 4, 5, 8]) # 첫 번째 인자는 요청할 데이터의 종류를 말하는 5. 두 번째 인자는 어떤 인자를 요청할 지. 5는 종가. \n",
    "instStockChart.SetInputValue(6, ord('m')) # 첫 번째 인자는 차트의 종류를 말하는 6. 두 번째 인자는 어떤 차트인지. ord('D')는 일단위\n",
    "instStockChart.SetInputValue(9, ord('1')) # 첫 번째 인자는 수정주가의 반영여부를 말하는 9, 두 번째 인자는 수정주가를 의미하는 ord('1')"
   ]
  },
  {
   "cell_type": "code",
   "execution_count": 55,
   "metadata": {},
   "outputs": [
    {
     "data": {
      "text/plain": [
       "0"
      ]
     },
     "execution_count": 55,
     "metadata": {},
     "output_type": "execute_result"
    }
   ],
   "source": [
    "instStockChart.BlockRequest()"
   ]
  },
  {
   "cell_type": "code",
   "execution_count": 56,
   "metadata": {},
   "outputs": [
    {
     "name": "stdout",
     "output_type": "stream",
     "text": [
      "\n",
      "Header information\n",
      "\n",
      "Ticker: A069500\n",
      "Field names: ('날짜', '시간', '시가', '고가', '저가', '종가', '거래량')\n",
      "Data count: 1000\n",
      "\n"
     ]
    }
   ],
   "source": [
    "print(\"\"\"\n",
    "Header information\n",
    "\n",
    "Ticker: {ticker}\n",
    "Field names: {field_names}\n",
    "Data count: {data_count}\n",
    "\"\"\".format(\n",
    "    ticker=instStockChart.GetHeaderValue(0),\n",
    "    field_names=instStockChart.GetHeaderValue(2),\n",
    "    data_count=instStockChart.GetHeaderValue(3),\n",
    "))\n"
   ]
  },
  {
   "cell_type": "code",
   "execution_count": 57,
   "metadata": {},
   "outputs": [
    {
     "name": "stdout",
     "output_type": "stream",
     "text": [
      "1000 7\n"
     ]
    }
   ],
   "source": [
    "data_count = instStockChart.GetHeaderValue(3)\n",
    "fields_count = instStockChart.GetHeaderValue(1)\n",
    "print(data_count, fields_count)"
   ]
  },
  {
   "cell_type": "code",
   "execution_count": 58,
   "metadata": {},
   "outputs": [],
   "source": [
    "kodex200_m = []\n",
    "\n",
    "for i in range(data_count):\n",
    "    date = instStockChart.GetDataValue(0, i)\n",
    "    time = instStockChart.GetDataValue(1, i)\n",
    "    open_price = instStockChart.GetDataValue(2, i)\n",
    "    high_price = instStockChart.GetDataValue(3, i)\n",
    "    low_price = instStockChart.GetDataValue(4, i)\n",
    "    close_price = instStockChart.GetDataValue(5, i)\n",
    "    volume = instStockChart.GetDataValue(6, i)\n",
    "    \n",
    "    row_dic = {}\n",
    "    row_dic['date'] = date\n",
    "    row_dic['time'] = time\n",
    "    row_dic['open'] = open_price\n",
    "    row_dic['high'] = high_price\n",
    "    row_dic['low'] = low_price\n",
    "    row_dic['close'] = close_price\n",
    "    row_dic['volume'] = volume\n",
    "    \n",
    "    kodex200_m.append(row_dic)"
   ]
  },
  {
   "cell_type": "code",
   "execution_count": 120,
   "metadata": {},
   "outputs": [
    {
     "data": {
      "text/html": [
       "<div>\n",
       "<style scoped>\n",
       "    .dataframe tbody tr th:only-of-type {\n",
       "        vertical-align: middle;\n",
       "    }\n",
       "\n",
       "    .dataframe tbody tr th {\n",
       "        vertical-align: top;\n",
       "    }\n",
       "\n",
       "    .dataframe thead th {\n",
       "        text-align: right;\n",
       "    }\n",
       "</style>\n",
       "<table border=\"1\" class=\"dataframe\">\n",
       "  <thead>\n",
       "    <tr style=\"text-align: right;\">\n",
       "      <th></th>\n",
       "      <th>date</th>\n",
       "      <th>time</th>\n",
       "      <th>open</th>\n",
       "      <th>high</th>\n",
       "      <th>low</th>\n",
       "      <th>close</th>\n",
       "      <th>volume</th>\n",
       "    </tr>\n",
       "  </thead>\n",
       "  <tbody>\n",
       "    <tr>\n",
       "      <th>0</th>\n",
       "      <td>20200130</td>\n",
       "      <td>1358</td>\n",
       "      <td>29270</td>\n",
       "      <td>29270</td>\n",
       "      <td>29260</td>\n",
       "      <td>29270</td>\n",
       "      <td>1706</td>\n",
       "    </tr>\n",
       "    <tr>\n",
       "      <th>1</th>\n",
       "      <td>20200130</td>\n",
       "      <td>1357</td>\n",
       "      <td>29275</td>\n",
       "      <td>29275</td>\n",
       "      <td>29260</td>\n",
       "      <td>29260</td>\n",
       "      <td>9240</td>\n",
       "    </tr>\n",
       "    <tr>\n",
       "      <th>2</th>\n",
       "      <td>20200130</td>\n",
       "      <td>1356</td>\n",
       "      <td>29280</td>\n",
       "      <td>29285</td>\n",
       "      <td>29265</td>\n",
       "      <td>29270</td>\n",
       "      <td>8952</td>\n",
       "    </tr>\n",
       "    <tr>\n",
       "      <th>3</th>\n",
       "      <td>20200130</td>\n",
       "      <td>1355</td>\n",
       "      <td>29285</td>\n",
       "      <td>29290</td>\n",
       "      <td>29280</td>\n",
       "      <td>29280</td>\n",
       "      <td>2566</td>\n",
       "    </tr>\n",
       "    <tr>\n",
       "      <th>4</th>\n",
       "      <td>20200130</td>\n",
       "      <td>1354</td>\n",
       "      <td>29285</td>\n",
       "      <td>29295</td>\n",
       "      <td>29285</td>\n",
       "      <td>29290</td>\n",
       "      <td>3681</td>\n",
       "    </tr>\n",
       "  </tbody>\n",
       "</table>\n",
       "</div>"
      ],
      "text/plain": [
       "       date  time   open   high    low  close  volume\n",
       "0  20200130  1358  29270  29270  29260  29270    1706\n",
       "1  20200130  1357  29275  29275  29260  29260    9240\n",
       "2  20200130  1356  29280  29285  29265  29270    8952\n",
       "3  20200130  1355  29285  29290  29280  29280    2566\n",
       "4  20200130  1354  29285  29295  29285  29290    3681"
      ]
     },
     "execution_count": 120,
     "metadata": {},
     "output_type": "execute_result"
    }
   ],
   "source": [
    "# TODO: 변수 네이밍 바꿔주자 _df 붙일 대상 정하고 time series와 아닌것 구분\n",
    "\n",
    "kodex200_ts_m_df = pd.DataFrame(kodex200_m)\n",
    "kodex200_ts_m_df.head()"
   ]
  },
  {
   "cell_type": "code",
   "execution_count": 121,
   "metadata": {},
   "outputs": [
    {
     "data": {
      "text/html": [
       "<div>\n",
       "<style scoped>\n",
       "    .dataframe tbody tr th:only-of-type {\n",
       "        vertical-align: middle;\n",
       "    }\n",
       "\n",
       "    .dataframe tbody tr th {\n",
       "        vertical-align: top;\n",
       "    }\n",
       "\n",
       "    .dataframe thead th {\n",
       "        text-align: right;\n",
       "    }\n",
       "</style>\n",
       "<table border=\"1\" class=\"dataframe\">\n",
       "  <thead>\n",
       "    <tr style=\"text-align: right;\">\n",
       "      <th></th>\n",
       "      <th>date</th>\n",
       "      <th>time</th>\n",
       "      <th>open</th>\n",
       "      <th>high</th>\n",
       "      <th>low</th>\n",
       "      <th>close</th>\n",
       "      <th>volume</th>\n",
       "    </tr>\n",
       "  </thead>\n",
       "  <tbody>\n",
       "    <tr>\n",
       "      <th>995</th>\n",
       "      <td>20200128</td>\n",
       "      <td>1005</td>\n",
       "      <td>29804</td>\n",
       "      <td>29814</td>\n",
       "      <td>29794</td>\n",
       "      <td>29809</td>\n",
       "      <td>11647</td>\n",
       "    </tr>\n",
       "    <tr>\n",
       "      <th>996</th>\n",
       "      <td>20200128</td>\n",
       "      <td>1004</td>\n",
       "      <td>29794</td>\n",
       "      <td>29804</td>\n",
       "      <td>29794</td>\n",
       "      <td>29804</td>\n",
       "      <td>14493</td>\n",
       "    </tr>\n",
       "    <tr>\n",
       "      <th>997</th>\n",
       "      <td>20200128</td>\n",
       "      <td>1003</td>\n",
       "      <td>29789</td>\n",
       "      <td>29804</td>\n",
       "      <td>29789</td>\n",
       "      <td>29799</td>\n",
       "      <td>20806</td>\n",
       "    </tr>\n",
       "    <tr>\n",
       "      <th>998</th>\n",
       "      <td>20200128</td>\n",
       "      <td>1002</td>\n",
       "      <td>29779</td>\n",
       "      <td>29789</td>\n",
       "      <td>29759</td>\n",
       "      <td>29789</td>\n",
       "      <td>25290</td>\n",
       "    </tr>\n",
       "    <tr>\n",
       "      <th>999</th>\n",
       "      <td>20200128</td>\n",
       "      <td>1001</td>\n",
       "      <td>29749</td>\n",
       "      <td>29774</td>\n",
       "      <td>29739</td>\n",
       "      <td>29769</td>\n",
       "      <td>19646</td>\n",
       "    </tr>\n",
       "  </tbody>\n",
       "</table>\n",
       "</div>"
      ],
      "text/plain": [
       "         date  time   open   high    low  close  volume\n",
       "995  20200128  1005  29804  29814  29794  29809   11647\n",
       "996  20200128  1004  29794  29804  29794  29804   14493\n",
       "997  20200128  1003  29789  29804  29789  29799   20806\n",
       "998  20200128  1002  29779  29789  29759  29789   25290\n",
       "999  20200128  1001  29749  29774  29739  29769   19646"
      ]
     },
     "execution_count": 121,
     "metadata": {},
     "output_type": "execute_result"
    }
   ],
   "source": [
    "kodex200_ts_m_df.tail()"
   ]
  },
  {
   "cell_type": "code",
   "execution_count": 122,
   "metadata": {},
   "outputs": [
    {
     "data": {
      "text/html": [
       "<div>\n",
       "<style scoped>\n",
       "    .dataframe tbody tr th:only-of-type {\n",
       "        vertical-align: middle;\n",
       "    }\n",
       "\n",
       "    .dataframe tbody tr th {\n",
       "        vertical-align: top;\n",
       "    }\n",
       "\n",
       "    .dataframe thead th {\n",
       "        text-align: right;\n",
       "    }\n",
       "</style>\n",
       "<table border=\"1\" class=\"dataframe\">\n",
       "  <thead>\n",
       "    <tr style=\"text-align: right;\">\n",
       "      <th></th>\n",
       "      <th>date</th>\n",
       "      <th>time</th>\n",
       "      <th>open</th>\n",
       "      <th>high</th>\n",
       "      <th>low</th>\n",
       "      <th>close</th>\n",
       "      <th>volume</th>\n",
       "    </tr>\n",
       "  </thead>\n",
       "  <tbody>\n",
       "    <tr>\n",
       "      <th>count</th>\n",
       "      <td>1.000000e+03</td>\n",
       "      <td>1000.000000</td>\n",
       "      <td>1000.000000</td>\n",
       "      <td>1000.00000</td>\n",
       "      <td>1000.000000</td>\n",
       "      <td>1000.000000</td>\n",
       "      <td>1000.000000</td>\n",
       "    </tr>\n",
       "    <tr>\n",
       "      <th>mean</th>\n",
       "      <td>2.020013e+07</td>\n",
       "      <td>1194.641000</td>\n",
       "      <td>29642.391000</td>\n",
       "      <td>29649.85600</td>\n",
       "      <td>29634.236000</td>\n",
       "      <td>29642.172000</td>\n",
       "      <td>13113.796000</td>\n",
       "    </tr>\n",
       "    <tr>\n",
       "      <th>std</th>\n",
       "      <td>7.868228e-01</td>\n",
       "      <td>169.415471</td>\n",
       "      <td>161.100669</td>\n",
       "      <td>160.60759</td>\n",
       "      <td>161.499977</td>\n",
       "      <td>161.395784</td>\n",
       "      <td>20279.182348</td>\n",
       "    </tr>\n",
       "    <tr>\n",
       "      <th>min</th>\n",
       "      <td>2.020013e+07</td>\n",
       "      <td>901.000000</td>\n",
       "      <td>29255.000000</td>\n",
       "      <td>29260.00000</td>\n",
       "      <td>29250.000000</td>\n",
       "      <td>29255.000000</td>\n",
       "      <td>100.000000</td>\n",
       "    </tr>\n",
       "    <tr>\n",
       "      <th>25%</th>\n",
       "      <td>2.020013e+07</td>\n",
       "      <td>1044.000000</td>\n",
       "      <td>29560.000000</td>\n",
       "      <td>29570.00000</td>\n",
       "      <td>29550.000000</td>\n",
       "      <td>29560.000000</td>\n",
       "      <td>2907.750000</td>\n",
       "    </tr>\n",
       "    <tr>\n",
       "      <th>50%</th>\n",
       "      <td>2.020013e+07</td>\n",
       "      <td>1207.000000</td>\n",
       "      <td>29630.000000</td>\n",
       "      <td>29640.00000</td>\n",
       "      <td>29625.000000</td>\n",
       "      <td>29630.000000</td>\n",
       "      <td>6739.000000</td>\n",
       "    </tr>\n",
       "    <tr>\n",
       "      <th>75%</th>\n",
       "      <td>2.020013e+07</td>\n",
       "      <td>1330.250000</td>\n",
       "      <td>29784.000000</td>\n",
       "      <td>29789.00000</td>\n",
       "      <td>29779.000000</td>\n",
       "      <td>29784.000000</td>\n",
       "      <td>16555.750000</td>\n",
       "    </tr>\n",
       "    <tr>\n",
       "      <th>max</th>\n",
       "      <td>2.020013e+07</td>\n",
       "      <td>1530.000000</td>\n",
       "      <td>29884.000000</td>\n",
       "      <td>29889.00000</td>\n",
       "      <td>29874.000000</td>\n",
       "      <td>29889.000000</td>\n",
       "      <td>264534.000000</td>\n",
       "    </tr>\n",
       "  </tbody>\n",
       "</table>\n",
       "</div>"
      ],
      "text/plain": [
       "               date         time          open         high           low  \\\n",
       "count  1.000000e+03  1000.000000   1000.000000   1000.00000   1000.000000   \n",
       "mean   2.020013e+07  1194.641000  29642.391000  29649.85600  29634.236000   \n",
       "std    7.868228e-01   169.415471    161.100669    160.60759    161.499977   \n",
       "min    2.020013e+07   901.000000  29255.000000  29260.00000  29250.000000   \n",
       "25%    2.020013e+07  1044.000000  29560.000000  29570.00000  29550.000000   \n",
       "50%    2.020013e+07  1207.000000  29630.000000  29640.00000  29625.000000   \n",
       "75%    2.020013e+07  1330.250000  29784.000000  29789.00000  29779.000000   \n",
       "max    2.020013e+07  1530.000000  29884.000000  29889.00000  29874.000000   \n",
       "\n",
       "              close         volume  \n",
       "count   1000.000000    1000.000000  \n",
       "mean   29642.172000   13113.796000  \n",
       "std      161.395784   20279.182348  \n",
       "min    29255.000000     100.000000  \n",
       "25%    29560.000000    2907.750000  \n",
       "50%    29630.000000    6739.000000  \n",
       "75%    29784.000000   16555.750000  \n",
       "max    29889.000000  264534.000000  "
      ]
     },
     "execution_count": 122,
     "metadata": {},
     "output_type": "execute_result"
    }
   ],
   "source": [
    "kodex200_ts_m_df.describe() # time format 형식 알아내기 위해. zero-padded 되지 않은 %H%M 형식."
   ]
  },
  {
   "cell_type": "code",
   "execution_count": 123,
   "metadata": {},
   "outputs": [
    {
     "data": {
      "text/html": [
       "<div>\n",
       "<style scoped>\n",
       "    .dataframe tbody tr th:only-of-type {\n",
       "        vertical-align: middle;\n",
       "    }\n",
       "\n",
       "    .dataframe tbody tr th {\n",
       "        vertical-align: top;\n",
       "    }\n",
       "\n",
       "    .dataframe thead th {\n",
       "        text-align: right;\n",
       "    }\n",
       "</style>\n",
       "<table border=\"1\" class=\"dataframe\">\n",
       "  <thead>\n",
       "    <tr style=\"text-align: right;\">\n",
       "      <th></th>\n",
       "      <th>date</th>\n",
       "      <th>time</th>\n",
       "      <th>open</th>\n",
       "      <th>high</th>\n",
       "      <th>low</th>\n",
       "      <th>close</th>\n",
       "      <th>volume</th>\n",
       "    </tr>\n",
       "  </thead>\n",
       "  <tbody>\n",
       "    <tr>\n",
       "      <th>0</th>\n",
       "      <td>2020-01-30</td>\n",
       "      <td>13:58:00</td>\n",
       "      <td>29270</td>\n",
       "      <td>29270</td>\n",
       "      <td>29260</td>\n",
       "      <td>29270</td>\n",
       "      <td>1706</td>\n",
       "    </tr>\n",
       "    <tr>\n",
       "      <th>1</th>\n",
       "      <td>2020-01-30</td>\n",
       "      <td>13:57:00</td>\n",
       "      <td>29275</td>\n",
       "      <td>29275</td>\n",
       "      <td>29260</td>\n",
       "      <td>29260</td>\n",
       "      <td>9240</td>\n",
       "    </tr>\n",
       "    <tr>\n",
       "      <th>2</th>\n",
       "      <td>2020-01-30</td>\n",
       "      <td>13:56:00</td>\n",
       "      <td>29280</td>\n",
       "      <td>29285</td>\n",
       "      <td>29265</td>\n",
       "      <td>29270</td>\n",
       "      <td>8952</td>\n",
       "    </tr>\n",
       "    <tr>\n",
       "      <th>3</th>\n",
       "      <td>2020-01-30</td>\n",
       "      <td>13:55:00</td>\n",
       "      <td>29285</td>\n",
       "      <td>29290</td>\n",
       "      <td>29280</td>\n",
       "      <td>29280</td>\n",
       "      <td>2566</td>\n",
       "    </tr>\n",
       "    <tr>\n",
       "      <th>4</th>\n",
       "      <td>2020-01-30</td>\n",
       "      <td>13:54:00</td>\n",
       "      <td>29285</td>\n",
       "      <td>29295</td>\n",
       "      <td>29285</td>\n",
       "      <td>29290</td>\n",
       "      <td>3681</td>\n",
       "    </tr>\n",
       "  </tbody>\n",
       "</table>\n",
       "</div>"
      ],
      "text/plain": [
       "        date      time   open   high    low  close  volume\n",
       "0 2020-01-30  13:58:00  29270  29270  29260  29270    1706\n",
       "1 2020-01-30  13:57:00  29275  29275  29260  29260    9240\n",
       "2 2020-01-30  13:56:00  29280  29285  29265  29270    8952\n",
       "3 2020-01-30  13:55:00  29285  29290  29280  29280    2566\n",
       "4 2020-01-30  13:54:00  29285  29295  29285  29290    3681"
      ]
     },
     "execution_count": 123,
     "metadata": {},
     "output_type": "execute_result"
    }
   ],
   "source": [
    "kodex200_ts_m_df.date = pd.to_datetime(kodex200_ts_m_df.date, format='%Y%m%d')\n",
    "kodex200_ts_m_df.time = pd.to_datetime(kodex200_ts_m_df.time, format='%H%M').dt.time\n",
    "kodex200_ts_m_df.head()"
   ]
  },
  {
   "cell_type": "code",
   "execution_count": 124,
   "metadata": {},
   "outputs": [
    {
     "name": "stdout",
     "output_type": "stream",
     "text": [
      "<class 'pandas.core.frame.DataFrame'>\n",
      "RangeIndex: 1000 entries, 0 to 999\n",
      "Data columns (total 7 columns):\n",
      "date      1000 non-null datetime64[ns]\n",
      "time      1000 non-null object\n",
      "open      1000 non-null int64\n",
      "high      1000 non-null int64\n",
      "low       1000 non-null int64\n",
      "close     1000 non-null int64\n",
      "volume    1000 non-null int64\n",
      "dtypes: datetime64[ns](1), int64(5), object(1)\n",
      "memory usage: 50.8+ KB\n"
     ]
    }
   ],
   "source": [
    "kodex200_ts_m_df.info()"
   ]
  },
  {
   "cell_type": "markdown",
   "metadata": {},
   "source": [
    "date와 time의 type이 일치하지 않는다. 둘 다 str으로 바꾼 뒤 합쳐 다시 datetime으로 파싱시키겠다."
   ]
  },
  {
   "cell_type": "code",
   "execution_count": 125,
   "metadata": {},
   "outputs": [
    {
     "data": {
      "text/html": [
       "<div>\n",
       "<style scoped>\n",
       "    .dataframe tbody tr th:only-of-type {\n",
       "        vertical-align: middle;\n",
       "    }\n",
       "\n",
       "    .dataframe tbody tr th {\n",
       "        vertical-align: top;\n",
       "    }\n",
       "\n",
       "    .dataframe thead th {\n",
       "        text-align: right;\n",
       "    }\n",
       "</style>\n",
       "<table border=\"1\" class=\"dataframe\">\n",
       "  <thead>\n",
       "    <tr style=\"text-align: right;\">\n",
       "      <th></th>\n",
       "      <th>open</th>\n",
       "      <th>high</th>\n",
       "      <th>low</th>\n",
       "      <th>close</th>\n",
       "      <th>volume</th>\n",
       "    </tr>\n",
       "    <tr>\n",
       "      <th>datetime</th>\n",
       "      <th></th>\n",
       "      <th></th>\n",
       "      <th></th>\n",
       "      <th></th>\n",
       "      <th></th>\n",
       "    </tr>\n",
       "  </thead>\n",
       "  <tbody>\n",
       "    <tr>\n",
       "      <th>2020-01-30 13:58:00</th>\n",
       "      <td>29270</td>\n",
       "      <td>29270</td>\n",
       "      <td>29260</td>\n",
       "      <td>29270</td>\n",
       "      <td>1706</td>\n",
       "    </tr>\n",
       "    <tr>\n",
       "      <th>2020-01-30 13:57:00</th>\n",
       "      <td>29275</td>\n",
       "      <td>29275</td>\n",
       "      <td>29260</td>\n",
       "      <td>29260</td>\n",
       "      <td>9240</td>\n",
       "    </tr>\n",
       "    <tr>\n",
       "      <th>2020-01-30 13:56:00</th>\n",
       "      <td>29280</td>\n",
       "      <td>29285</td>\n",
       "      <td>29265</td>\n",
       "      <td>29270</td>\n",
       "      <td>8952</td>\n",
       "    </tr>\n",
       "    <tr>\n",
       "      <th>2020-01-30 13:55:00</th>\n",
       "      <td>29285</td>\n",
       "      <td>29290</td>\n",
       "      <td>29280</td>\n",
       "      <td>29280</td>\n",
       "      <td>2566</td>\n",
       "    </tr>\n",
       "    <tr>\n",
       "      <th>2020-01-30 13:54:00</th>\n",
       "      <td>29285</td>\n",
       "      <td>29295</td>\n",
       "      <td>29285</td>\n",
       "      <td>29290</td>\n",
       "      <td>3681</td>\n",
       "    </tr>\n",
       "  </tbody>\n",
       "</table>\n",
       "</div>"
      ],
      "text/plain": [
       "                      open   high    low  close  volume\n",
       "datetime                                               \n",
       "2020-01-30 13:58:00  29270  29270  29260  29270    1706\n",
       "2020-01-30 13:57:00  29275  29275  29260  29260    9240\n",
       "2020-01-30 13:56:00  29280  29285  29265  29270    8952\n",
       "2020-01-30 13:55:00  29285  29290  29280  29280    2566\n",
       "2020-01-30 13:54:00  29285  29295  29285  29290    3681"
      ]
     },
     "execution_count": 125,
     "metadata": {},
     "output_type": "execute_result"
    }
   ],
   "source": [
    "kodex200_ts_m_df['datetime'] = pd.to_datetime(kodex200_ts_m_df.date.astype(str) + ' ' + kodex200_ts_m_df.time.astype(str))\n",
    "kodex200_ts_m_df = kodex200_ts_m_df.drop(['date', 'time'], axis=1)\n",
    "kodex200_ts_m_df = kodex200_ts_m_df.set_index('datetime')\n",
    "kodex200_ts_m_df.head()"
   ]
  },
  {
   "cell_type": "code",
   "execution_count": 126,
   "metadata": {},
   "outputs": [],
   "source": [
    "kodex200_ts_m_df.to_pickle('./data_files/kodex200_ts_m_df.pkl')"
   ]
  },
  {
   "cell_type": "code",
   "execution_count": null,
   "metadata": {},
   "outputs": [],
   "source": []
  }
 ],
 "metadata": {
  "kernelspec": {
   "display_name": "Python 3",
   "language": "python",
   "name": "python3"
  },
  "language_info": {
   "codemirror_mode": {
    "name": "ipython",
    "version": 3
   },
   "file_extension": ".py",
   "mimetype": "text/x-python",
   "name": "python",
   "nbconvert_exporter": "python",
   "pygments_lexer": "ipython3",
   "version": "3.7.5"
  }
 },
 "nbformat": 4,
 "nbformat_minor": 4
}
