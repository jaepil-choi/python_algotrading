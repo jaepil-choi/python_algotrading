{
 "cells": [
  {
   "cell_type": "code",
   "execution_count": 1,
   "metadata": {},
   "outputs": [],
   "source": [
    "import pickle\n",
    "import pandas as pd\n",
    "\n",
    "import win32com.client"
   ]
  },
  {
   "cell_type": "markdown",
   "metadata": {},
   "source": [
    "One series data인 KODEX200 price 부터 구해본다. \n",
    "\n",
    "추후 scale과 reusability를 고려하여 작성"
   ]
  },
  {
   "cell_type": "markdown",
   "metadata": {},
   "source": [
    "## df에서 코드 가져오기"
   ]
  },
  {
   "cell_type": "code",
   "execution_count": 2,
   "metadata": {},
   "outputs": [
    {
     "data": {
      "text/html": [
       "<div>\n",
       "<style scoped>\n",
       "    .dataframe tbody tr th:only-of-type {\n",
       "        vertical-align: middle;\n",
       "    }\n",
       "\n",
       "    .dataframe tbody tr th {\n",
       "        vertical-align: top;\n",
       "    }\n",
       "\n",
       "    .dataframe thead th {\n",
       "        text-align: right;\n",
       "    }\n",
       "</style>\n",
       "<table border=\"1\" class=\"dataframe\">\n",
       "  <thead>\n",
       "    <tr style=\"text-align: right;\">\n",
       "      <th></th>\n",
       "      <th>code</th>\n",
       "      <th>name</th>\n",
       "      <th>stock_control_kind</th>\n",
       "      <th>stock_supervision_kind</th>\n",
       "      <th>stock_status_kind</th>\n",
       "      <th>stock_kospi200_kind</th>\n",
       "      <th>stock_section_kind</th>\n",
       "    </tr>\n",
       "  </thead>\n",
       "  <tbody>\n",
       "    <tr>\n",
       "      <th>686</th>\n",
       "      <td>A069500</td>\n",
       "      <td>KODEX 200</td>\n",
       "      <td>0</td>\n",
       "      <td>0</td>\n",
       "      <td>0</td>\n",
       "      <td>0</td>\n",
       "      <td>10</td>\n",
       "    </tr>\n",
       "    <tr>\n",
       "      <th>689</th>\n",
       "      <td>A069660</td>\n",
       "      <td>KOSEF 200</td>\n",
       "      <td>0</td>\n",
       "      <td>0</td>\n",
       "      <td>0</td>\n",
       "      <td>0</td>\n",
       "      <td>10</td>\n",
       "    </tr>\n",
       "    <tr>\n",
       "      <th>747</th>\n",
       "      <td>A091160</td>\n",
       "      <td>KODEX 반도체</td>\n",
       "      <td>0</td>\n",
       "      <td>0</td>\n",
       "      <td>0</td>\n",
       "      <td>0</td>\n",
       "      <td>10</td>\n",
       "    </tr>\n",
       "    <tr>\n",
       "      <th>748</th>\n",
       "      <td>A091170</td>\n",
       "      <td>KODEX 은행</td>\n",
       "      <td>0</td>\n",
       "      <td>0</td>\n",
       "      <td>0</td>\n",
       "      <td>0</td>\n",
       "      <td>10</td>\n",
       "    </tr>\n",
       "    <tr>\n",
       "      <th>749</th>\n",
       "      <td>A091180</td>\n",
       "      <td>KODEX 자동차</td>\n",
       "      <td>0</td>\n",
       "      <td>0</td>\n",
       "      <td>0</td>\n",
       "      <td>0</td>\n",
       "      <td>10</td>\n",
       "    </tr>\n",
       "  </tbody>\n",
       "</table>\n",
       "</div>"
      ],
      "text/plain": [
       "        code       name  stock_control_kind  stock_supervision_kind  \\\n",
       "686  A069500  KODEX 200                   0                       0   \n",
       "689  A069660  KOSEF 200                   0                       0   \n",
       "747  A091160  KODEX 반도체                   0                       0   \n",
       "748  A091170   KODEX 은행                   0                       0   \n",
       "749  A091180  KODEX 자동차                   0                       0   \n",
       "\n",
       "     stock_status_kind  stock_kospi200_kind  stock_section_kind  \n",
       "686                  0                    0                  10  \n",
       "689                  0                    0                  10  \n",
       "747                  0                    0                  10  \n",
       "748                  0                    0                  10  \n",
       "749                  0                    0                  10  "
      ]
     },
     "execution_count": 2,
     "metadata": {},
     "output_type": "execute_result"
    }
   ],
   "source": [
    "kospi_ETF_df = pd.read_pickle('./data_files/kospi_ETF_df.pkl')\n",
    "kospi_ETF_df.head()"
   ]
  },
  {
   "cell_type": "code",
   "execution_count": 3,
   "metadata": {},
   "outputs": [
    {
     "data": {
      "text/plain": [
       "686                     KODEX 200\n",
       "689                     KOSEF 200\n",
       "747                     KODEX 반도체\n",
       "748                      KODEX 은행\n",
       "749                     KODEX 자동차\n",
       "                  ...            \n",
       "1361      KBSTAR KRX국채선물3년10년스티프너\n",
       "1362    KBSTAR KRX국채선물3년10년스티프너2X\n",
       "1363      KBSTAR KRX국채선물3년10년플래트너\n",
       "1364    KBSTAR KRX국채선물3년10년플래트너2X\n",
       "1366             HANARO KAP초장기국고채\n",
       "Name: name, Length: 451, dtype: object"
      ]
     },
     "execution_count": 3,
     "metadata": {},
     "output_type": "execute_result"
    }
   ],
   "source": [
    "kospi_ETF_df.name"
   ]
  },
  {
   "cell_type": "code",
   "execution_count": 4,
   "metadata": {},
   "outputs": [
    {
     "data": {
      "text/plain": [
       "'A069500'"
      ]
     },
     "execution_count": 4,
     "metadata": {},
     "output_type": "execute_result"
    }
   ],
   "source": [
    "code = kospi_ETF_df[kospi_ETF_df.name == 'KODEX 200'].to_numpy()[0][0]\n",
    "code"
   ]
  },
  {
   "cell_type": "markdown",
   "metadata": {},
   "source": [
    "## 종목과 조회조건 설정 (Daily data)"
   ]
  },
  {
   "cell_type": "code",
   "execution_count": 5,
   "metadata": {},
   "outputs": [],
   "source": [
    "instStockChart = win32com.client.Dispatch('CPSysDib.StockChart')"
   ]
  },
  {
   "cell_type": "code",
   "execution_count": 23,
   "metadata": {},
   "outputs": [],
   "source": [
    "# 종목과 조회조건 등을 설정. \n",
    "\n",
    "instStockChart.SetInputValue(0, code) # 첫 인자는 데이터 타입, 두 번째 인자는 입력 데이터 값. 0은 종목코드, A003540은 종목코드. \n",
    "instStockChart.SetInputValue(1, ord('2')) # 첫 번째 인자는 기간/요청 설정을 말하는 1. 두 번째 인자는 기간으로 요청 시 1, 개수로 요청시 2. \n",
    "instStockChart.SetInputValue(4, 1000) # 첫 번째 인자는 요청개수 설정을 말하는 4. 두 번째 인자는 실제로 몇 개 요청할 것인지 개수. (여기선 10개)\n",
    "instStockChart.SetInputValue(5, [0, 2, 3, 4, 5, 8]) # 첫 번째 인자는 요청할 데이터의 종류를 말하는 5. 두 번째 인자는 어떤 인자를 요청할 지. 5는 종가. \n",
    "instStockChart.SetInputValue(6, ord('D')) # 첫 번째 인자는 차트의 종류를 말하는 6. 두 번째 인자는 어떤 차트인지. ord('D')는 일단위\n",
    "instStockChart.SetInputValue(9, ord('1')) # 첫 번째 인자는 수정주가의 반영여부를 말하는 9, 두 번째 인자는 수정주가를 의미하는 ord('1')"
   ]
  },
  {
   "cell_type": "code",
   "execution_count": 24,
   "metadata": {},
   "outputs": [
    {
     "data": {
      "text/plain": [
       "0"
      ]
     },
     "execution_count": 24,
     "metadata": {},
     "output_type": "execute_result"
    }
   ],
   "source": [
    "instStockChart.BlockRequest()"
   ]
  },
  {
   "cell_type": "code",
   "execution_count": 25,
   "metadata": {},
   "outputs": [
    {
     "name": "stdout",
     "output_type": "stream",
     "text": [
      "\n",
      "Header information\n",
      "\n",
      "Ticker: A069500\n",
      "Field names: ('날짜', '시가', '고가', '저가', '종가', '거래량')\n",
      "Data count: 1000\n",
      "\n"
     ]
    }
   ],
   "source": [
    "print(\"\"\"\n",
    "Header information\n",
    "\n",
    "Ticker: {ticker}\n",
    "Field names: {field_names}\n",
    "Data count: {data_count}\n",
    "\"\"\".format(\n",
    "    ticker=instStockChart.GetHeaderValue(0),\n",
    "    field_names=instStockChart.GetHeaderValue(2),\n",
    "    data_count=instStockChart.GetHeaderValue(3),\n",
    "))\n"
   ]
  },
  {
   "cell_type": "code",
   "execution_count": 26,
   "metadata": {},
   "outputs": [
    {
     "name": "stdout",
     "output_type": "stream",
     "text": [
      "1000 6\n"
     ]
    }
   ],
   "source": [
    "data_count = instStockChart.GetHeaderValue(3)\n",
    "fields_count = instStockChart.GetHeaderValue(1)\n",
    "print(data_count, fields_count)"
   ]
  },
  {
   "cell_type": "code",
   "execution_count": 27,
   "metadata": {},
   "outputs": [],
   "source": [
    "kodex200 = []\n",
    "\n",
    "for i in range(data_count):\n",
    "    date = instStockChart.GetDataValue(0, i)\n",
    "    open_price = instStockChart.GetDataValue(1, i)\n",
    "    high_price = instStockChart.GetDataValue(2, i)\n",
    "    low_price = instStockChart.GetDataValue(3, i)\n",
    "    close_price = instStockChart.GetDataValue(4, i)\n",
    "    volume = instStockChart.GetDataValue(5, i)\n",
    "    \n",
    "    row_dic = {}\n",
    "    row_dic['date'] = date\n",
    "    row_dic['open'] = open_price\n",
    "    row_dic['high'] = high_price\n",
    "    row_dic['low'] = low_price\n",
    "    row_dic['close'] = close_price\n",
    "    row_dic['volume'] = volume\n",
    "    \n",
    "    kodex200.append(row_dic)"
   ]
  },
  {
   "cell_type": "code",
   "execution_count": 28,
   "metadata": {},
   "outputs": [
    {
     "data": {
      "text/html": [
       "<div>\n",
       "<style scoped>\n",
       "    .dataframe tbody tr th:only-of-type {\n",
       "        vertical-align: middle;\n",
       "    }\n",
       "\n",
       "    .dataframe tbody tr th {\n",
       "        vertical-align: top;\n",
       "    }\n",
       "\n",
       "    .dataframe thead th {\n",
       "        text-align: right;\n",
       "    }\n",
       "</style>\n",
       "<table border=\"1\" class=\"dataframe\">\n",
       "  <thead>\n",
       "    <tr style=\"text-align: right;\">\n",
       "      <th></th>\n",
       "      <th>date</th>\n",
       "      <th>open</th>\n",
       "      <th>high</th>\n",
       "      <th>low</th>\n",
       "      <th>close</th>\n",
       "      <th>volume</th>\n",
       "    </tr>\n",
       "  </thead>\n",
       "  <tbody>\n",
       "    <tr>\n",
       "      <th>0</th>\n",
       "      <td>20200130</td>\n",
       "      <td>29695</td>\n",
       "      <td>29765</td>\n",
       "      <td>29375</td>\n",
       "      <td>29410</td>\n",
       "      <td>2718556</td>\n",
       "    </tr>\n",
       "    <tr>\n",
       "      <th>1</th>\n",
       "      <td>20200129</td>\n",
       "      <td>29764</td>\n",
       "      <td>29889</td>\n",
       "      <td>29585</td>\n",
       "      <td>29735</td>\n",
       "      <td>2968338</td>\n",
       "    </tr>\n",
       "    <tr>\n",
       "      <th>2</th>\n",
       "      <td>20200128</td>\n",
       "      <td>29849</td>\n",
       "      <td>30004</td>\n",
       "      <td>29485</td>\n",
       "      <td>29635</td>\n",
       "      <td>8162182</td>\n",
       "    </tr>\n",
       "    <tr>\n",
       "      <th>3</th>\n",
       "      <td>20200123</td>\n",
       "      <td>30768</td>\n",
       "      <td>30808</td>\n",
       "      <td>30538</td>\n",
       "      <td>30563</td>\n",
       "      <td>5616217</td>\n",
       "    </tr>\n",
       "    <tr>\n",
       "      <th>4</th>\n",
       "      <td>20200122</td>\n",
       "      <td>30498</td>\n",
       "      <td>30997</td>\n",
       "      <td>30483</td>\n",
       "      <td>30967</td>\n",
       "      <td>6071067</td>\n",
       "    </tr>\n",
       "  </tbody>\n",
       "</table>\n",
       "</div>"
      ],
      "text/plain": [
       "       date   open   high    low  close   volume\n",
       "0  20200130  29695  29765  29375  29410  2718556\n",
       "1  20200129  29764  29889  29585  29735  2968338\n",
       "2  20200128  29849  30004  29485  29635  8162182\n",
       "3  20200123  30768  30808  30538  30563  5616217\n",
       "4  20200122  30498  30997  30483  30967  6071067"
      ]
     },
     "execution_count": 28,
     "metadata": {},
     "output_type": "execute_result"
    }
   ],
   "source": [
    "# TODO: 변수 네이밍 바꿔주자 _df 붙일 대상 정하고 time series와 아닌것 구분\n",
    "\n",
    "kodex200_ts_df = pd.DataFrame(kodex200)\n",
    "kodex200_ts_df.head()"
   ]
  },
  {
   "cell_type": "code",
   "execution_count": 29,
   "metadata": {},
   "outputs": [
    {
     "data": {
      "text/html": [
       "<div>\n",
       "<style scoped>\n",
       "    .dataframe tbody tr th:only-of-type {\n",
       "        vertical-align: middle;\n",
       "    }\n",
       "\n",
       "    .dataframe tbody tr th {\n",
       "        vertical-align: top;\n",
       "    }\n",
       "\n",
       "    .dataframe thead th {\n",
       "        text-align: right;\n",
       "    }\n",
       "</style>\n",
       "<table border=\"1\" class=\"dataframe\">\n",
       "  <thead>\n",
       "    <tr style=\"text-align: right;\">\n",
       "      <th></th>\n",
       "      <th>open</th>\n",
       "      <th>high</th>\n",
       "      <th>low</th>\n",
       "      <th>close</th>\n",
       "      <th>volume</th>\n",
       "    </tr>\n",
       "    <tr>\n",
       "      <th>date</th>\n",
       "      <th></th>\n",
       "      <th></th>\n",
       "      <th></th>\n",
       "      <th></th>\n",
       "      <th></th>\n",
       "    </tr>\n",
       "  </thead>\n",
       "  <tbody>\n",
       "    <tr>\n",
       "      <th>2020-01-30</th>\n",
       "      <td>29695</td>\n",
       "      <td>29765</td>\n",
       "      <td>29375</td>\n",
       "      <td>29410</td>\n",
       "      <td>2718556</td>\n",
       "    </tr>\n",
       "    <tr>\n",
       "      <th>2020-01-29</th>\n",
       "      <td>29764</td>\n",
       "      <td>29889</td>\n",
       "      <td>29585</td>\n",
       "      <td>29735</td>\n",
       "      <td>2968338</td>\n",
       "    </tr>\n",
       "    <tr>\n",
       "      <th>2020-01-28</th>\n",
       "      <td>29849</td>\n",
       "      <td>30004</td>\n",
       "      <td>29485</td>\n",
       "      <td>29635</td>\n",
       "      <td>8162182</td>\n",
       "    </tr>\n",
       "    <tr>\n",
       "      <th>2020-01-23</th>\n",
       "      <td>30768</td>\n",
       "      <td>30808</td>\n",
       "      <td>30538</td>\n",
       "      <td>30563</td>\n",
       "      <td>5616217</td>\n",
       "    </tr>\n",
       "    <tr>\n",
       "      <th>2020-01-22</th>\n",
       "      <td>30498</td>\n",
       "      <td>30997</td>\n",
       "      <td>30483</td>\n",
       "      <td>30967</td>\n",
       "      <td>6071067</td>\n",
       "    </tr>\n",
       "  </tbody>\n",
       "</table>\n",
       "</div>"
      ],
      "text/plain": [
       "             open   high    low  close   volume\n",
       "date                                           \n",
       "2020-01-30  29695  29765  29375  29410  2718556\n",
       "2020-01-29  29764  29889  29585  29735  2968338\n",
       "2020-01-28  29849  30004  29485  29635  8162182\n",
       "2020-01-23  30768  30808  30538  30563  5616217\n",
       "2020-01-22  30498  30997  30483  30967  6071067"
      ]
     },
     "execution_count": 29,
     "metadata": {},
     "output_type": "execute_result"
    }
   ],
   "source": [
    "kodex200_ts_df.date = pd.to_datetime(kodex200_ts_df.date, format='%Y%m%d')\n",
    "kodex200_ts_df = kodex200_ts_df.set_index('date')\n",
    "kodex200_ts_df.head()"
   ]
  },
  {
   "cell_type": "code",
   "execution_count": 30,
   "metadata": {},
   "outputs": [],
   "source": [
    "kodex200_ts_df.to_pickle('./data_files/kodex200_ts_df.pkl')"
   ]
  },
  {
   "cell_type": "markdown",
   "metadata": {},
   "source": [
    "## Minute data 얻기. (tick은 너무 작으니까.)"
   ]
  },
  {
   "cell_type": "code",
   "execution_count": 37,
   "metadata": {},
   "outputs": [],
   "source": [
    "# 종목과 조회조건 등을 설정. \n",
    "\n",
    "instStockChart.SetInputValue(0, code) # 첫 인자는 데이터 타입, 두 번째 인자는 입력 데이터 값. 0은 종목코드, A003540은 종목코드. \n",
    "instStockChart.SetInputValue(1, ord('2')) # 첫 번째 인자는 기간/요청 설정을 말하는 1. 두 번째 인자는 기간으로 요청 시 1, 개수로 요청시 2. \n",
    "instStockChart.SetInputValue(4, 1000) # 첫 번째 인자는 요청개수 설정을 말하는 4. 두 번째 인자는 실제로 몇 개 요청할 것인지 개수. (여기선 10개)\n",
    "instStockChart.SetInputValue(5, [0, 1, 2, 3, 4, 5, 8]) # 첫 번째 인자는 요청할 데이터의 종류를 말하는 5. 두 번째 인자는 어떤 인자를 요청할 지. 5는 종가. \n",
    "instStockChart.SetInputValue(6, ord('m')) # 첫 번째 인자는 차트의 종류를 말하는 6. 두 번째 인자는 어떤 차트인지. ord('D')는 일단위\n",
    "instStockChart.SetInputValue(9, ord('1')) # 첫 번째 인자는 수정주가의 반영여부를 말하는 9, 두 번째 인자는 수정주가를 의미하는 ord('1')"
   ]
  },
  {
   "cell_type": "code",
   "execution_count": 38,
   "metadata": {},
   "outputs": [
    {
     "data": {
      "text/plain": [
       "0"
      ]
     },
     "execution_count": 38,
     "metadata": {},
     "output_type": "execute_result"
    }
   ],
   "source": [
    "instStockChart.BlockRequest()"
   ]
  },
  {
   "cell_type": "code",
   "execution_count": 39,
   "metadata": {},
   "outputs": [
    {
     "name": "stdout",
     "output_type": "stream",
     "text": [
      "\n",
      "Header information\n",
      "\n",
      "Ticker: A069500\n",
      "Field names: ('날짜', '시간', '시가', '고가', '저가', '종가', '거래량')\n",
      "Data count: 1000\n",
      "\n"
     ]
    }
   ],
   "source": [
    "print(\"\"\"\n",
    "Header information\n",
    "\n",
    "Ticker: {ticker}\n",
    "Field names: {field_names}\n",
    "Data count: {data_count}\n",
    "\"\"\".format(\n",
    "    ticker=instStockChart.GetHeaderValue(0),\n",
    "    field_names=instStockChart.GetHeaderValue(2),\n",
    "    data_count=instStockChart.GetHeaderValue(3),\n",
    "))\n"
   ]
  },
  {
   "cell_type": "code",
   "execution_count": 40,
   "metadata": {},
   "outputs": [
    {
     "name": "stdout",
     "output_type": "stream",
     "text": [
      "1000 7\n"
     ]
    }
   ],
   "source": [
    "data_count = instStockChart.GetHeaderValue(3)\n",
    "fields_count = instStockChart.GetHeaderValue(1)\n",
    "print(data_count, fields_count)"
   ]
  },
  {
   "cell_type": "code",
   "execution_count": 43,
   "metadata": {},
   "outputs": [],
   "source": [
    "kodex200 = []\n",
    "\n",
    "for i in range(data_count):\n",
    "    date = instStockChart.GetDataValue(0, i)\n",
    "    time = instStockChart.GetDataValue(1, i)\n",
    "    open_price = instStockChart.GetDataValue(2, i)\n",
    "    high_price = instStockChart.GetDataValue(3, i)\n",
    "    low_price = instStockChart.GetDataValue(4, i)\n",
    "    close_price = instStockChart.GetDataValue(5, i)\n",
    "    volume = instStockChart.GetDataValue(6, i)\n",
    "    \n",
    "    row_dic = {}\n",
    "    row_dic['date'] = date\n",
    "    row_dic['time'] = time\n",
    "    row_dic['open'] = open_price\n",
    "    row_dic['high'] = high_price\n",
    "    row_dic['low'] = low_price\n",
    "    row_dic['close'] = close_price\n",
    "    row_dic['volume'] = volume\n",
    "    \n",
    "    kodex200.append(row_dic)"
   ]
  },
  {
   "cell_type": "code",
   "execution_count": 44,
   "metadata": {},
   "outputs": [
    {
     "data": {
      "text/html": [
       "<div>\n",
       "<style scoped>\n",
       "    .dataframe tbody tr th:only-of-type {\n",
       "        vertical-align: middle;\n",
       "    }\n",
       "\n",
       "    .dataframe tbody tr th {\n",
       "        vertical-align: top;\n",
       "    }\n",
       "\n",
       "    .dataframe thead th {\n",
       "        text-align: right;\n",
       "    }\n",
       "</style>\n",
       "<table border=\"1\" class=\"dataframe\">\n",
       "  <thead>\n",
       "    <tr style=\"text-align: right;\">\n",
       "      <th></th>\n",
       "      <th>date</th>\n",
       "      <th>time</th>\n",
       "      <th>open</th>\n",
       "      <th>high</th>\n",
       "      <th>low</th>\n",
       "      <th>close</th>\n",
       "      <th>volume</th>\n",
       "    </tr>\n",
       "  </thead>\n",
       "  <tbody>\n",
       "    <tr>\n",
       "      <th>0</th>\n",
       "      <td>20200130</td>\n",
       "      <td>1351</td>\n",
       "      <td>29295</td>\n",
       "      <td>29295</td>\n",
       "      <td>29285</td>\n",
       "      <td>29285</td>\n",
       "      <td>190</td>\n",
       "    </tr>\n",
       "    <tr>\n",
       "      <th>1</th>\n",
       "      <td>20200130</td>\n",
       "      <td>1350</td>\n",
       "      <td>29285</td>\n",
       "      <td>29295</td>\n",
       "      <td>29275</td>\n",
       "      <td>29290</td>\n",
       "      <td>4316</td>\n",
       "    </tr>\n",
       "    <tr>\n",
       "      <th>2</th>\n",
       "      <td>20200130</td>\n",
       "      <td>1349</td>\n",
       "      <td>29270</td>\n",
       "      <td>29290</td>\n",
       "      <td>29270</td>\n",
       "      <td>29280</td>\n",
       "      <td>6322</td>\n",
       "    </tr>\n",
       "    <tr>\n",
       "      <th>3</th>\n",
       "      <td>20200130</td>\n",
       "      <td>1348</td>\n",
       "      <td>29260</td>\n",
       "      <td>29275</td>\n",
       "      <td>29255</td>\n",
       "      <td>29270</td>\n",
       "      <td>7503</td>\n",
       "    </tr>\n",
       "    <tr>\n",
       "      <th>4</th>\n",
       "      <td>20200130</td>\n",
       "      <td>1347</td>\n",
       "      <td>29265</td>\n",
       "      <td>29265</td>\n",
       "      <td>29250</td>\n",
       "      <td>29260</td>\n",
       "      <td>9275</td>\n",
       "    </tr>\n",
       "  </tbody>\n",
       "</table>\n",
       "</div>"
      ],
      "text/plain": [
       "       date  time   open   high    low  close  volume\n",
       "0  20200130  1351  29295  29295  29285  29285     190\n",
       "1  20200130  1350  29285  29295  29275  29290    4316\n",
       "2  20200130  1349  29270  29290  29270  29280    6322\n",
       "3  20200130  1348  29260  29275  29255  29270    7503\n",
       "4  20200130  1347  29265  29265  29250  29260    9275"
      ]
     },
     "execution_count": 44,
     "metadata": {},
     "output_type": "execute_result"
    }
   ],
   "source": [
    "# TODO: 변수 네이밍 바꿔주자 _df 붙일 대상 정하고 time series와 아닌것 구분\n",
    "\n",
    "kodex200_ts_df = pd.DataFrame(kodex200)\n",
    "kodex200_ts_df.head()"
   ]
  },
  {
   "cell_type": "code",
   "execution_count": 45,
   "metadata": {},
   "outputs": [
    {
     "data": {
      "text/html": [
       "<div>\n",
       "<style scoped>\n",
       "    .dataframe tbody tr th:only-of-type {\n",
       "        vertical-align: middle;\n",
       "    }\n",
       "\n",
       "    .dataframe tbody tr th {\n",
       "        vertical-align: top;\n",
       "    }\n",
       "\n",
       "    .dataframe thead th {\n",
       "        text-align: right;\n",
       "    }\n",
       "</style>\n",
       "<table border=\"1\" class=\"dataframe\">\n",
       "  <thead>\n",
       "    <tr style=\"text-align: right;\">\n",
       "      <th></th>\n",
       "      <th>date</th>\n",
       "      <th>time</th>\n",
       "      <th>open</th>\n",
       "      <th>high</th>\n",
       "      <th>low</th>\n",
       "      <th>close</th>\n",
       "      <th>volume</th>\n",
       "    </tr>\n",
       "  </thead>\n",
       "  <tbody>\n",
       "    <tr>\n",
       "      <th>995</th>\n",
       "      <td>20200128</td>\n",
       "      <td>958</td>\n",
       "      <td>29764</td>\n",
       "      <td>29764</td>\n",
       "      <td>29749</td>\n",
       "      <td>29754</td>\n",
       "      <td>5198</td>\n",
       "    </tr>\n",
       "    <tr>\n",
       "      <th>996</th>\n",
       "      <td>20200128</td>\n",
       "      <td>957</td>\n",
       "      <td>29754</td>\n",
       "      <td>29759</td>\n",
       "      <td>29749</td>\n",
       "      <td>29759</td>\n",
       "      <td>29256</td>\n",
       "    </tr>\n",
       "    <tr>\n",
       "      <th>997</th>\n",
       "      <td>20200128</td>\n",
       "      <td>956</td>\n",
       "      <td>29764</td>\n",
       "      <td>29769</td>\n",
       "      <td>29749</td>\n",
       "      <td>29749</td>\n",
       "      <td>22529</td>\n",
       "    </tr>\n",
       "    <tr>\n",
       "      <th>998</th>\n",
       "      <td>20200128</td>\n",
       "      <td>955</td>\n",
       "      <td>29784</td>\n",
       "      <td>29789</td>\n",
       "      <td>29764</td>\n",
       "      <td>29764</td>\n",
       "      <td>30621</td>\n",
       "    </tr>\n",
       "    <tr>\n",
       "      <th>999</th>\n",
       "      <td>20200128</td>\n",
       "      <td>954</td>\n",
       "      <td>29794</td>\n",
       "      <td>29794</td>\n",
       "      <td>29784</td>\n",
       "      <td>29789</td>\n",
       "      <td>14406</td>\n",
       "    </tr>\n",
       "  </tbody>\n",
       "</table>\n",
       "</div>"
      ],
      "text/plain": [
       "         date  time   open   high    low  close  volume\n",
       "995  20200128   958  29764  29764  29749  29754    5198\n",
       "996  20200128   957  29754  29759  29749  29759   29256\n",
       "997  20200128   956  29764  29769  29749  29749   22529\n",
       "998  20200128   955  29784  29789  29764  29764   30621\n",
       "999  20200128   954  29794  29794  29784  29789   14406"
      ]
     },
     "execution_count": 45,
     "metadata": {},
     "output_type": "execute_result"
    }
   ],
   "source": [
    "kodex200_ts_df.tail()"
   ]
  },
  {
   "cell_type": "code",
   "execution_count": null,
   "metadata": {},
   "outputs": [],
   "source": []
  }
 ],
 "metadata": {
  "kernelspec": {
   "display_name": "Python 3",
   "language": "python",
   "name": "python3"
  },
  "language_info": {
   "codemirror_mode": {
    "name": "ipython",
    "version": 3
   },
   "file_extension": ".py",
   "mimetype": "text/x-python",
   "name": "python",
   "nbconvert_exporter": "python",
   "pygments_lexer": "ipython3",
   "version": "3.7.5"
  }
 },
 "nbformat": 4,
 "nbformat_minor": 4
}
