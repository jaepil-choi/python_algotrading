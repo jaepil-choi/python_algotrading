{
 "cells": [
  {
   "cell_type": "markdown",
   "metadata": {},
   "source": [
    "책의 내용은 outdated. Zipline official tutorial을 따라하겠다. "
   ]
  },
  {
   "cell_type": "code",
   "execution_count": 83,
   "metadata": {},
   "outputs": [],
   "source": [
    "import pandas as pd\n",
    "\n",
    "# from zipline.examples import buyapple # talib library가 없음. \n",
    "import pandas_datareader.data as web\n",
    "from zipline.api import order, symbol, record\n",
    "# from zipline.algorithm import TradingAlgorithm # deprecated. \n",
    "\n",
    "from zipline.data.bundles import register\n",
    "from zipline.data.bundles.csvdir import csvdir_equities\n",
    "\n",
    "import datetime\n",
    "import matplotlib.pyplot as plt\n",
    "import os, sys, platform"
   ]
  },
  {
   "cell_type": "code",
   "execution_count": 88,
   "metadata": {},
   "outputs": [],
   "source": [
    "%load_ext zipline"
   ]
  },
  {
   "cell_type": "code",
   "execution_count": 21,
   "metadata": {},
   "outputs": [
    {
     "data": {
      "text/html": [
       "<div>\n",
       "<style scoped>\n",
       "    .dataframe tbody tr th:only-of-type {\n",
       "        vertical-align: middle;\n",
       "    }\n",
       "\n",
       "    .dataframe tbody tr th {\n",
       "        vertical-align: top;\n",
       "    }\n",
       "\n",
       "    .dataframe thead th {\n",
       "        text-align: right;\n",
       "    }\n",
       "</style>\n",
       "<table border=\"1\" class=\"dataframe\">\n",
       "  <thead>\n",
       "    <tr style=\"text-align: right;\">\n",
       "      <th></th>\n",
       "      <th>High</th>\n",
       "      <th>Low</th>\n",
       "      <th>Open</th>\n",
       "      <th>Close</th>\n",
       "      <th>Volume</th>\n",
       "      <th>Adj Close</th>\n",
       "    </tr>\n",
       "    <tr>\n",
       "      <th>Date</th>\n",
       "      <th></th>\n",
       "      <th></th>\n",
       "      <th></th>\n",
       "      <th></th>\n",
       "      <th></th>\n",
       "      <th></th>\n",
       "    </tr>\n",
       "  </thead>\n",
       "  <tbody>\n",
       "    <tr>\n",
       "      <th>2020-01-06</th>\n",
       "      <td>299.959991</td>\n",
       "      <td>292.750000</td>\n",
       "      <td>293.790009</td>\n",
       "      <td>299.799988</td>\n",
       "      <td>29596800.0</td>\n",
       "      <td>299.799988</td>\n",
       "    </tr>\n",
       "    <tr>\n",
       "      <th>2020-01-07</th>\n",
       "      <td>300.899994</td>\n",
       "      <td>297.480011</td>\n",
       "      <td>299.839996</td>\n",
       "      <td>298.390015</td>\n",
       "      <td>27218000.0</td>\n",
       "      <td>298.390015</td>\n",
       "    </tr>\n",
       "    <tr>\n",
       "      <th>2020-01-08</th>\n",
       "      <td>304.440002</td>\n",
       "      <td>297.160004</td>\n",
       "      <td>297.160004</td>\n",
       "      <td>303.190002</td>\n",
       "      <td>33019800.0</td>\n",
       "      <td>303.190002</td>\n",
       "    </tr>\n",
       "    <tr>\n",
       "      <th>2020-01-09</th>\n",
       "      <td>310.429993</td>\n",
       "      <td>306.200012</td>\n",
       "      <td>307.239990</td>\n",
       "      <td>309.630005</td>\n",
       "      <td>42527100.0</td>\n",
       "      <td>309.630005</td>\n",
       "    </tr>\n",
       "    <tr>\n",
       "      <th>2020-01-10</th>\n",
       "      <td>312.670013</td>\n",
       "      <td>308.250000</td>\n",
       "      <td>310.600006</td>\n",
       "      <td>310.329987</td>\n",
       "      <td>35161200.0</td>\n",
       "      <td>310.329987</td>\n",
       "    </tr>\n",
       "  </tbody>\n",
       "</table>\n",
       "</div>"
      ],
      "text/plain": [
       "                  High         Low        Open       Close      Volume  \\\n",
       "Date                                                                     \n",
       "2020-01-06  299.959991  292.750000  293.790009  299.799988  29596800.0   \n",
       "2020-01-07  300.899994  297.480011  299.839996  298.390015  27218000.0   \n",
       "2020-01-08  304.440002  297.160004  297.160004  303.190002  33019800.0   \n",
       "2020-01-09  310.429993  306.200012  307.239990  309.630005  42527100.0   \n",
       "2020-01-10  312.670013  308.250000  310.600006  310.329987  35161200.0   \n",
       "\n",
       "             Adj Close  \n",
       "Date                    \n",
       "2020-01-06  299.799988  \n",
       "2020-01-07  298.390015  \n",
       "2020-01-08  303.190002  \n",
       "2020-01-09  309.630005  \n",
       "2020-01-10  310.329987  "
      ]
     },
     "execution_count": 21,
     "metadata": {},
     "output_type": "execute_result"
    }
   ],
   "source": [
    "start = datetime.datetime(2015, 1, 1)\n",
    "end = datetime.datetime(2020, 1, 10)\n",
    "\n",
    "data = web.DataReader('AAPL', 'yahoo', start, end)\n",
    "data.tail()"
   ]
  },
  {
   "cell_type": "code",
   "execution_count": 22,
   "metadata": {},
   "outputs": [
    {
     "data": {
      "image/png": "[encoded data removed]",
      "text/plain": [
       "<Figure size 432x288 with 1 Axes>"
      ]
     },
     "metadata": {
      "needs_background": "light"
     },
     "output_type": "display_data"
    }
   ],
   "source": [
    "plt.plot(data.index, data['Adj Close'])\n",
    "plt.show()"
   ]
  },
  {
   "cell_type": "code",
   "execution_count": 23,
   "metadata": {},
   "outputs": [],
   "source": [
    "# %matplotlib # 별도의 창에 그래프 출력"
   ]
  },
  {
   "cell_type": "markdown",
   "metadata": {},
   "source": [
    "Ingesting Data\n",
    "If you haven’t ingested the data, you’ll need a Quandl API key to ingest the default bundle. Then run:\n",
    "\n",
    "$ QUANDL_API_KEY=<yourkey> zipline ingest [-b <bundle>]\n",
    "where <bundle> is the name of the bundle to ingest, defaulting to quandl.\n",
    "\n",
    "you can check out the ingesting data section for more detail.\n",
    "\n",
    "Default는 Quandl을 써야한다. 새로 자신만의 data bundle을 ingest 시킬 수도 있다. "
   ]
  },
  {
   "cell_type": "markdown",
   "metadata": {},
   "source": [
    "### Data Bundles\n",
    "A data bundle is a collection of pricing data, adjustment data, and an asset database. Bundles allow us to preload all of the data we will need to run backtests and store the data for future runs.\n",
    "\n",
    "### Discovering Available Bundles\n",
    "Zipline comes with a few bundles by default as well as the ability to register new bundles. To see which bundles we have available, we may run the bundles command, for example:"
   ]
  },
  {
   "cell_type": "markdown",
   "metadata": {},
   "source": [
    "### Ingesting Data from .csv Files\n",
    "\n",
    "Zipline provides a bundle called csvdir, which allows users to ingest data from .csv files. The format of the files should be in OHLCV format, with dates, dividends, and splits. A sample is provided below. There are other samples for testing purposes in zipline/tests/resources/csvdir_samples."
   ]
  },
  {
   "cell_type": "code",
   "execution_count": 24,
   "metadata": {},
   "outputs": [
    {
     "data": {
      "text/html": [
       "<div>\n",
       "<style scoped>\n",
       "    .dataframe tbody tr th:only-of-type {\n",
       "        vertical-align: middle;\n",
       "    }\n",
       "\n",
       "    .dataframe tbody tr th {\n",
       "        vertical-align: top;\n",
       "    }\n",
       "\n",
       "    .dataframe thead th {\n",
       "        text-align: right;\n",
       "    }\n",
       "</style>\n",
       "<table border=\"1\" class=\"dataframe\">\n",
       "  <thead>\n",
       "    <tr style=\"text-align: right;\">\n",
       "      <th></th>\n",
       "      <th>Open</th>\n",
       "      <th>High</th>\n",
       "      <th>Low</th>\n",
       "      <th>Adj Close</th>\n",
       "      <th>Volume</th>\n",
       "    </tr>\n",
       "    <tr>\n",
       "      <th>Date</th>\n",
       "      <th></th>\n",
       "      <th></th>\n",
       "      <th></th>\n",
       "      <th></th>\n",
       "      <th></th>\n",
       "    </tr>\n",
       "  </thead>\n",
       "  <tbody>\n",
       "    <tr>\n",
       "      <th>2020-01-06</th>\n",
       "      <td>293.790009</td>\n",
       "      <td>299.959991</td>\n",
       "      <td>292.750000</td>\n",
       "      <td>299.799988</td>\n",
       "      <td>29596800.0</td>\n",
       "    </tr>\n",
       "    <tr>\n",
       "      <th>2020-01-07</th>\n",
       "      <td>299.839996</td>\n",
       "      <td>300.899994</td>\n",
       "      <td>297.480011</td>\n",
       "      <td>298.390015</td>\n",
       "      <td>27218000.0</td>\n",
       "    </tr>\n",
       "    <tr>\n",
       "      <th>2020-01-08</th>\n",
       "      <td>297.160004</td>\n",
       "      <td>304.440002</td>\n",
       "      <td>297.160004</td>\n",
       "      <td>303.190002</td>\n",
       "      <td>33019800.0</td>\n",
       "    </tr>\n",
       "    <tr>\n",
       "      <th>2020-01-09</th>\n",
       "      <td>307.239990</td>\n",
       "      <td>310.429993</td>\n",
       "      <td>306.200012</td>\n",
       "      <td>309.630005</td>\n",
       "      <td>42527100.0</td>\n",
       "    </tr>\n",
       "    <tr>\n",
       "      <th>2020-01-10</th>\n",
       "      <td>310.600006</td>\n",
       "      <td>312.670013</td>\n",
       "      <td>308.250000</td>\n",
       "      <td>310.329987</td>\n",
       "      <td>35161200.0</td>\n",
       "    </tr>\n",
       "  </tbody>\n",
       "</table>\n",
       "</div>"
      ],
      "text/plain": [
       "                  Open        High         Low   Adj Close      Volume\n",
       "Date                                                                  \n",
       "2020-01-06  293.790009  299.959991  292.750000  299.799988  29596800.0\n",
       "2020-01-07  299.839996  300.899994  297.480011  298.390015  27218000.0\n",
       "2020-01-08  297.160004  304.440002  297.160004  303.190002  33019800.0\n",
       "2020-01-09  307.239990  310.429993  306.200012  309.630005  42527100.0\n",
       "2020-01-10  310.600006  312.670013  308.250000  310.329987  35161200.0"
      ]
     },
     "execution_count": 24,
     "metadata": {},
     "output_type": "execute_result"
    }
   ],
   "source": [
    "data = data[['Open', 'High', 'Low', 'Adj Close', 'Volume']] # To OHLCV format. \n",
    "data.tail()"
   ]
  },
  {
   "cell_type": "code",
   "execution_count": 75,
   "metadata": {},
   "outputs": [
    {
     "data": {
      "text/html": [
       "<div>\n",
       "<style scoped>\n",
       "    .dataframe tbody tr th:only-of-type {\n",
       "        vertical-align: middle;\n",
       "    }\n",
       "\n",
       "    .dataframe tbody tr th {\n",
       "        vertical-align: top;\n",
       "    }\n",
       "\n",
       "    .dataframe thead th {\n",
       "        text-align: right;\n",
       "    }\n",
       "</style>\n",
       "<table border=\"1\" class=\"dataframe\">\n",
       "  <thead>\n",
       "    <tr style=\"text-align: right;\">\n",
       "      <th></th>\n",
       "      <th>open</th>\n",
       "      <th>high</th>\n",
       "      <th>low</th>\n",
       "      <th>close</th>\n",
       "      <th>volume</th>\n",
       "      <th>dividend</th>\n",
       "      <th>split</th>\n",
       "    </tr>\n",
       "    <tr>\n",
       "      <th>date</th>\n",
       "      <th></th>\n",
       "      <th></th>\n",
       "      <th></th>\n",
       "      <th></th>\n",
       "      <th></th>\n",
       "      <th></th>\n",
       "      <th></th>\n",
       "    </tr>\n",
       "  </thead>\n",
       "  <tbody>\n",
       "    <tr>\n",
       "      <th>2020-01-06</th>\n",
       "      <td>293.790009</td>\n",
       "      <td>299.959991</td>\n",
       "      <td>292.750000</td>\n",
       "      <td>299.799988</td>\n",
       "      <td>29596800.0</td>\n",
       "      <td>0</td>\n",
       "      <td>1</td>\n",
       "    </tr>\n",
       "    <tr>\n",
       "      <th>2020-01-07</th>\n",
       "      <td>299.839996</td>\n",
       "      <td>300.899994</td>\n",
       "      <td>297.480011</td>\n",
       "      <td>298.390015</td>\n",
       "      <td>27218000.0</td>\n",
       "      <td>0</td>\n",
       "      <td>1</td>\n",
       "    </tr>\n",
       "    <tr>\n",
       "      <th>2020-01-08</th>\n",
       "      <td>297.160004</td>\n",
       "      <td>304.440002</td>\n",
       "      <td>297.160004</td>\n",
       "      <td>303.190002</td>\n",
       "      <td>33019800.0</td>\n",
       "      <td>0</td>\n",
       "      <td>1</td>\n",
       "    </tr>\n",
       "    <tr>\n",
       "      <th>2020-01-09</th>\n",
       "      <td>307.239990</td>\n",
       "      <td>310.429993</td>\n",
       "      <td>306.200012</td>\n",
       "      <td>309.630005</td>\n",
       "      <td>42527100.0</td>\n",
       "      <td>0</td>\n",
       "      <td>1</td>\n",
       "    </tr>\n",
       "    <tr>\n",
       "      <th>2020-01-10</th>\n",
       "      <td>310.600006</td>\n",
       "      <td>312.670013</td>\n",
       "      <td>308.250000</td>\n",
       "      <td>310.329987</td>\n",
       "      <td>35161200.0</td>\n",
       "      <td>0</td>\n",
       "      <td>1</td>\n",
       "    </tr>\n",
       "  </tbody>\n",
       "</table>\n",
       "</div>"
      ],
      "text/plain": [
       "                  open        high         low       close      volume  \\\n",
       "date                                                                     \n",
       "2020-01-06  293.790009  299.959991  292.750000  299.799988  29596800.0   \n",
       "2020-01-07  299.839996  300.899994  297.480011  298.390015  27218000.0   \n",
       "2020-01-08  297.160004  304.440002  297.160004  303.190002  33019800.0   \n",
       "2020-01-09  307.239990  310.429993  306.200012  309.630005  42527100.0   \n",
       "2020-01-10  310.600006  312.670013  308.250000  310.329987  35161200.0   \n",
       "\n",
       "            dividend  split  \n",
       "date                         \n",
       "2020-01-06         0      1  \n",
       "2020-01-07         0      1  \n",
       "2020-01-08         0      1  \n",
       "2020-01-09         0      1  \n",
       "2020-01-10         0      1  "
      ]
     },
     "execution_count": 75,
     "metadata": {},
     "output_type": "execute_result"
    }
   ],
   "source": [
    "data = data.rename(columns={'Open':'open', 'High':'high', 'Low':'low', 'Adj Close':'close', 'Volume':'volume'})\n",
    "data.index.names = ['date']\n",
    "\n",
    "data['dividend'] = 0\n",
    "data['split'] = 1\n",
    "\n",
    "data.tail()"
   ]
  },
  {
   "cell_type": "code",
   "execution_count": 76,
   "metadata": {},
   "outputs": [
    {
     "data": {
      "text/html": [
       "<div>\n",
       "<style scoped>\n",
       "    .dataframe tbody tr th:only-of-type {\n",
       "        vertical-align: middle;\n",
       "    }\n",
       "\n",
       "    .dataframe tbody tr th {\n",
       "        vertical-align: top;\n",
       "    }\n",
       "\n",
       "    .dataframe thead th {\n",
       "        text-align: right;\n",
       "    }\n",
       "</style>\n",
       "<table border=\"1\" class=\"dataframe\">\n",
       "  <thead>\n",
       "    <tr style=\"text-align: right;\">\n",
       "      <th></th>\n",
       "      <th>open</th>\n",
       "      <th>high</th>\n",
       "      <th>low</th>\n",
       "      <th>close</th>\n",
       "      <th>volume</th>\n",
       "      <th>dividend</th>\n",
       "      <th>split</th>\n",
       "    </tr>\n",
       "    <tr>\n",
       "      <th>date</th>\n",
       "      <th></th>\n",
       "      <th></th>\n",
       "      <th></th>\n",
       "      <th></th>\n",
       "      <th></th>\n",
       "      <th></th>\n",
       "      <th></th>\n",
       "    </tr>\n",
       "  </thead>\n",
       "  <tbody>\n",
       "    <tr>\n",
       "      <th>2014-12-31</th>\n",
       "      <td>112.820000</td>\n",
       "      <td>113.129997</td>\n",
       "      <td>110.209999</td>\n",
       "      <td>101.419060</td>\n",
       "      <td>41403400.0</td>\n",
       "      <td>0</td>\n",
       "      <td>1</td>\n",
       "    </tr>\n",
       "    <tr>\n",
       "      <th>2015-01-02</th>\n",
       "      <td>111.389999</td>\n",
       "      <td>111.440002</td>\n",
       "      <td>107.349998</td>\n",
       "      <td>100.454300</td>\n",
       "      <td>53204600.0</td>\n",
       "      <td>0</td>\n",
       "      <td>1</td>\n",
       "    </tr>\n",
       "    <tr>\n",
       "      <th>2015-01-05</th>\n",
       "      <td>108.290001</td>\n",
       "      <td>108.650002</td>\n",
       "      <td>105.410004</td>\n",
       "      <td>97.624336</td>\n",
       "      <td>64285500.0</td>\n",
       "      <td>0</td>\n",
       "      <td>1</td>\n",
       "    </tr>\n",
       "    <tr>\n",
       "      <th>2015-01-06</th>\n",
       "      <td>106.540001</td>\n",
       "      <td>107.430000</td>\n",
       "      <td>104.629997</td>\n",
       "      <td>97.633545</td>\n",
       "      <td>65797100.0</td>\n",
       "      <td>0</td>\n",
       "      <td>1</td>\n",
       "    </tr>\n",
       "    <tr>\n",
       "      <th>2015-01-07</th>\n",
       "      <td>107.199997</td>\n",
       "      <td>108.199997</td>\n",
       "      <td>106.699997</td>\n",
       "      <td>99.002556</td>\n",
       "      <td>40105900.0</td>\n",
       "      <td>0</td>\n",
       "      <td>1</td>\n",
       "    </tr>\n",
       "  </tbody>\n",
       "</table>\n",
       "</div>"
      ],
      "text/plain": [
       "                  open        high         low       close      volume  \\\n",
       "date                                                                     \n",
       "2014-12-31  112.820000  113.129997  110.209999  101.419060  41403400.0   \n",
       "2015-01-02  111.389999  111.440002  107.349998  100.454300  53204600.0   \n",
       "2015-01-05  108.290001  108.650002  105.410004   97.624336  64285500.0   \n",
       "2015-01-06  106.540001  107.430000  104.629997   97.633545  65797100.0   \n",
       "2015-01-07  107.199997  108.199997  106.699997   99.002556  40105900.0   \n",
       "\n",
       "            dividend  split  \n",
       "date                         \n",
       "2014-12-31         0      1  \n",
       "2015-01-02         0      1  \n",
       "2015-01-05         0      1  \n",
       "2015-01-06         0      1  \n",
       "2015-01-07         0      1  "
      ]
     },
     "execution_count": 76,
     "metadata": {},
     "output_type": "execute_result"
    }
   ],
   "source": [
    "data.head()"
   ]
  },
  {
   "cell_type": "code",
   "execution_count": 78,
   "metadata": {},
   "outputs": [],
   "source": [
    "data.to_csv('AAPL.csv')"
   ]
  },
  {
   "cell_type": "code",
   "execution_count": 89,
   "metadata": {},
   "outputs": [],
   "source": [
    "# We’ll then want to specify the start and end sessions of our bundle data:\n",
    "\n",
    "start_session = pd.Timestamp('2014-12-31', tz='utc')\n",
    "end_session = pd.Timestamp('2020-01-10', tz='utc')"
   ]
  },
  {
   "cell_type": "code",
   "execution_count": 90,
   "metadata": {},
   "outputs": [
    {
     "name": "stdout",
     "output_type": "stream",
     "text": [
      "E:\\VSCodeProjects\\BOOK-python_algorithm_trading\\64-bit-jupyter_notes\\AAPL.csv\n"
     ]
    }
   ],
   "source": [
    "AAPL_path = os.getcwd() + '\\AAPL.csv'\n",
    "# AAPL_path = \"/Users/Jaepil/csvdir\"\n",
    "print(AAPL_path)"
   ]
  },
  {
   "cell_type": "code",
   "execution_count": 91,
   "metadata": {},
   "outputs": [
    {
     "name": "stderr",
     "output_type": "stream",
     "text": [
      "C:\\Users\\Jaepil\\Anaconda3\\envs\\finance35\\lib\\site-packages\\ipykernel_launcher.py:10: UserWarning: Overwriting bundle with name 'custom-csvdir-bundle'\n",
      "  # Remove the CWD from sys.path while we load stuff.\n",
      "Error: No bundle registered with the name 'custom-csvdir-bundle'\n"
     ]
    }
   ],
   "source": [
    "# And then we can register() our bundle, and pass the location of the directory in which our .csv files exist:\n",
    "register(\n",
    "    'custom-csvdir-bundle',\n",
    "    csvdir_equities(\n",
    "        ['daily'],\n",
    "        AAPL_path,\n",
    "    ),\n",
    "    calendar_name='NYSE', # US equities\n",
    "    start_session=start_session,\n",
    "    end_session=end_session\n",
    ")\n",
    "\n",
    "! zipline ingest -b custom-csvdir-bundle"
   ]
  },
  {
   "cell_type": "code",
   "execution_count": 92,
   "metadata": {},
   "outputs": [
    {
     "name": "stdout",
     "output_type": "stream",
     "text": [
      "csvdir <no ingestions>\n",
      "quandl 2018-12-05 03:31:01.019935\n",
      "quandl 2018-12-05 03:29:17.422113\n",
      "quantopian-quandl 2018-12-05 06:50:49.551946\n",
      "quantopian-quandl 2018-12-05 05:51:14.323103\n",
      "quantopian-quandl 2018-12-05 05:50:43.861751\n",
      "quantopian-quandl 2018-12-05 04:59:13.556148\n",
      "quantopian-quandl 2018-12-05 03:56:31.595168\n"
     ]
    }
   ],
   "source": [
    "! zipline bundles"
   ]
  },
  {
   "cell_type": "markdown",
   "metadata": {},
   "source": [
    "백테스팅에 사용할 데이터가 준비되면 알고리즘을 구현하면 됩니다. 앞서 설명한 것처럼 이번 절에서는 단순히 매일 정해진 수량의 주식을 매수하는 알고리즘을 구현해 보겠습니다.\n",
    "\n",
    "Zipline을 이용해 알고리즘을 백테스팅하려면 먼저 initialize와 handle_data라는 함수를 구현해야 합니다. Zipline 백테스팅 시뮬레이터는 시뮬레이션을 수행하기 전에 항상 initialize 함수를 호출합니다. 따라서 여러분은 시뮬레이션에 사용할 초기 투자 금액이나 거래 수수료와 같은 값들을 initialize 함수에서 설정할 수 있습니다.\n",
    "\n",
    "실제 거래 알고리즘은 handle_data라는 이름의 함수에서 구현하면 됩니다. Zipline 시뮬레이터는 시뮬레이션을 수행하는 동안 거래일마다 handle_data를 호출합니다. 그림 14.17은 Zipline 백테스팅의 주요 시뮬레이션 과정을 그림으로 나타낸 것입니다.\n",
    "\n",
    "\n",
    "마치 아두이노같은 구조이다. initialize한 후 계속 loop를 돈다. "
   ]
  },
  {
   "cell_type": "code",
   "execution_count": 5,
   "metadata": {},
   "outputs": [],
   "source": [
    "def initialize(context):\n",
    "    pass # 초기값 그대로 사용"
   ]
  },
  {
   "cell_type": "markdown",
   "metadata": {},
   "source": [
    "handle_data 함수를 구현하기 전에 zipline.api 모듈로부터 사용할 함수를 임포트합니다. order는 Zipline 백테스팅 시뮬레이션에서 주문을 실행하는 함수이며, symbol은 참조할 데이터에 대한 심볼을 등록하는 함수입니다. order 함수를 사용해 심볼이 'AAPL'인 주식 한 주를 매수하도록 코드를 구현합니다."
   ]
  },
  {
   "cell_type": "code",
   "execution_count": 6,
   "metadata": {},
   "outputs": [
    {
     "ename": "SyntaxError",
     "evalue": "unexpected EOF while parsing (<ipython-input-6-9a1831a8ef9c>, line 3)",
     "output_type": "error",
     "traceback": [
      "\u001b[1;36m  File \u001b[1;32m\"<ipython-input-6-9a1831a8ef9c>\"\u001b[1;36m, line \u001b[1;32m3\u001b[0m\n\u001b[1;33m    record(AAPL=data.current(symbol('AAPL'), 'price')\u001b[0m\n\u001b[1;37m                                                     ^\u001b[0m\n\u001b[1;31mSyntaxError\u001b[0m\u001b[1;31m:\u001b[0m unexpected EOF while parsing\n"
     ]
    }
   ],
   "source": [
    "def handle_data(context, data):\n",
    "    order(symbol('AAPL'), 1) # symbol은 dataframe 객체에서 사용할 칼럼 인덱스이다. df의 칼럼을 AAPL로 맞춰줘야 한다. \n",
    "    record(AAPL=data.current(symbol('AAPL'), 'price')"
   ]
  },
  {
   "cell_type": "code",
   "execution_count": 25,
   "metadata": {},
   "outputs": [
    {
     "data": {
      "text/html": [
       "<div>\n",
       "<style scoped>\n",
       "    .dataframe tbody tr th:only-of-type {\n",
       "        vertical-align: middle;\n",
       "    }\n",
       "\n",
       "    .dataframe tbody tr th {\n",
       "        vertical-align: top;\n",
       "    }\n",
       "\n",
       "    .dataframe thead th {\n",
       "        text-align: right;\n",
       "    }\n",
       "</style>\n",
       "<table border=\"1\" class=\"dataframe\">\n",
       "  <thead>\n",
       "    <tr style=\"text-align: right;\">\n",
       "      <th></th>\n",
       "      <th>AAPL</th>\n",
       "    </tr>\n",
       "    <tr>\n",
       "      <th>Date</th>\n",
       "      <th></th>\n",
       "    </tr>\n",
       "  </thead>\n",
       "  <tbody>\n",
       "    <tr>\n",
       "      <th>2020-01-06 00:00:00+00:00</th>\n",
       "      <td>299.799988</td>\n",
       "    </tr>\n",
       "    <tr>\n",
       "      <th>2020-01-07 00:00:00+00:00</th>\n",
       "      <td>298.390015</td>\n",
       "    </tr>\n",
       "    <tr>\n",
       "      <th>2020-01-08 00:00:00+00:00</th>\n",
       "      <td>303.190002</td>\n",
       "    </tr>\n",
       "    <tr>\n",
       "      <th>2020-01-09 00:00:00+00:00</th>\n",
       "      <td>309.630005</td>\n",
       "    </tr>\n",
       "    <tr>\n",
       "      <th>2020-01-10 00:00:00+00:00</th>\n",
       "      <td>310.329987</td>\n",
       "    </tr>\n",
       "  </tbody>\n",
       "</table>\n",
       "</div>"
      ],
      "text/plain": [
       "                                 AAPL\n",
       "Date                                 \n",
       "2020-01-06 00:00:00+00:00  299.799988\n",
       "2020-01-07 00:00:00+00:00  298.390015\n",
       "2020-01-08 00:00:00+00:00  303.190002\n",
       "2020-01-09 00:00:00+00:00  309.630005\n",
       "2020-01-10 00:00:00+00:00  310.329987"
      ]
     },
     "execution_count": 25,
     "metadata": {},
     "output_type": "execute_result"
    }
   ],
   "source": [
    "data = data[['Adj Close']]\n",
    "data.columns = ['AAPL']\n",
    "data = data.tz_localize('UTC') # 마지막으로 DataFrame 객체의 인덱스 값을 협정 세계시(UTC)로 변경합니다.\n",
    "data.tail()"
   ]
  },
  {
   "cell_type": "markdown",
   "metadata": {},
   "source": [
    "As you can see, we first have to import some functions we would like to use. All functions commonly used in your algorithm can be found in zipline.api. Here we are using order() which takes two arguments: a security object, and a number specifying how many stocks you would like to order (if negative, order() will sell/short stocks). In this case we want to order 10 shares of Apple at each iteration. For more documentation on order(), see the Quantopian docs.\n",
    "\n",
    "Finally, the record() function allows you to save the value of a variable at each iteration. You provide it with a name for the variable together with the variable itself: varname=var. After the algorithm finished running you will have access to each variable value you tracked with record() under the name you provided (we will see this further below). You also see how we can access the current price data of the AAPL stock in the data event frame (for more information see here)."
   ]
  },
  {
   "cell_type": "markdown",
   "metadata": {},
   "source": [
    "### Running in Jupyter\n",
    "\n",
    "The IPython Notebook is a very powerful browser-based interface to a Python interpreter (this tutorial was written in it). As it is already the de-facto interface for most quantitative researchers zipline provides an easy way to run your algorithm inside the Notebook without requiring you to use the CLI.\n",
    "\n",
    "To use it you have to write your algorithm in a cell and let zipline know that it is supposed to run this algorithm. This is done via the %%zipline IPython magic command that is available after you import zipline from within the IPython Notebook. This magic takes the same arguments as the command line interface described above. Thus to run the algorithm from above with the same parameters we just have to execute the following cell after importing zipline to register the magic."
   ]
  },
  {
   "cell_type": "code",
   "execution_count": null,
   "metadata": {},
   "outputs": [],
   "source": []
  }
 ],
 "metadata": {
  "kernelspec": {
   "display_name": "Python 3",
   "language": "python",
   "name": "python3"
  },
  "language_info": {
   "codemirror_mode": {
    "name": "ipython",
    "version": 3
   },
   "file_extension": ".py",
   "mimetype": "text/x-python",
   "name": "python",
   "nbconvert_exporter": "python",
   "pygments_lexer": "ipython3",
   "version": "3.5.6"
  }
 },
 "nbformat": 4,
 "nbformat_minor": 4
}
