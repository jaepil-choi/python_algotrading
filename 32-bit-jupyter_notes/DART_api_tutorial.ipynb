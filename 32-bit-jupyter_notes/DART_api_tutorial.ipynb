{
 "cells": [
  {
   "cell_type": "markdown",
   "metadata": {},
   "source": [
    "# DART Open API를 이용해 기업 공시 정보를 가져온다. \n",
    "\n",
    "DART Open API 사용 연습\n",
    "\n",
    "해당 코드는 Python 3.5/3.7, 32bit/64bit 상관 없다. "
   ]
  },
  {
   "cell_type": "code",
   "execution_count": 149,
   "metadata": {},
   "outputs": [],
   "source": [
    "# -*- coding: utf-8 -*-\n",
    "\n",
    "from urllib.request import Request\n",
    "from urllib.request import urlopen\n",
    "from bs4 import BeautifulSoup as bs\n",
    "\n",
    "import re\n",
    "import json\n",
    "import xml.etree.ElementTree as elemTree\n",
    "import sys"
   ]
  },
  {
   "cell_type": "markdown",
   "metadata": {},
   "source": [
    "## DART Open API와 연결\n",
    "\n",
    "DART API에는 4가지 정보가 있고, 각 정보는 더 세부적으로 나뉜다. \n",
    "1. 공시정보\n",
    "2. 사업보고서 주요정보\n",
    "3. 상장기업 재무정보\n",
    "4. 지분공시 종합정보"
   ]
  },
  {
   "cell_type": "code",
   "execution_count": 4,
   "metadata": {},
   "outputs": [],
   "source": [
    "with open('./DART_password.txt', 'r') as f:\n",
    "    API_KEY = f.read()"
   ]
  },
  {
   "cell_type": "code",
   "execution_count": 5,
   "metadata": {},
   "outputs": [],
   "source": [
    "crtfc_key = '?crtfc_key=' + API_KEY"
   ]
  },
  {
   "cell_type": "markdown",
   "metadata": {},
   "source": [
    "1. 공시정보: \n",
    "    - 공시검색: 공시 유형별, 회사별, 날짜별 등 여러가지 조건으로 공시보고서 검색기능을 제공합니다.\n",
    "    - 기업개황: DART에 등록되어있는 기업의 개황정보를 제공합니다.\n",
    "    - 공시서류원본파일: 공시보고서 원본파일을 제공합니다.\n",
    "    - 고유번호: DART에 등록되어있는 공시대상회사의 고유번호,회사명,대표자명,종목코드, 최근변경일자를 파일로 제공합니다.\n",
    "\n",
    "기타 세부사항은 API doc에서 확인: https://opendart.fss.or.kr/guide/detail.do?apiGrpCd=DS001&apiId=2019001"
   ]
  },
  {
   "cell_type": "code",
   "execution_count": 134,
   "metadata": {},
   "outputs": [],
   "source": [
    "## 공시정보 base URLs\n",
    "\n",
    "DART_list_json = 'https://opendart.fss.or.kr/api/list.json' # 공시검색\n",
    "DART_company_json = 'https://opendart.fss.or.kr/api/company.json' # 기업개황\n",
    "DART_document_xml = 'https://opendart.fss.or.kr/api/document.xml' # 공시서류원본파일\n",
    "DART_corpCode_xml = 'https://opendart.fss.or.kr/api/corpCode.xml' # 고유번호"
   ]
  },
  {
   "cell_type": "code",
   "execution_count": 137,
   "metadata": {},
   "outputs": [],
   "source": [
    "def to_parameter(key, value):\n",
    "    return '&' + str(key) + '=' + str(value)"
   ]
  },
  {
   "cell_type": "code",
   "execution_count": 138,
   "metadata": {},
   "outputs": [],
   "source": [
    "def DART_annc_info(info_type, **kwargs):\n",
    "    parameters = ''\n",
    "    for k, v in kwargs.items():\n",
    "        parameters += to_parameter(k,v)\n",
    "    \n",
    "    if info_type == 'list':\n",
    "        return DART_list_json + crtfc_key + parameters\n",
    "    elif info_type == 'company':\n",
    "        return DART_company_json + crtfc_key + parameters\n",
    "    elif info_type == 'document':\n",
    "        return DART_document_xml + crtfc_key + parameters\n",
    "    elif info_type == 'corpCode':\n",
    "        return DART_corpCode_xml + crtfc_key + parameters\n",
    "    else:\n",
    "        print('Wrong info_type. Choose from:')\n",
    "        print('''\n",
    "        1. \"list\": 공시검색\n",
    "        2. \"company\": 기업개활\n",
    "        3. \"document\": 공시서류원본파일\n",
    "        4. \"corpCode\": 고유번호\n",
    "        ''')"
   ]
  },
  {
   "cell_type": "code",
   "execution_count": 158,
   "metadata": {},
   "outputs": [],
   "source": [
    "def DART_get_response(request_url):\n",
    "    req = urlopen(request_url)\n",
    "    response = req.read().decode('utf8')\n",
    "    \n",
    "    try:\n",
    "        result = ('json', json.loads(response))\n",
    "    except JSONDecodeError:\n",
    "        result = ('xml', elemTree.fromstring(response))\n",
    "    except:\n",
    "        print(\"An error occurred: \", sys.exc_info()[0])\n",
    "        return 0\n",
    "        \n",
    "    return result"
   ]
  },
  {
   "cell_type": "code",
   "execution_count": 166,
   "metadata": {},
   "outputs": [
    {
     "data": {
      "text/plain": [
       "'https://opendart.fss.or.kr/api/list.json?crtfc_key=407c1fe7fc7a1a183002c6d5f981408662cd879e&corp_code=00919966&bgn_de=20190801&end_de=20190815'"
      ]
     },
     "execution_count": 166,
     "metadata": {},
     "output_type": "execute_result"
    }
   ],
   "source": [
    "req_url = DART_annc_info('list', corp_code='00919966', bgn_de='20190801', end_de='20190815')\n",
    "req_url"
   ]
  },
  {
   "cell_type": "code",
   "execution_count": 167,
   "metadata": {},
   "outputs": [
    {
     "data": {
      "text/plain": [
       "('json',\n",
       " {'status': '000',\n",
       "  'message': '정상',\n",
       "  'page_no': 1,\n",
       "  'page_count': 10,\n",
       "  'total_count': 5,\n",
       "  'total_page': 1,\n",
       "  'list': [{'corp_code': '00919966',\n",
       "    'corp_name': '신라젠',\n",
       "    'stock_code': '215600',\n",
       "    'corp_cls': 'K',\n",
       "    'report_nm': '반기보고서 (2019.06)',\n",
       "    'rcept_no': '20190814002650',\n",
       "    'flr_nm': '신라젠',\n",
       "    'rcept_dt': '20190814',\n",
       "    'rm': ''},\n",
       "   {'corp_code': '00919966',\n",
       "    'corp_name': '신라젠',\n",
       "    'stock_code': '215600',\n",
       "    'corp_cls': 'K',\n",
       "    'report_nm': '임원ㆍ주요주주특정증권등소유상황보고서',\n",
       "    'rcept_no': '20190809000049',\n",
       "    'flr_nm': '송명석',\n",
       "    'rcept_dt': '20190809',\n",
       "    'rm': ''},\n",
       "   {'corp_code': '00919966',\n",
       "    'corp_name': '신라젠',\n",
       "    'stock_code': '215600',\n",
       "    'corp_cls': 'K',\n",
       "    'report_nm': '임원ㆍ주요주주특정증권등소유상황보고서',\n",
       "    'rcept_no': '20190809000045',\n",
       "    'flr_nm': '권혁찬',\n",
       "    'rcept_dt': '20190809',\n",
       "    'rm': ''},\n",
       "   {'corp_code': '00919966',\n",
       "    'corp_name': '신라젠',\n",
       "    'stock_code': '215600',\n",
       "    'corp_cls': 'K',\n",
       "    'report_nm': '임원ㆍ주요주주특정증권등소유상황보고서',\n",
       "    'rcept_no': '20190809000044',\n",
       "    'flr_nm': '문은상',\n",
       "    'rcept_dt': '20190809',\n",
       "    'rm': ''},\n",
       "   {'corp_code': '00919966',\n",
       "    'corp_name': '신라젠',\n",
       "    'stock_code': '215600',\n",
       "    'corp_cls': 'K',\n",
       "    'report_nm': '투자판단관련주요경영사항(펙사벡(JX-594)간암 대상 임상 3상시험(PHOCUS) 관려 무용성 평가 결과 확인)',\n",
       "    'rcept_no': '20190802900043',\n",
       "    'flr_nm': '신라젠',\n",
       "    'rcept_dt': '20190802',\n",
       "    'rm': '코'}]})"
      ]
     },
     "execution_count": 167,
     "metadata": {},
     "output_type": "execute_result"
    }
   ],
   "source": [
    "DART_get_response(req_url)"
   ]
  },
  {
   "cell_type": "markdown",
   "metadata": {},
   "source": [
    "## 공시시간 크롤링\n",
    "\n",
    "문의결과, DART API는 현재 공시시간 정보를 제공하지 않는다. (아직 시범운영기간임을 감안하긴 해야한다.)\n",
    "\n",
    "따라서, 최근 공시 페이지는 직접 크롤링하기로 하였다. 다소 번거롭지만 API에서 지원이 되기 전까진 DART API에서 기본적인 공시 정보를 가져오고, 분단위의 공시시간이 필요한 경우 해당 날짜의 최근 공시를 크롤링한 결과와 대조해 결과를 매칭시키도록 한다. "
   ]
  },
  {
   "cell_type": "markdown",
   "metadata": {},
   "source": [
    "<font style='color:red;'>TODO: 여러 날짜의 DailyAnnc 를 모아야한다. Class화 하는 것은 어떨까? 하지만 Class화 할 이유가 있을까? 고민해보자. </font>"
   ]
  },
  {
   "cell_type": "code",
   "execution_count": 186,
   "metadata": {},
   "outputs": [],
   "source": [
    "def get_recent_annc_list_bs(date):\n",
    "    date_regex = re.compile(r'^\\d{4}\\.\\d{2}\\.\\d{2}$')\n",
    "    if not date_regex.match(date):\n",
    "        print(\"Error: Date format should be - yyyy.mm.dd\")\n",
    "        return 0\n",
    "    \n",
    "    recent_annc_url = 'http://dart.fss.or.kr/dsac001/mainK.do?selectDate={date}&sort=&series=&mdayCnt=0#'.format(date=date)\n",
    "    recent_annc_req = urlopen(recent_annc_url)\n",
    "    recent_annc_bs = bs(recent_annc_req, 'html.parser')\n",
    "    \n",
    "    recent_annc_list_bs = recent_annc_bs.select('div.table_list > table > tr')\n",
    "    \n",
    "    return recent_annc_list_bs"
   ]
  },
  {
   "cell_type": "markdown",
   "metadata": {},
   "source": [
    "재밌는 사실. 이 소스코드엔 애초에 tbody가 없었다. 그래서 한참 헤맸다. \n",
    "\n",
    "Chrome selector에선 #listContents > div.table_list > table > tbody > tr:nth-child(1) 라고 나왔지만 이는 브라우저가 insert시킨 것이다. 이런 점을 고려하여 selector를 써야한다. 무조건 Chrome에서 copy selector 한다고 되지 않는다. \n",
    "\n",
    "관련: https://stackoverflow.com/questions/20522820/how-to-get-tbody-from-table-from-python-beautiful-soup"
   ]
  },
  {
   "cell_type": "code",
   "execution_count": 288,
   "metadata": {},
   "outputs": [],
   "source": [
    "def annc_bs2data(annc_bs):\n",
    "    annc_time_regex = re.compile(r'\\d\\d:\\d\\d')\n",
    "    annc_time = annc_bs.find('td', attrs={'class':'cen_txt'}).text\n",
    "    annc_time = annc_time_regex.search(annc_time).group()\n",
    "    \n",
    "    corp_code_regex = re.compile(r'\\d{8}')\n",
    "    corp_code = annc_bs.find('span', {'class':'nobr1'}).a.attrs['onclick']\n",
    "    corp_code = corp_code_regex.search(corp_code).group()\n",
    "    \n",
    "    annc_content_regex = re.compile(r'openReportViewer')\n",
    "    annc_content = annc_bs.find('a', attrs={'onclick':annc_content_regex})  \n",
    "    \n",
    "    annc_title_regex = re.compile('\\\\\\\\.')\n",
    "    annc_content_text = annc_content.text \n",
    "    str_text = \"%r\"%annc_content_text # raw string으로 변환시켜줘야 \\t가 tab으로 인식되지 않는다. \n",
    "    raw_text = str_text[1:-1]\n",
    "    \n",
    "    annc_title = re.sub(annc_title_regex, '', raw_text).strip() \n",
    "    \n",
    "    annc_id_regex = re.compile(r'\\d+')\n",
    "    annc_id = annc_id_regex.search(annc_content.attrs['id']).group()\n",
    "    \n",
    "    data = {}\n",
    "    data['annc_time'] = annc_time\n",
    "    data['corp_code'] = corp_code\n",
    "    data['annc_title'] = annc_title\n",
    "    data['annc_id'] = annc_id\n",
    "    \n",
    "    return data"
   ]
  },
  {
   "cell_type": "markdown",
   "metadata": {},
   "source": [
    "<font style='color:red'>TODO: raw string으로 바꾸는 부분, 전혀 원리를 모르겠다. </font>"
   ]
  },
  {
   "cell_type": "code",
   "execution_count": 290,
   "metadata": {},
   "outputs": [
    {
     "name": "stdout",
     "output_type": "stream",
     "text": [
      "{'annc_time': '17:54', 'corp_code': '00347877', 'annc_title': '[기재정정]주주총회소집결의', 'annc_id': '20190802900517'}\n",
      "---------------\n",
      "{'annc_time': '17:50', 'corp_code': '00373021', 'annc_title': '[기재정정]주요사항보고서(유형자산양도결정)', 'annc_id': '20190802000461'}\n",
      "---------------\n",
      "{'annc_time': '17:47', 'corp_code': '00486097', 'annc_title': '영업(잠정)실적(공정공시)', 'annc_id': '20190802900512'}\n",
      "---------------\n",
      "{'annc_time': '17:46', 'corp_code': '00486097', 'annc_title': '연결재무제표기준영업(잠정)실적(공정공시)', 'annc_id': '20190802900511'}\n",
      "---------------\n",
      "{'annc_time': '17:46', 'corp_code': '00806972', 'annc_title': '[기재정정]유형자산취득결정(자율공시)', 'annc_id': '20190802900510'}\n",
      "---------------\n",
      "{'annc_time': '17:46', 'corp_code': '00127954', 'annc_title': '기업설명회(IR)개최', 'annc_id': '20190802900509'}\n",
      "---------------\n",
      "{'annc_time': '17:46', 'corp_code': '00127954', 'annc_title': '기업설명회(IR)개최', 'annc_id': '20190802900508'}\n",
      "---------------\n",
      "{'annc_time': '17:46', 'corp_code': '00127954', 'annc_title': '기업설명회(IR)개최', 'annc_id': '20190802900505'}\n",
      "---------------\n",
      "{'annc_time': '17:33', 'corp_code': '01063884', 'annc_title': '주권매매거래정지  (불성실공시법인 지정)', 'annc_id': '20190802900500'}\n",
      "---------------\n",
      "{'annc_time': '17:30', 'corp_code': '01063884', 'annc_title': '불성실공시법인지정  (공시번복, 공시불이행)', 'annc_id': '20190802900498'}\n",
      "---------------\n",
      "{'annc_time': '17:27', 'corp_code': '00410739', 'annc_title': '불성실공시법인지정  (공시불이행)', 'annc_id': '20190802900495'}\n",
      "---------------\n",
      "{'annc_time': '17:27', 'corp_code': '00626011', 'annc_title': '조회공시요구(현저한시황변동)에대한답변(중요정보없음)', 'annc_id': '20190802900491'}\n",
      "---------------\n",
      "{'annc_time': '17:19', 'corp_code': '00957568', 'annc_title': '임시주주총회결과', 'annc_id': '20190802900455'}\n",
      "---------------\n",
      "{'annc_time': '17:19', 'corp_code': '00243979', 'annc_title': '전환사채(해외전환사채포함)발행후만기전사채취득  (제10,11회차)', 'annc_id': '20190802900482'}\n",
      "---------------\n",
      "{'annc_time': '17:19', 'corp_code': '00159290', 'annc_title': '주주총회소집결의', 'annc_id': '20190802900477'}\n",
      "---------------\n",
      "{'annc_time': '17:16', 'corp_code': '00255105', 'annc_title': '사외이사의선임ㆍ해임또는중도퇴임에관한신고', 'annc_id': '20190802000433'}\n",
      "---------------\n",
      "{'annc_time': '17:15', 'corp_code': '00255105', 'annc_title': '임시주주총회결과', 'annc_id': '20190802900471'}\n",
      "---------------\n",
      "{'annc_time': '17:06', 'corp_code': '00551920', 'annc_title': '연결재무제표기준영업(잠정)실적(공정공시)', 'annc_id': '20190802900441'}\n",
      "---------------\n",
      "{'annc_time': '17:04', 'corp_code': '00601641', 'annc_title': '전환가액의조정  (제6회차)', 'annc_id': '20190802900451'}\n",
      "---------------\n",
      "{'annc_time': '17:02', 'corp_code': '00243979', 'annc_title': '단기차입금증가결정', 'annc_id': '20190802900432'}\n",
      "---------------\n",
      "{'annc_time': '17:01', 'corp_code': '00255105', 'annc_title': '전환가액의조정  (제19,20,21회차)', 'annc_id': '20190802900440'}\n",
      "---------------\n",
      "{'annc_time': '16:53', 'corp_code': '00177870', 'annc_title': '조회공시요구(풍문또는보도)에대한답변(부인)', 'annc_id': '20190802900434'}\n",
      "---------------\n",
      "{'annc_time': '16:42', 'corp_code': '00579999', 'annc_title': '[기재정정]연결재무제표기준영업(잠정)실적(공정공시)', 'annc_id': '20190802900408'}\n",
      "---------------\n",
      "{'annc_time': '16:38', 'corp_code': '00180865', 'annc_title': '합병등종료보고서  (자산양수도)', 'annc_id': '20190802000384'}\n",
      "---------------\n",
      "{'annc_time': '16:36', 'corp_code': '00298687', 'annc_title': '기타시장안내  (상장적격성 실질심사 관련 절차 안내)', 'annc_id': '20190802900288'}\n",
      "---------------\n",
      "{'annc_time': '16:28', 'corp_code': '00180865', 'annc_title': '[기재정정]주요사항보고서(타법인주식및출자증권양도결정)', 'annc_id': '20190802000368'}\n",
      "---------------\n",
      "{'annc_time': '16:11', 'corp_code': '01267222', 'annc_title': '[기재정정]증권신고서(지분증권)', 'annc_id': '20190802000341'}\n",
      "---------------\n",
      "{'annc_time': '16:00', 'corp_code': '00453929', 'annc_title': '영업(잠정)실적(공정공시)', 'annc_id': '20190802900324'}\n",
      "---------------\n",
      "{'annc_time': '15:50', 'corp_code': '00347062', 'annc_title': '연결재무제표기준영업(잠정)실적(공정공시)', 'annc_id': '20190802900332'}\n",
      "---------------\n",
      "{'annc_time': '15:49', 'corp_code': '00111218', 'annc_title': '주권매매거래정지기간변경  (액면병합 주권 변경상장)', 'annc_id': '20190802900328'}\n",
      "---------------\n",
      "{'annc_time': '15:43', 'corp_code': '01168684', 'annc_title': '기업설명회(IR)개최', 'annc_id': '20190802900320'}\n",
      "---------------\n",
      "{'annc_time': '15:37', 'corp_code': '00562360', 'annc_title': '전환가액의조정', 'annc_id': '20190802900315'}\n",
      "---------------\n",
      "{'annc_time': '15:30', 'corp_code': '01359736', 'annc_title': '반기보고서 (2019.06)', 'annc_id': '20190802000279'}\n",
      "---------------\n",
      "{'annc_time': '15:29', 'corp_code': '01170865', 'annc_title': '전환청구권행사  (제1회차)', 'annc_id': '20190802900298'}\n",
      "---------------\n",
      "{'annc_time': '14:59', 'corp_code': '00232089', 'annc_title': '[첨부추가]주요사항보고서(전환사채권발행결정)', 'annc_id': '20180126000146'}\n",
      "---------------\n",
      "{'annc_time': '14:54', 'corp_code': '00818472', 'annc_title': '[첨부정정]주요사항보고서(유상증자결정)', 'annc_id': '20190802000235'}\n",
      "---------------\n",
      "{'annc_time': '14:53', 'corp_code': '00549891', 'annc_title': '신규시설투자등', 'annc_id': '20190802900267'}\n",
      "---------------\n",
      "{'annc_time': '14:52', 'corp_code': '00454937', 'annc_title': '전환가액의조정  (제1회차)', 'annc_id': '20190802900268'}\n",
      "---------------\n",
      "{'annc_time': '14:39', 'corp_code': '00359395', 'annc_title': '주식명의개서정지(주주명부폐쇄)', 'annc_id': '20190802900243'}\n",
      "---------------\n",
      "{'annc_time': '14:34', 'corp_code': '00232089', 'annc_title': '[첨부추가]주요사항보고서(전환사채권발행결정)', 'annc_id': '20180405002300'}\n",
      "---------------\n",
      "{'annc_time': '14:32', 'corp_code': '00129615', 'annc_title': '[기재정정]투자설명서', 'annc_id': '20190802000207'}\n",
      "---------------\n",
      "{'annc_time': '14:31', 'corp_code': '00129615', 'annc_title': '[발행조건확정]증권신고서(지분증권)', 'annc_id': '20190802000205'}\n",
      "---------------\n",
      "{'annc_time': '14:30', 'corp_code': '00809517', 'annc_title': '주식명의개서정지(주주명부폐쇄)', 'annc_id': '20190802900240'}\n",
      "---------------\n",
      "{'annc_time': '14:30', 'corp_code': '00809517', 'annc_title': '주주총회소집결의', 'annc_id': '20190802900239'}\n",
      "---------------\n",
      "{'annc_time': '14:30', 'corp_code': '00129615', 'annc_title': '[기재정정]주요사항보고서(유상증자결정)', 'annc_id': '20190802000200'}\n",
      "---------------\n",
      "{'annc_time': '14:18', 'corp_code': '00129615', 'annc_title': '유상증자최종발행가액확정', 'annc_id': '20190802900232'}\n",
      "---------------\n",
      "{'annc_time': '14:18', 'corp_code': '00180263', 'annc_title': '증권발행결과(자율공시)  (제5회차 CB)', 'annc_id': '20190802900227'}\n",
      "---------------\n",
      "{'annc_time': '14:04', 'corp_code': '00938688', 'annc_title': '기업설명회(IR)개최', 'annc_id': '20190802900211'}\n",
      "---------------\n",
      "{'annc_time': '13:37', 'corp_code': '00806972', 'annc_title': '대표이사변경', 'annc_id': '20190802900174'}\n",
      "---------------\n",
      "{'annc_time': '13:30', 'corp_code': '00244419', 'annc_title': '[기재정정]주요사항보고서(유형자산양수결정)', 'annc_id': '20190802000168'}\n",
      "---------------\n",
      "{'annc_time': '13:27', 'corp_code': '00244419', 'annc_title': '[첨부추가]주요사항보고서(유형자산양수결정)', 'annc_id': '20190731000382'}\n",
      "---------------\n",
      "{'annc_time': '13:12', 'corp_code': '01236532', 'annc_title': '기업인수목적회사의예치ㆍ신탁계약내용변경', 'annc_id': '20190802900167'}\n",
      "---------------\n",
      "{'annc_time': '12:06', 'corp_code': '00365934', 'annc_title': '영업(잠정)실적(공정공시)', 'annc_id': '20190802900159'}\n",
      "---------------\n",
      "{'annc_time': '11:00', 'corp_code': '00609315', 'annc_title': '임시주주총회결과', 'annc_id': '20190802900128'}\n",
      "---------------\n",
      "{'annc_time': '10:42', 'corp_code': '00641171', 'annc_title': '기업설명회(IR)개최', 'annc_id': '20190802900120'}\n",
      "---------------\n",
      "{'annc_time': '10:42', 'corp_code': '00155586', 'annc_title': '증권발행결과(자율공시)  (일반공모 유상증자)', 'annc_id': '20190802900112'}\n",
      "---------------\n",
      "{'annc_time': '10:42', 'corp_code': '00820352', 'annc_title': '단일판매ㆍ공급계약체결', 'annc_id': '20190802900111'}\n",
      "---------------\n",
      "{'annc_time': '10:34', 'corp_code': '00155586', 'annc_title': '소액공모실적보고서', 'annc_id': '20190802000088'}\n",
      "---------------\n",
      "{'annc_time': '10:01', 'corp_code': '00122339', 'annc_title': '[기재정정]대표집행임원변경', 'annc_id': '20190802900094'}\n",
      "---------------\n",
      "{'annc_time': '09:52', 'corp_code': '00818472', 'annc_title': '주식명의개서정지(주주명부폐쇄)', 'annc_id': '20190802900084'}\n",
      "---------------\n",
      "{'annc_time': '09:44', 'corp_code': '00105040', 'annc_title': '주주총회소집공고', 'annc_id': '20190802000049'}\n",
      "---------------\n",
      "{'annc_time': '09:30', 'corp_code': '00545114', 'annc_title': '영업(잠정)실적(공정공시)', 'annc_id': '20190802900080'}\n",
      "---------------\n",
      "{'annc_time': '09:03', 'corp_code': '00201788', 'annc_title': '조회공시요구(현저한시황변동)에대한답변(중요정보없음)', 'annc_id': '20190802900062'}\n",
      "---------------\n",
      "{'annc_time': '08:23', 'corp_code': '00919966', 'annc_title': '투자판단관련주요경영사항  (펙사벡(JX-594)간암 대상 임상 3상시험(PHOCUS) 관려 무용성 평가 결과 확인)', 'annc_id': '20190802900043'}\n",
      "---------------\n",
      "{'annc_time': '07:30', 'corp_code': '00359395', 'annc_title': '[기재정정]투자설명서', 'annc_id': '20190801000445'}\n",
      "---------------\n"
     ]
    }
   ],
   "source": [
    "annc_20190802 = get_recent_acc_list_bs('2019.08.02')\n",
    "\n",
    "for i in annc_20190802:\n",
    "    print(annc_bs2data(i))\n",
    "    print(\"---\"*5)"
   ]
  }
 ],
 "metadata": {
  "kernelspec": {
   "display_name": "Python 3",
   "language": "python",
   "name": "python3"
  },
  "language_info": {
   "codemirror_mode": {
    "name": "ipython",
    "version": 3
   },
   "file_extension": ".py",
   "mimetype": "text/x-python",
   "name": "python",
   "nbconvert_exporter": "python",
   "pygments_lexer": "ipython3",
   "version": "3.7.5"
  }
 },
 "nbformat": 4,
 "nbformat_minor": 4
}
