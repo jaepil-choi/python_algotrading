{
 "cells": [
  {
   "cell_type": "markdown",
   "metadata": {},
   "source": [
    "# DART Open API를 이용해 기업 공시 정보를 가져온다. \n",
    "\n",
    "DART Open API 사용 연습\n",
    "\n",
    "해당 코드는 Python 3.5/3.7, 32bit/64bit 상관 없다. "
   ]
  },
  {
   "cell_type": "code",
   "execution_count": 7,
   "metadata": {},
   "outputs": [],
   "source": [
    "# -*- coding: utf-8 -*-\n",
    "\n",
    "from urllib.request import Request\n",
    "from urllib.request import urlopen\n",
    "from bs4 import BeautifulSoup as bs\n",
    "\n",
    "import re"
   ]
  },
  {
   "cell_type": "markdown",
   "metadata": {},
   "source": [
    "## DART Open API와 연결"
   ]
  },
  {
   "cell_type": "code",
   "execution_count": 2,
   "metadata": {},
   "outputs": [],
   "source": [
    "with open('./DART_password.txt', 'r') as f:\n",
    "    API_KEY = f.read()"
   ]
  },
  {
   "cell_type": "code",
   "execution_count": 6,
   "metadata": {},
   "outputs": [],
   "source": [
    "crtfc_key = '?crtfc_key=' + API_KEY"
   ]
  },
  {
   "cell_type": "markdown",
   "metadata": {},
   "source": [
    "- 공시정보 목록\n",
    "    - 공시검색: 공시 유형별, 회사별, 날짜별 등 여러가지 조건으로 공시보고서 검색기능을 제공합니다.\n",
    "    - 기업개황: DART에 등록되어있는 기업의 개황정보를 제공합니다.\n",
    "    - 공시서류원본파일: 공시보고서 원본파일을 제공합니다.\n",
    "    - 고유번호: DART에 등록되어있는 공시대상회사의 고유번호,회사명,대표자명,종목코드, 최근변경일자를 파일로 제공합니다."
   ]
  },
  {
   "cell_type": "code",
   "execution_count": 4,
   "metadata": {},
   "outputs": [],
   "source": [
    "## 공시정보 base URLs\n",
    "\n",
    "DART_list_json = 'https://opendart.fss.or.kr/api/list.json' # 공시검색\n",
    "DART_company_json = 'https://opendart.fss.or.kr/api/company.json' # 기업개황\n",
    "DART_document_xml = 'https://opendart.fss.or.kr/api/document.xml' # 공시서류원본파일\n",
    "DART_corpCode_xml = 'https://opendart.fss.or.kr/api/corpCode.xml' # 고유번호"
   ]
  },
  {
   "cell_type": "markdown",
   "metadata": {},
   "source": [
    "TEST response"
   ]
  },
  {
   "cell_type": "code",
   "execution_count": 9,
   "metadata": {},
   "outputs": [],
   "source": [
    "url = DART_list_json + crtfc_key + '&corp_code=215600&bgn_de=20190117&end_de=20200117&page_no=1&page_count=10'.format(crtfc_key)"
   ]
  },
  {
   "cell_type": "code",
   "execution_count": 28,
   "metadata": {},
   "outputs": [],
   "source": [
    "req = urlopen(url)"
   ]
  },
  {
   "cell_type": "code",
   "execution_count": 29,
   "metadata": {},
   "outputs": [
    {
     "data": {
      "text/plain": [
       "'{\"status\":\"000\",\"message\":\"정상\",\"page_no\":1,\"page_count\":10,\"total_count\":53,\"total_page\":6,\"list\":[{\"corp_code\":\"00919966\",\"corp_name\":\"신라젠\",\"stock_code\":\"215600\",\"corp_cls\":\"K\",\"report_nm\":\"주식명의개서정지(주주명부폐쇄)\",\"rcept_no\":\"20191216900607\",\"flr_nm\":\"신라젠\",\"rcept_dt\":\"20191216\",\"rm\":\"코\"},{\"corp_code\":\"00919966\",\"corp_name\":\"신라젠\",\"stock_code\":\"215600\",\"corp_cls\":\"K\",\"report_nm\":\"주식등의대량보유상황보고서(일반)\",\"rcept_no\":\"20191213000531\",\"flr_nm\":\"문은상\",\"rcept_dt\":\"20191213\",\"rm\":\"\"},{\"corp_code\":\"00919966\",\"corp_name\":\"신라젠\",\"stock_code\":\"215600\",\"corp_cls\":\"K\",\"report_nm\":\"주식등의대량보유상황보고서(약식)\",\"rcept_no\":\"20191206000517\",\"flr_nm\":\"BlackRockFundAdvisors\",\"rcept_dt\":\"20191206\",\"rm\":\"\"},{\"corp_code\":\"00919966\",\"corp_name\":\"신라젠\",\"stock_code\":\"215600\",\"corp_cls\":\"K\",\"report_nm\":\"분기보고서 (2019.09)\",\"rcept_no\":\"20191114002458\",\"flr_nm\":\"신라젠\",\"rcept_dt\":\"20191114\",\"rm\":\"\"},{\"corp_code\":\"00919966\",\"corp_name\":\"신라젠\",\"stock_code\":\"215600\",\"corp_cls\":\"K\",\"report_nm\":\"전환사채(해외전환사채포함)발행후만기전사채취득(제30회차)\",\"rcept_no\":\"20191031900629\",\"flr_nm\":\"신라젠\",\"rcept_dt\":\"20191031\",\"rm\":\"코\"},{\"corp_code\":\"00919966\",\"corp_name\":\"신라젠\",\"stock_code\":\"215600\",\"corp_cls\":\"K\",\"report_nm\":\"임원ㆍ주요주주특정증권등소유상황보고서\",\"rcept_no\":\"20191024000323\",\"flr_nm\":\"문은상\",\"rcept_dt\":\"20191024\",\"rm\":\"\"},{\"corp_code\":\"00919966\",\"corp_name\":\"신라젠\",\"stock_code\":\"215600\",\"corp_cls\":\"K\",\"report_nm\":\"주요사항보고서(자기주식처분결정)\",\"rcept_no\":\"20191023000438\",\"flr_nm\":\"신라젠\",\"rcept_dt\":\"20191023\",\"rm\":\"\"},{\"corp_code\":\"00919966\",\"corp_name\":\"신라젠\",\"stock_code\":\"215600\",\"corp_cls\":\"K\",\"report_nm\":\"주요사항보고서(자기주식취득결정)\",\"rcept_no\":\"20191023000404\",\"flr_nm\":\"신라젠\",\"rcept_dt\":\"20191023\",\"rm\":\"\"},{\"corp_code\":\"00919966\",\"corp_name\":\"신라젠\",\"stock_code\":\"215600\",\"corp_cls\":\"K\",\"report_nm\":\"주식등의대량보유상황보고서(약식)\",\"rcept_no\":\"20191004000127\",\"flr_nm\":\"BlackRockFundAdvisors\",\"rcept_dt\":\"20191004\",\"rm\":\"\"},{\"corp_code\":\"00919966\",\"corp_name\":\"신라젠\",\"stock_code\":\"215600\",\"corp_cls\":\"K\",\"report_nm\":\"임원ㆍ주요주주특정증권등소유상황보고서\",\"rcept_no\":\"20191002000544\",\"flr_nm\":\"CHOIJIWONSARAH\",\"rcept_dt\":\"20191002\",\"rm\":\"\"}]}'"
      ]
     },
     "execution_count": 29,
     "metadata": {},
     "output_type": "execute_result"
    }
   ],
   "source": [
    "data = req.read().decode('utf8')\n",
    "data"
   ]
  },
  {
   "cell_type": "code",
   "execution_count": null,
   "metadata": {},
   "outputs": [],
   "source": []
  }
 ],
 "metadata": {
  "kernelspec": {
   "display_name": "Python 3",
   "language": "python",
   "name": "python3"
  },
  "language_info": {
   "codemirror_mode": {
    "name": "ipython",
    "version": 3
   },
   "file_extension": ".py",
   "mimetype": "text/x-python",
   "name": "python",
   "nbconvert_exporter": "python",
   "pygments_lexer": "ipython3",
   "version": "3.7.5"
  }
 },
 "nbformat": 4,
 "nbformat_minor": 4
}
