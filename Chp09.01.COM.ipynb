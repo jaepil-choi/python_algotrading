{
 "cells": [
  {
   "cell_type": "markdown",
   "metadata": {},
   "source": [
    "COM이란 마이크로소프트에서 개발한 기술입니다. Component Object Model이라는 용어가 의미하듯이 여러 컴포넌트 객체를 이용해 프로그램을 개발하는 모델을 의미합니다. 컨테이너를 이용해 집을 지으면 쉽고 빨리 집을 지을 수 있는 것처럼 프로그램을 개발할 때도 특정 기능을 위해 개발된 Component Object를 이용하면 프로그램을 더 쉽고 빠르게 개발할 수 있습니다.\n",
    "\n",
    "참고로 컴포넌트 객체란 파이썬으로 치면 클래스로부터 만들어지는 객체와 같은 것이라 이해하면 됩니다. 여기까지만 본다면 COM이라는 기술의 개념은 기존의 객체지향 프로그래밍과 크게 다르지 않습니다. 그러나 COM은 여기서 더 나아가 프로그래밍 언어와 상관없이 개발된 객체를 사용할 수 있게 해줍니다. 예를 들어, COM을 이용하면 C++ 같은 프로그래밍 언어로 개발된 객체도 파이썬에서 사용할 수 있게 됩니다."
   ]
  },
  {
   "cell_type": "code",
   "execution_count": 1,
   "metadata": {},
   "outputs": [],
   "source": [
    "class CpStockCode:\n",
    "    def __init__(self):\n",
    "        self.stocks = {'유한양행':'A000100'}\n",
    "    def get_count(self):\n",
    "        return len(self.stocks)\n",
    "    def name_to_code(self, name):\n",
    "        return self.stocks[name]"
   ]
  },
  {
   "cell_type": "markdown",
   "metadata": {},
   "source": [
    "앞서 파이썬으로 구현된 CpStockCode 클래스에 대한 인스턴스를 생성할 때는 단순히 'instCpStockCode = CpStockCode()'와 같이 클래스 이름에 ()를 붙였습니다. 그러나 파이썬이 아닌 다른 프로그래밍 언어로 구현된 클래스에 대한 인스턴스는 파이썬에서 어떻게 생성할 수 있을까요?\n",
    "\n",
    "파이썬에서 다른 프로그래밍 언어로 작성된 COM 객체를 생성하려면 win32com.client라는 모듈의 Dispatch 메서드를 사용하면 됩니다. 예를 들어, 마이크로소프트의 인터넷 익스플로러에 대한 객체를 생성하려면 다음과 같이 구현하면 됩니다."
   ]
  },
  {
   "cell_type": "code",
   "execution_count": 7,
   "metadata": {},
   "outputs": [],
   "source": [
    "import win32com.client\n",
    "\n",
    "explore = win32com.client.Dispatch(\"InternetExplorer.Application\") # 빈 인터넷 익스플로러가 열린다. \n",
    "explore.Visible = True # 이렇게 해야 '보인다'."
   ]
  },
  {
   "cell_type": "code",
   "execution_count": 8,
   "metadata": {},
   "outputs": [],
   "source": [
    "word = win32com.client.Dispatch(\"Word.Application\")\n",
    "word.Visible = True # 마찬가지로 빈 워드가 뜬다. (오피스365인데도 잘 뜸.) 비었기 때문에 입력 공간도 없다. "
   ]
  },
  {
   "cell_type": "markdown",
   "metadata": {},
   "source": [
    "엑셀이 화면에 나타났으니 이제 엑셀에 글자를 출력해 봅시다. 아마도 엑셀을 사용할 때 항상 Worksheet에서부터 시작했을 것입니다. 엑셀에는 여러 개의 Worksheet를 포함하는 상위 개념으로 Workbook이 있습니다. 즉, 엑셀 프로그램을 실행하면 Workbook이 자동으로 생성되고 'Sheet1'이라는 이름의 Worksheet가 자동으로 생성됩니다.\n",
    "\n",
    "COM을 사용해 파이썬 코드로 엑셀을 직접 컨트롤할 때도 Workbook과 Worksheet의 관계를 고려해야 합니다. 먼저 Workbook을 추가한 후 해당 Workbook에서 'Sheet1'이라는 Worksheet를 선택합니다."
   ]
  },
  {
   "cell_type": "code",
   "execution_count": 19,
   "metadata": {},
   "outputs": [
    {
     "name": "stdout",
     "output_type": "stream",
     "text": [
      "Hello World!\n"
     ]
    }
   ],
   "source": [
    "import os\n",
    "\n",
    "excel = win32com.client.Dispatch(\"Excel.Application\")\n",
    "excel.Visible = True\n",
    "wb = excel.Workbooks.Add()\n",
    "ws = wb.Worksheets(\"Sheet1\") # 이제 평소 쓰듯 새 통합문서가 나온다. \n",
    "ws.Cells(1,1).Value = 'Hello World!' # 셀에 value가 입력된다. \n",
    "wb.SaveAs(os.getcwd()+'\\\\helloworld.xlsx') #현위치에 저장. \n",
    "\n",
    "wb = excel.Workbooks.Open(os.getcwd()+'\\\\helloworld.xlsx') # 엑셀파일을 연다. \n",
    "ws = wb.ActiveSheet\n",
    "print(ws.Cells(1,1).Value)\n",
    "excel.Quit()"
   ]
  },
  {
   "cell_type": "markdown",
   "metadata": {},
   "source": [
    "써보니, 직접 워드 엑셀 등을 열어 진행하기 때문에 단순 데이터 처리를 한다면 비효율적일 수 있다. 하지만 중간 단계에 뭐가 막히면 마우스로 처리해주고 계속 진행될 수 있다. \n",
    "\n",
    "찾아보니, 꼭 win32com을 이용하지 않더라도 엑셀을 쓴다면 다른 라이브러리를 쓸 수도 있다. \n",
    "\n",
    "가령 XlsxWriter + pandas 조합 가능. https://xlsxwriter.readthedocs.io/index.html\n",
    "\n",
    "이외에도 셀의 색상을 변경하는 등 다른 오퍼레이션도 가능하다. "
   ]
  }
 ],
 "metadata": {
  "kernelspec": {
   "display_name": "Python 3",
   "language": "python",
   "name": "python3"
  },
  "language_info": {
   "codemirror_mode": {
    "name": "ipython",
    "version": 3
   },
   "file_extension": ".py",
   "mimetype": "text/x-python",
   "name": "python",
   "nbconvert_exporter": "python",
   "pygments_lexer": "ipython3",
   "version": "3.5.6"
  }
 },
 "nbformat": 4,
 "nbformat_minor": 4
}
