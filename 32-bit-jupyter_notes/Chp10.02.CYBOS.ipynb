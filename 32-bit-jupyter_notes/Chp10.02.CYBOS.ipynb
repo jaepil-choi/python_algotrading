{
 "cells": [
  {
   "cell_type": "markdown",
   "metadata": {},
   "source": [
    "관리자 권한으로 실행되어야 한다. "
   ]
  },
  {
   "cell_type": "code",
   "execution_count": 1,
   "metadata": {},
   "outputs": [],
   "source": [
    "import win32com.client"
   ]
  },
  {
   "cell_type": "code",
   "execution_count": 3,
   "metadata": {},
   "outputs": [
    {
     "name": "stdout",
     "output_type": "stream",
     "text": [
      "1\n"
     ]
    }
   ],
   "source": [
    "instCpCybos = win32com.client.Dispatch(\"CpUtil.CpCybos\")\n",
    "print(instCpCybos.IsConnect) # 1이면 성공"
   ]
  },
  {
   "cell_type": "markdown",
   "metadata": {},
   "source": [
    "유가증권시장과 코스닥(KOSDAQ) 시장에는 많은 수의 종목이 상장돼 있습니다. 이뿐만 아니라 2013년 후반부터는 코넥스(KONEX)라고 하는 중소기업 전용 시장도 설립됐습니다. 그렇다면 국내 증권시장에 상장된 주식 종목은 총 몇 개일까요?\n",
    "\n",
    "CYBOS Plus API를 이용해 이 질문의 답을 찾아보겠습니다. CYBOS Plus 도움말 파일을 참조하면 CpUtil 모듈에 CpStockCode라는 클래스가 있는데, CpStockCode 클래스는 표 10.1과 같은 주요 메서드를 갖고 있습니다. 이 가운데 GetCount라는 메서드의 기능을 살펴보니 종목 코드의 개수를 반환하는 것을 확인할 수 있습니다."
   ]
  },
  {
   "cell_type": "markdown",
   "metadata": {},
   "source": [
    "CpStockCode 클래스의 GetCount 메서드를 사용하려면 다른 COM 객체와 마찬가지로 win32com.client 모듈을 이용해 CpStockCode 클래스에 대한 인스턴스를 생성한 후 메서드를 호출하면 됩니다. 다음은 GetCount 메서드를 호출하는 파이썬 코드입니다."
   ]
  },
  {
   "cell_type": "code",
   "execution_count": 4,
   "metadata": {},
   "outputs": [
    {
     "name": "stdout",
     "output_type": "stream",
     "text": [
      "3255\n"
     ]
    }
   ],
   "source": [
    "instCpStockCode = win32com.client.Dispatch(\"CpUtil.CpStockCode\")\n",
    "print(instCpStockCode.GetCount())"
   ]
  },
  {
   "cell_type": "markdown",
   "metadata": {},
   "source": [
    "위 코드를 실행해 결괏값을 확인해보니 '2800'이라는 값이 반환됐습니다. 참고로 이 값은 증권 시장에 새롭게 종목이 상장되거나 폐지됨에 따라 달라집니다. 또한 GetCount를 통해 리턴된 값은 시장에 상장된 종목뿐 아니라 주식 시장에는 상장되지 않는 종목도 일부 포함하고 있어 실제 상장 종목 수보다 크게 출력됩니다."
   ]
  },
  {
   "cell_type": "markdown",
   "metadata": {},
   "source": [
    "각 인덱스에 해당하는 종목에 대한 데이터를 얻기 위해서는 표 10.1에서 설명한 GetData 메서드를 사용하면 됩니다. GetData 메서드는 두 개의 인자를 받는데, 첫 번째 인자로 0, 1, 2 중 하나의 값을 받습니다. 첫 번째 인자의 값이 0이면 종목 코드를, 1이면 종목명을, 2면 FullCode를 리턴합니다.\n",
    "\n",
    "예를 들어, 0번 인덱스에 위치하는 종목의 종목명을 확인하려면 다음과 같이 코드를 작성하면 됩니다."
   ]
  },
  {
   "cell_type": "code",
   "execution_count": 6,
   "metadata": {},
   "outputs": [
    {
     "name": "stdout",
     "output_type": "stream",
     "text": [
      "동화약품\n"
     ]
    }
   ],
   "source": [
    "print(instCpStockCode.GetData(1,0)) # 첫 인자값이 1이면 종목명"
   ]
  },
  {
   "cell_type": "code",
   "execution_count": 8,
   "metadata": {},
   "outputs": [
    {
     "name": "stdout",
     "output_type": "stream",
     "text": [
      "A000020\n"
     ]
    }
   ],
   "source": [
    "print(instCpStockCode.GetData(0,0)) # 첫 인자값이 0이면 종목코드"
   ]
  },
  {
   "cell_type": "markdown",
   "metadata": {},
   "source": [
    "이번에는 프로그래밍 난이도를 좀 더 올려 NAVER라는 종목의 종목 코드를 출력하는 프로그램을 작성해 봅시다. 네이버의 종목명은 영문으로 'NAVER'입니다. 종목의 총 개수가 2,800이었으므로 'NAVER'는 0~2,799의 인덱스 중 어딘가에 있을 것입니다. 그러나 문제는 네이버의 인덱스가 몇 번인지 모른다는 점입니다.\n",
    "\n",
    "사실 CpStockCode 클래스에는 종목명을 이용해 종목 코드를 구하는 NameToCode 메서드가 있습니다. 그리고 종목 코드를 이용해 인덱스를 구하는 CodeToIndex 메서드도 있습니다. 즉, 예제 10.2의 코드와 같이 반복문을 사용하지 않고도 종목명을 정확히 알고 있다면 다음과 같이 구현할 수도 있습니다."
   ]
  },
  {
   "cell_type": "code",
   "execution_count": 10,
   "metadata": {},
   "outputs": [
    {
     "name": "stdout",
     "output_type": "stream",
     "text": [
      "A035420\n",
      "885\n"
     ]
    }
   ],
   "source": [
    "naverCode = instCpStockCode.NameToCode('NAVER')\n",
    "naverIndex = instCpStockCode.CodeToIndex(naverCode)\n",
    "\n",
    "print(naverCode)\n",
    "print(naverIndex)"
   ]
  }
 ],
 "metadata": {
  "kernelspec": {
   "display_name": "Python 3",
   "language": "python",
   "name": "python3"
  },
  "language_info": {
   "codemirror_mode": {
    "name": "ipython",
    "version": 3
   },
   "file_extension": ".py",
   "mimetype": "text/x-python",
   "name": "python",
   "nbconvert_exporter": "python",
   "pygments_lexer": "ipython3",
   "version": "3.7.5"
  }
 },
 "nbformat": 4,
 "nbformat_minor": 4
}
