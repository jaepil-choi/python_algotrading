{
 "cells": [
  {
   "cell_type": "code",
   "execution_count": 10,
   "metadata": {},
   "outputs": [],
   "source": [
    "import pandas as pd\n",
    "import pandas_datareader as web\n",
    "import matplotlib.pyplot as plt"
   ]
  },
  {
   "cell_type": "code",
   "execution_count": 3,
   "metadata": {},
   "outputs": [
    {
     "data": {
      "text/html": [
       "<div>\n",
       "<style scoped>\n",
       "    .dataframe tbody tr th:only-of-type {\n",
       "        vertical-align: middle;\n",
       "    }\n",
       "\n",
       "    .dataframe tbody tr th {\n",
       "        vertical-align: top;\n",
       "    }\n",
       "\n",
       "    .dataframe thead th {\n",
       "        text-align: right;\n",
       "    }\n",
       "</style>\n",
       "<table border=\"1\" class=\"dataframe\">\n",
       "  <thead>\n",
       "    <tr style=\"text-align: right;\">\n",
       "      <th></th>\n",
       "      <th>High</th>\n",
       "      <th>Low</th>\n",
       "      <th>Open</th>\n",
       "      <th>Close</th>\n",
       "      <th>Volume</th>\n",
       "      <th>Adj Close</th>\n",
       "    </tr>\n",
       "    <tr>\n",
       "      <th>Date</th>\n",
       "      <th></th>\n",
       "      <th></th>\n",
       "      <th></th>\n",
       "      <th></th>\n",
       "      <th></th>\n",
       "      <th></th>\n",
       "    </tr>\n",
       "  </thead>\n",
       "  <tbody>\n",
       "    <tr>\n",
       "      <th>2019-01-07</th>\n",
       "      <td>50700.0</td>\n",
       "      <td>49600.0</td>\n",
       "      <td>49650.0</td>\n",
       "      <td>50300.0</td>\n",
       "      <td>118533.0</td>\n",
       "      <td>50300.0</td>\n",
       "    </tr>\n",
       "    <tr>\n",
       "      <th>2019-01-08</th>\n",
       "      <td>50600.0</td>\n",
       "      <td>49650.0</td>\n",
       "      <td>50500.0</td>\n",
       "      <td>49900.0</td>\n",
       "      <td>112218.0</td>\n",
       "      <td>49900.0</td>\n",
       "    </tr>\n",
       "    <tr>\n",
       "      <th>2019-01-09</th>\n",
       "      <td>51200.0</td>\n",
       "      <td>49750.0</td>\n",
       "      <td>49800.0</td>\n",
       "      <td>50500.0</td>\n",
       "      <td>118926.0</td>\n",
       "      <td>50500.0</td>\n",
       "    </tr>\n",
       "    <tr>\n",
       "      <th>2019-01-10</th>\n",
       "      <td>51300.0</td>\n",
       "      <td>50500.0</td>\n",
       "      <td>50600.0</td>\n",
       "      <td>51000.0</td>\n",
       "      <td>202894.0</td>\n",
       "      <td>51000.0</td>\n",
       "    </tr>\n",
       "    <tr>\n",
       "      <th>2019-01-11</th>\n",
       "      <td>51500.0</td>\n",
       "      <td>50700.0</td>\n",
       "      <td>51000.0</td>\n",
       "      <td>51300.0</td>\n",
       "      <td>77631.0</td>\n",
       "      <td>51300.0</td>\n",
       "    </tr>\n",
       "  </tbody>\n",
       "</table>\n",
       "</div>"
      ],
      "text/plain": [
       "               High      Low     Open    Close    Volume  Adj Close\n",
       "Date                                                               \n",
       "2019-01-07  50700.0  49600.0  49650.0  50300.0  118533.0    50300.0\n",
       "2019-01-08  50600.0  49650.0  50500.0  49900.0  112218.0    49900.0\n",
       "2019-01-09  51200.0  49750.0  49800.0  50500.0  118926.0    50500.0\n",
       "2019-01-10  51300.0  50500.0  50600.0  51000.0  202894.0    51000.0\n",
       "2019-01-11  51500.0  50700.0  51000.0  51300.0   77631.0    51300.0"
      ]
     },
     "execution_count": 3,
     "metadata": {},
     "output_type": "execute_result"
    }
   ],
   "source": [
    "gs = web.DataReader('078930.KS', 'yahoo', '2018-01-01', '2019-01-11')\n",
    "gs.tail()"
   ]
  },
  {
   "cell_type": "code",
   "execution_count": 6,
   "metadata": {},
   "outputs": [
    {
     "data": {
      "text/plain": [
       "Date\n",
       "2019-01-07    49600.0\n",
       "2019-01-08    49260.0\n",
       "2019-01-09    49660.0\n",
       "2019-01-10    50190.0\n",
       "2019-01-11    50600.0\n",
       "Name: Adj Close, dtype: float64"
      ]
     },
     "execution_count": 6,
     "metadata": {},
     "output_type": "execute_result"
    }
   ],
   "source": [
    "ma5 = gs['Adj Close'].rolling(window=5).mean()\n",
    "ma5.tail()"
   ]
  },
  {
   "cell_type": "markdown",
   "metadata": {},
   "source": [
    "tail 메서드의 리턴 값을 표 13.2에서 계산한 주가이동평균과 비교해보면 2016-03-01부터 값이 다른 것을 확인할 수 있습니다. 3월 1일은 삼일절로 공휴일이기 때문에 주식시장이 열리지 않습니다. 따라서 해당 일의 로우 데이터는 DataFrame 객체에서 빼고 계산해야 합니다.\n",
    "\n",
    "공휴일처럼 주식 시장이 열리지 않았던 일자의 데이터를 DataFrame 객체에서 제거하기 위해 먼저 gs.tail()을 사용해 해당 일의 데이터의 특징을 살펴봅시다. 2016-03-01 로우를 살펴보면 거래량(Volume)이 0인 것을 확인할 수 있습니다."
   ]
  },
  {
   "cell_type": "code",
   "execution_count": 7,
   "metadata": {},
   "outputs": [
    {
     "data": {
      "text/html": [
       "<div>\n",
       "<style scoped>\n",
       "    .dataframe tbody tr th:only-of-type {\n",
       "        vertical-align: middle;\n",
       "    }\n",
       "\n",
       "    .dataframe tbody tr th {\n",
       "        vertical-align: top;\n",
       "    }\n",
       "\n",
       "    .dataframe thead th {\n",
       "        text-align: right;\n",
       "    }\n",
       "</style>\n",
       "<table border=\"1\" class=\"dataframe\">\n",
       "  <thead>\n",
       "    <tr style=\"text-align: right;\">\n",
       "      <th></th>\n",
       "      <th>High</th>\n",
       "      <th>Low</th>\n",
       "      <th>Open</th>\n",
       "      <th>Close</th>\n",
       "      <th>Volume</th>\n",
       "      <th>Adj Close</th>\n",
       "    </tr>\n",
       "    <tr>\n",
       "      <th>Date</th>\n",
       "      <th></th>\n",
       "      <th></th>\n",
       "      <th></th>\n",
       "      <th></th>\n",
       "      <th></th>\n",
       "      <th></th>\n",
       "    </tr>\n",
       "  </thead>\n",
       "  <tbody>\n",
       "    <tr>\n",
       "      <th>2019-01-07</th>\n",
       "      <td>50700.0</td>\n",
       "      <td>49600.0</td>\n",
       "      <td>49650.0</td>\n",
       "      <td>50300.0</td>\n",
       "      <td>118533.0</td>\n",
       "      <td>50300.0</td>\n",
       "    </tr>\n",
       "    <tr>\n",
       "      <th>2019-01-08</th>\n",
       "      <td>50600.0</td>\n",
       "      <td>49650.0</td>\n",
       "      <td>50500.0</td>\n",
       "      <td>49900.0</td>\n",
       "      <td>112218.0</td>\n",
       "      <td>49900.0</td>\n",
       "    </tr>\n",
       "    <tr>\n",
       "      <th>2019-01-09</th>\n",
       "      <td>51200.0</td>\n",
       "      <td>49750.0</td>\n",
       "      <td>49800.0</td>\n",
       "      <td>50500.0</td>\n",
       "      <td>118926.0</td>\n",
       "      <td>50500.0</td>\n",
       "    </tr>\n",
       "    <tr>\n",
       "      <th>2019-01-10</th>\n",
       "      <td>51300.0</td>\n",
       "      <td>50500.0</td>\n",
       "      <td>50600.0</td>\n",
       "      <td>51000.0</td>\n",
       "      <td>202894.0</td>\n",
       "      <td>51000.0</td>\n",
       "    </tr>\n",
       "    <tr>\n",
       "      <th>2019-01-11</th>\n",
       "      <td>51500.0</td>\n",
       "      <td>50700.0</td>\n",
       "      <td>51000.0</td>\n",
       "      <td>51300.0</td>\n",
       "      <td>77631.0</td>\n",
       "      <td>51300.0</td>\n",
       "    </tr>\n",
       "  </tbody>\n",
       "</table>\n",
       "</div>"
      ],
      "text/plain": [
       "               High      Low     Open    Close    Volume  Adj Close\n",
       "Date                                                               \n",
       "2019-01-07  50700.0  49600.0  49650.0  50300.0  118533.0    50300.0\n",
       "2019-01-08  50600.0  49650.0  50500.0  49900.0  112218.0    49900.0\n",
       "2019-01-09  51200.0  49750.0  49800.0  50500.0  118926.0    50500.0\n",
       "2019-01-10  51300.0  50500.0  50600.0  51000.0  202894.0    51000.0\n",
       "2019-01-11  51500.0  50700.0  51000.0  51300.0   77631.0    51300.0"
      ]
     },
     "execution_count": 7,
     "metadata": {},
     "output_type": "execute_result"
    }
   ],
   "source": [
    "new_gs = gs[gs['Volume'] != 0]\n",
    "new_gs.tail()"
   ]
  },
  {
   "cell_type": "code",
   "execution_count": 9,
   "metadata": {},
   "outputs": [
    {
     "data": {
      "text/html": [
       "<div>\n",
       "<style scoped>\n",
       "    .dataframe tbody tr th:only-of-type {\n",
       "        vertical-align: middle;\n",
       "    }\n",
       "\n",
       "    .dataframe tbody tr th {\n",
       "        vertical-align: top;\n",
       "    }\n",
       "\n",
       "    .dataframe thead th {\n",
       "        text-align: right;\n",
       "    }\n",
       "</style>\n",
       "<table border=\"1\" class=\"dataframe\">\n",
       "  <thead>\n",
       "    <tr style=\"text-align: right;\">\n",
       "      <th></th>\n",
       "      <th>High</th>\n",
       "      <th>Low</th>\n",
       "      <th>Open</th>\n",
       "      <th>Close</th>\n",
       "      <th>Volume</th>\n",
       "      <th>Adj Close</th>\n",
       "      <th>MA5</th>\n",
       "    </tr>\n",
       "    <tr>\n",
       "      <th>Date</th>\n",
       "      <th></th>\n",
       "      <th></th>\n",
       "      <th></th>\n",
       "      <th></th>\n",
       "      <th></th>\n",
       "      <th></th>\n",
       "      <th></th>\n",
       "    </tr>\n",
       "  </thead>\n",
       "  <tbody>\n",
       "    <tr>\n",
       "      <th>2019-01-07</th>\n",
       "      <td>50700.0</td>\n",
       "      <td>49600.0</td>\n",
       "      <td>49650.0</td>\n",
       "      <td>50300.0</td>\n",
       "      <td>118533.0</td>\n",
       "      <td>50300.0</td>\n",
       "      <td>49600.0</td>\n",
       "    </tr>\n",
       "    <tr>\n",
       "      <th>2019-01-08</th>\n",
       "      <td>50600.0</td>\n",
       "      <td>49650.0</td>\n",
       "      <td>50500.0</td>\n",
       "      <td>49900.0</td>\n",
       "      <td>112218.0</td>\n",
       "      <td>49900.0</td>\n",
       "      <td>49260.0</td>\n",
       "    </tr>\n",
       "    <tr>\n",
       "      <th>2019-01-09</th>\n",
       "      <td>51200.0</td>\n",
       "      <td>49750.0</td>\n",
       "      <td>49800.0</td>\n",
       "      <td>50500.0</td>\n",
       "      <td>118926.0</td>\n",
       "      <td>50500.0</td>\n",
       "      <td>49660.0</td>\n",
       "    </tr>\n",
       "    <tr>\n",
       "      <th>2019-01-10</th>\n",
       "      <td>51300.0</td>\n",
       "      <td>50500.0</td>\n",
       "      <td>50600.0</td>\n",
       "      <td>51000.0</td>\n",
       "      <td>202894.0</td>\n",
       "      <td>51000.0</td>\n",
       "      <td>50190.0</td>\n",
       "    </tr>\n",
       "    <tr>\n",
       "      <th>2019-01-11</th>\n",
       "      <td>51500.0</td>\n",
       "      <td>50700.0</td>\n",
       "      <td>51000.0</td>\n",
       "      <td>51300.0</td>\n",
       "      <td>77631.0</td>\n",
       "      <td>51300.0</td>\n",
       "      <td>50600.0</td>\n",
       "    </tr>\n",
       "  </tbody>\n",
       "</table>\n",
       "</div>"
      ],
      "text/plain": [
       "               High      Low     Open    Close    Volume  Adj Close      MA5\n",
       "Date                                                                        \n",
       "2019-01-07  50700.0  49600.0  49650.0  50300.0  118533.0    50300.0  49600.0\n",
       "2019-01-08  50600.0  49650.0  50500.0  49900.0  112218.0    49900.0  49260.0\n",
       "2019-01-09  51200.0  49750.0  49800.0  50500.0  118926.0    50500.0  49660.0\n",
       "2019-01-10  51300.0  50500.0  50600.0  51000.0  202894.0    51000.0  50190.0\n",
       "2019-01-11  51500.0  50700.0  51000.0  51300.0   77631.0    51300.0  50600.0"
      ]
     },
     "execution_count": 9,
     "metadata": {},
     "output_type": "execute_result"
    }
   ],
   "source": [
    "new_gs.insert(len(new_gs.columns), 'MA5', ma5)\n",
    "new_gs.tail()"
   ]
  },
  {
   "cell_type": "markdown",
   "metadata": {},
   "source": [
    "계산된 5일 주가이동평균 값을 좀 더 쉽게 관리하기 위해 DataFrame 객체의 새로운 칼럼으로 추가해봅시다. DataFrame에 칼럼을 추가하려면 insert 메서드를 사용하면 됩니다. insert 메서드의 첫 번째 인자로는 칼럼이 추가될 위치를, 두 번째 인자로는 칼럼의 이름을, 세 번째 인자로는 DataFrame 객체에 추가할 데이터를 전달하면 됩니다."
   ]
  },
  {
   "cell_type": "markdown",
   "metadata": {},
   "source": [
    "범례를 표시하기 위해 legend 함수를 호출합니다. 이때 loc 인자를 통해 범례 표시 위치를 지정할 수 있습니다. 범례가 적절한 위치에 자동으로 출력되게 하려면 loc='best' 옵션을 사용하면 됩니다. 또한 그래프의 값을 좀 더 편리하게 확인하기 위한 격자(grid)를 표시하려면 grid 함수를 호출하면 됩니다."
   ]
  },
  {
   "cell_type": "code",
   "execution_count": 12,
   "metadata": {},
   "outputs": [
    {
     "data": {
      "image/png": "[encoded data removed]",
      "text/plain": [
       "<Figure size 432x288 with 1 Axes>"
      ]
     },
     "metadata": {
      "needs_background": "light"
     },
     "output_type": "display_data"
    }
   ],
   "source": [
    "plt.plot(new_gs.index, new_gs['Adj Close'], label='Adj Close')\n",
    "plt.plot(new_gs.index, new_gs['MA5'], label='MA5')\n",
    "\n",
    "plt.legend(loc='best')\n",
    "plt.grid()"
   ]
  },
  {
   "cell_type": "code",
   "execution_count": null,
   "metadata": {},
   "outputs": [],
   "source": []
  }
 ],
 "metadata": {
  "kernelspec": {
   "display_name": "Python 3",
   "language": "python",
   "name": "python3"
  },
  "language_info": {
   "codemirror_mode": {
    "name": "ipython",
    "version": 3
   },
   "file_extension": ".py",
   "mimetype": "text/x-python",
   "name": "python",
   "nbconvert_exporter": "python",
   "pygments_lexer": "ipython3",
   "version": "3.5.6"
  }
 },
 "nbformat": 4,
 "nbformat_minor": 4
}
